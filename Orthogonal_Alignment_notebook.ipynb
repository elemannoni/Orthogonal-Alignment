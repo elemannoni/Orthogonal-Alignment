{
  "cells": [
    {
      "cell_type": "markdown",
      "source": [
        "## Inizializzazione"
      ],
      "metadata": {
        "id": "DFs08n-RmZGV"
      }
    },
    {
      "cell_type": "code",
      "source": [
        "!git clone https://github.com/elemannoni/Orthogonal-Alignment.git\n",
        "%cd Orthogonal-Alignment"
      ],
      "metadata": {
        "colab": {
          "base_uri": "https://localhost:8080/"
        },
        "id": "QLuBi34wQ14e",
        "outputId": "1729212c-29ab-41d6-fb18-3a8854045ce4"
      },
      "execution_count": 1,
      "outputs": [
        {
          "output_type": "stream",
          "name": "stdout",
          "text": [
            "Cloning into 'Orthogonal-Alignment'...\n",
            "remote: Enumerating objects: 224, done.\u001b[K\n",
            "remote: Counting objects: 100% (58/58), done.\u001b[K\n",
            "remote: Compressing objects: 100% (57/57), done.\u001b[K\n",
            "remote: Total 224 (delta 33), reused 5 (delta 1), pack-reused 166 (from 1)\u001b[K\n",
            "Receiving objects: 100% (224/224), 509.14 KiB | 1.92 MiB/s, done.\n",
            "Resolving deltas: 100% (109/109), done.\n",
            "/content/Orthogonal-Alignment\n"
          ]
        }
      ]
    },
    {
      "cell_type": "code",
      "execution_count": 2,
      "metadata": {
        "id": "yucMP7Y7qh_M"
      },
      "outputs": [],
      "source": [
        "import torch\n",
        "import random\n",
        "import torch.nn as nn\n",
        "import torch.nn.functional as F\n",
        "import matplotlib.pyplot as plt\n",
        "import copy\n",
        "from tabulate import tabulate"
      ]
    },
    {
      "cell_type": "code",
      "execution_count": 3,
      "metadata": {
        "id": "HSZtXNv604b8"
      },
      "outputs": [],
      "source": [
        "class SpecDataset(torch.utils.data.Dataset):\n",
        "  def __init__(self, pairs):\n",
        "    super().__init__()\n",
        "    self.pairs = pairs\n",
        "\n",
        "  def __len__(self):\n",
        "    return len(self.pairs)\n",
        "\n",
        "  def __getitem__(self, idx):\n",
        "    return {\"x\":self.pairs[idx][0], \"y\":self.pairs[idx][1]}"
      ]
    },
    {
      "cell_type": "code",
      "source": [
        "seed = 2019\n",
        "random.seed(seed)"
      ],
      "metadata": {
        "id": "8XDifEu8g8DN"
      },
      "execution_count": 4,
      "outputs": []
    },
    {
      "cell_type": "code",
      "source": [
        "cuda = False\n",
        "device = \"cuda\" if torch.cuda.is_available() and cuda else \"cpu\""
      ],
      "metadata": {
        "id": "Yrdbv7gGtFo5"
      },
      "execution_count": 5,
      "outputs": []
    },
    {
      "cell_type": "markdown",
      "source": [
        "**Creazione dei DataLoader**\n",
        "\n",
        "Per la gestione del dataset utilizzo la funzione *create_dataloaders*, definita nel file dataset_BreastCancer.py nella cartella src della repository.  \n",
        "\n",
        "Questa funzione prepara i DataLoader per tre modelli distinti, restituendo per ognuno train e validation set.Il Dataloader per il test primi due modelli è invece comune.\n",
        "\n",
        "\n",
        "In particoalre, la funzione:\n",
        "- **Scarica automaticamente** il dataset *BreastCancer* dal repository pubblico di Hugging Face (*datasets*).\n",
        "- **Converte i campioni** in coppie (features, label), dove le features sono tensori float32 e le labels long.\n",
        "- **Suddivide i dati** in training, validation e test set utilizzando un seed per assicurare la riproducibilità dello split.\n",
        "- **Incorpora i dati** in un dataset personalizzato *SpecDataset* (anche questo presente nel file dataset_BreastCancer.py), derivato da *torch.utils.data.Dataset*, che restituisce ogni campione come dizionario {\"x\": ..., \"y\": ...}.\n",
        "- **Crea i DataLoader** di training, validation e test con *torch.utils.data.DataLoader*, parametrizzati dalla batch_size e con shuffle attivo solo in training.\n",
        "\n",
        "Input della funzione:\n",
        "- seed(int): per controllare lo split casuale dei dati.\n",
        "- batch_size(int)`: per determinare la dimensione dei batch.\n",
        "\n",
        "Gli output della funzione sono:\n",
        "- una tupla (train_dataloader1, val_dataloader1)\n",
        "- una seconda tupla (train_dataloader2, val_dataloader2)\n",
        "- il test_dataloader\n",
        "- un'ultima tupla (train_dataloader3, val_dataloader3)"
      ],
      "metadata": {
        "id": "g92gqDy3c2t-"
      }
    },
    {
      "cell_type": "code",
      "source": [
        "from src.dataset_BreastCancer import create_dataloaders\n",
        "\n",
        "train_val1, train_val2, test_dataloader, train_val3 = create_dataloaders(seed= 2019 , batch_size = 32)\n",
        "train_dataloader1 = train_val1[0]\n",
        "val_dataloader1 = train_val1[1]\n",
        "train_dataloader2 = train_val2[0]\n",
        "val_dataloader2 = train_val2[1]\n"
      ],
      "metadata": {
        "id": "D_HCCzlNFUVN",
        "colab": {
          "base_uri": "https://localhost:8080/",
          "height": 237,
          "referenced_widgets": [
            "771c93961b8c4873967b218cb7645e61",
            "d4fd1c3d814c42d0b6e6b1e2c9b57585",
            "b4552558da564f9b8e7e10b936af5c73",
            "e4ecbb7270384a3f85d50368441f7ba7",
            "34451d906bc7473aa30fad6b88ecf8f3",
            "08a3bbf22998443c8a7fc429bcbf6a7b",
            "446dc01e415c4140b4f57bd9230b0354",
            "e933b36424414cb986573784eb0e245d",
            "6c603a18ab814befbf837bfb83fd3138",
            "38a8fd29cee747cfaa19f78e7948356a",
            "d60c4d5be55a4eb38fe6dd0af90ded6e",
            "41c79578f5fd482ab6154fa16b1faa93",
            "41b2a1be9dc144d6935aaa6e44f1754b",
            "b575b56623214f339800e6740fb3e5e3",
            "489c843e6258467689265774e68da1ae",
            "15530199e2884c6ab60da1ed8abede43",
            "4141dbfd81d74c41b4db4ea60e8319ce",
            "07e4191cf2e145bf9cfdbe463538dd3f",
            "2958b4d0a0564551b28cc9987cfcb8d1",
            "e1d8a3ea0d014ae8b0a68d445163e123",
            "2531644d02bf4e1f933cbc93c88ea164",
            "c265b3d26c224b1192c48b96288dba70",
            "c83b77ad08b64475af6ac902612cbf75",
            "001c30486a9d4d7f877d6d13af484898",
            "2040e3d7590447d990173c2d19294abb",
            "adf6cc8042f04aa88ecf032c62d747fe",
            "0165e52d84aa44f495fa670bb1fd9030",
            "cf5786eba63843ab930cdd56d42164d4",
            "412b58621fcf4feca5751b9d34543706",
            "b3fbe0ac315d461a84fadc127d4ad9b9",
            "31f9d0a095e5427cb9ed844f515212f1",
            "a5ab844bad574ed6b13ea466033b8a98",
            "0fc878bfba194a6e873b709f34f4c932"
          ]
        },
        "outputId": "f80c7088-d0f7-4c83-fabe-892e03e8bf55"
      },
      "execution_count": 6,
      "outputs": [
        {
          "output_type": "stream",
          "name": "stderr",
          "text": [
            "/usr/local/lib/python3.12/dist-packages/huggingface_hub/utils/_auth.py:94: UserWarning: \n",
            "The secret `HF_TOKEN` does not exist in your Colab secrets.\n",
            "To authenticate with the Hugging Face Hub, create a token in your settings tab (https://huggingface.co/settings/tokens), set it as secret in your Google Colab and restart your session.\n",
            "You will be able to reuse this secret in all of your notebooks.\n",
            "Please note that authentication is recommended but still optional to access public models or datasets.\n",
            "  warnings.warn(\n"
          ]
        },
        {
          "output_type": "display_data",
          "data": {
            "text/plain": [
              "README.md: 0.00B [00:00, ?B/s]"
            ],
            "application/vnd.jupyter.widget-view+json": {
              "version_major": 2,
              "version_minor": 0,
              "model_id": "771c93961b8c4873967b218cb7645e61"
            }
          },
          "metadata": {}
        },
        {
          "output_type": "display_data",
          "data": {
            "text/plain": [
              "breast_cancer.csv: 0.00B [00:00, ?B/s]"
            ],
            "application/vnd.jupyter.widget-view+json": {
              "version_major": 2,
              "version_minor": 0,
              "model_id": "41c79578f5fd482ab6154fa16b1faa93"
            }
          },
          "metadata": {}
        },
        {
          "output_type": "display_data",
          "data": {
            "text/plain": [
              "Generating train split:   0%|          | 0/569 [00:00<?, ? examples/s]"
            ],
            "application/vnd.jupyter.widget-view+json": {
              "version_major": 2,
              "version_minor": 0,
              "model_id": "c83b77ad08b64475af6ac902612cbf75"
            }
          },
          "metadata": {}
        }
      ]
    },
    {
      "cell_type": "code",
      "source": [
        "from src.models import MLP_4"
      ],
      "metadata": {
        "id": "H9L-2xXA24ac"
      },
      "execution_count": 7,
      "outputs": []
    },
    {
      "cell_type": "markdown",
      "source": [
        "```\n",
        "class MLP_4(nn.Module):\n",
        "    def __init__(self):\n",
        "        super().__init__()\n",
        "        self.fc = nn.Sequential(\n",
        "            nn.Linear(30, 1024),\n",
        "            nn.ReLU(),\n",
        "            nn.Linear(1024, 1024),\n",
        "            nn.ReLU(),\n",
        "            nn.Linear(1024, 512),\n",
        "            nn.ReLU(),\n",
        "            nn.Linear(512, 2)\n",
        "        )\n",
        "\n",
        "    def forward(self, x):\n",
        "        return self.fc(x)\n",
        "```"
      ],
      "metadata": {
        "id": "-KKYE67jHS_p"
      }
    },
    {
      "cell_type": "code",
      "source": [
        "torch.manual_seed(26)\n",
        "model1 = MLP_4().to(device)\n",
        "torch.manual_seed(394)\n",
        "model2 = MLP_4().to(device)"
      ],
      "metadata": {
        "id": "MGscZWVW3Kn3"
      },
      "execution_count": 8,
      "outputs": []
    },
    {
      "cell_type": "code",
      "source": [
        "torch.manual_seed(seed)"
      ],
      "metadata": {
        "id": "Wjn5KkS_ipFf",
        "outputId": "306dd52e-4b8e-4dea-8a47-3d3a8712158b",
        "colab": {
          "base_uri": "https://localhost:8080/"
        }
      },
      "execution_count": 9,
      "outputs": [
        {
          "output_type": "execute_result",
          "data": {
            "text/plain": [
              "<torch._C.Generator at 0x7e1d41807f70>"
            ]
          },
          "metadata": {},
          "execution_count": 9
        }
      ]
    },
    {
      "cell_type": "markdown",
      "metadata": {
        "id": "T61i0qq05_wA"
      },
      "source": [
        "##Models"
      ]
    },
    {
      "cell_type": "markdown",
      "source": [
        "**Training loop**\n",
        "\n",
        "Per l’addestramento del modello utilizzo la funzione *train_loop*, definita nel file train.py nella cartella src della repository che svolge un classico loop Pytorch di training.  \n",
        "\n",
        "In particolare:\n",
        "- **Valuation:**  \n",
        "  All’inizio di ogni epoca, il modello viene posto in modalità eval() e viene calcolata la loss media sul validation set in *torch.no_grad* (senza calcolare gradienti).\n",
        "\n",
        "- **Training:**  \n",
        "  Successivamente, il modello viene posto in modalità train().  \n",
        "  Per ogni batch del training set:\n",
        "  - effettua un forward pass del modello,\n",
        "  - calcola la loss con la CrossEntropy\n",
        "  - fa backpropagation (loss.backward())\n",
        "  - aggiorna i pesi del modello (optimizer.step()).\n",
        "  Viene poi calcolata la loss media di training per l'epoca.\n",
        "\n",
        "- **Output:**  \n",
        "  Alla fine di ogni epoca stampa a schermo la loss media di training e validazione\n",
        "\n",
        "Input della funzione:\n",
        "- train_dataloader, val_dataloader\n",
        "- model: modello PyTorch da addestrare\n",
        "- loss_fn: funzione di loss\n",
        "- optimizer: ottimizzatore per l’aggiornamento dei pesi\n",
        "- epochs: numero di epoche di addestramento\n",
        "- tr_losses, val_losses: liste su cui verranno salvate le loss"
      ],
      "metadata": {
        "id": "SAPl2fsGkAyt"
      }
    },
    {
      "cell_type": "code",
      "source": [
        "from src.train import train_loop"
      ],
      "metadata": {
        "id": "bkcLw5NNH1L_"
      },
      "execution_count": 10,
      "outputs": []
    },
    {
      "cell_type": "code",
      "source": [
        "max_epochs = 30\n",
        "learning_rate = 5e-4"
      ],
      "metadata": {
        "id": "B-Mq0veJi6k7"
      },
      "execution_count": 11,
      "outputs": []
    },
    {
      "cell_type": "code",
      "execution_count": 12,
      "metadata": {
        "id": "tzlnfyJq1oxL",
        "collapsed": true,
        "outputId": "a6ac3e4f-61f2-4660-9afd-080e690ab27a",
        "colab": {
          "base_uri": "https://localhost:8080/"
        }
      },
      "outputs": [
        {
          "output_type": "stream",
          "name": "stderr",
          "text": [
            "100%|██████████| 13/13 [00:00<00:00, 19.89it/s]"
          ]
        },
        {
          "output_type": "stream",
          "name": "stdout",
          "text": [
            "Epoch 1/30 - Train Loss: 12.8424 - Val Loss: 11.6498\n"
          ]
        },
        {
          "output_type": "stream",
          "name": "stderr",
          "text": [
            "\n",
            "100%|██████████| 13/13 [00:00<00:00, 22.19it/s]"
          ]
        },
        {
          "output_type": "stream",
          "name": "stdout",
          "text": [
            "Epoch 2/30 - Train Loss: 1.6388 - Val Loss: 3.4758\n"
          ]
        },
        {
          "output_type": "stream",
          "name": "stderr",
          "text": [
            "\n",
            "100%|██████████| 13/13 [00:00<00:00, 22.01it/s]"
          ]
        },
        {
          "output_type": "stream",
          "name": "stdout",
          "text": [
            "Epoch 3/30 - Train Loss: 0.4250 - Val Loss: 0.5124\n"
          ]
        },
        {
          "output_type": "stream",
          "name": "stderr",
          "text": [
            "\n",
            "100%|██████████| 13/13 [00:00<00:00, 22.41it/s]"
          ]
        },
        {
          "output_type": "stream",
          "name": "stdout",
          "text": [
            "Epoch 4/30 - Train Loss: 0.4610 - Val Loss: 0.5958\n"
          ]
        },
        {
          "output_type": "stream",
          "name": "stderr",
          "text": [
            "\n",
            "100%|██████████| 13/13 [00:00<00:00, 22.58it/s]"
          ]
        },
        {
          "output_type": "stream",
          "name": "stdout",
          "text": [
            "Epoch 5/30 - Train Loss: 0.5793 - Val Loss: 0.4021\n"
          ]
        },
        {
          "output_type": "stream",
          "name": "stderr",
          "text": [
            "\n",
            "100%|██████████| 13/13 [00:00<00:00, 24.38it/s]"
          ]
        },
        {
          "output_type": "stream",
          "name": "stdout",
          "text": [
            "Epoch 6/30 - Train Loss: 0.4197 - Val Loss: 0.8561\n"
          ]
        },
        {
          "output_type": "stream",
          "name": "stderr",
          "text": [
            "\n",
            "100%|██████████| 13/13 [00:00<00:00, 25.44it/s]"
          ]
        },
        {
          "output_type": "stream",
          "name": "stdout",
          "text": [
            "Epoch 7/30 - Train Loss: 0.2444 - Val Loss: 0.1663\n"
          ]
        },
        {
          "output_type": "stream",
          "name": "stderr",
          "text": [
            "\n",
            "100%|██████████| 13/13 [00:00<00:00, 20.13it/s]"
          ]
        },
        {
          "output_type": "stream",
          "name": "stdout",
          "text": [
            "Epoch 8/30 - Train Loss: 0.2379 - Val Loss: 0.2115\n"
          ]
        },
        {
          "output_type": "stream",
          "name": "stderr",
          "text": [
            "\n",
            "100%|██████████| 13/13 [00:00<00:00, 15.90it/s]"
          ]
        },
        {
          "output_type": "stream",
          "name": "stdout",
          "text": [
            "Epoch 9/30 - Train Loss: 0.3063 - Val Loss: 0.1928\n"
          ]
        },
        {
          "output_type": "stream",
          "name": "stderr",
          "text": [
            "\n",
            "100%|██████████| 13/13 [00:00<00:00, 15.61it/s]"
          ]
        },
        {
          "output_type": "stream",
          "name": "stdout",
          "text": [
            "Epoch 10/30 - Train Loss: 0.2780 - Val Loss: 0.1249\n"
          ]
        },
        {
          "output_type": "stream",
          "name": "stderr",
          "text": [
            "\n",
            "100%|██████████| 13/13 [00:00<00:00, 20.32it/s]"
          ]
        },
        {
          "output_type": "stream",
          "name": "stdout",
          "text": [
            "Epoch 11/30 - Train Loss: 0.2187 - Val Loss: 0.3021\n"
          ]
        },
        {
          "output_type": "stream",
          "name": "stderr",
          "text": [
            "\n",
            "100%|██████████| 13/13 [00:00<00:00, 22.45it/s]"
          ]
        },
        {
          "output_type": "stream",
          "name": "stdout",
          "text": [
            "Epoch 12/30 - Train Loss: 0.2465 - Val Loss: 0.2071\n"
          ]
        },
        {
          "output_type": "stream",
          "name": "stderr",
          "text": [
            "\n",
            "100%|██████████| 13/13 [00:00<00:00, 26.05it/s]"
          ]
        },
        {
          "output_type": "stream",
          "name": "stdout",
          "text": [
            "Epoch 13/30 - Train Loss: 0.2738 - Val Loss: 0.1681\n"
          ]
        },
        {
          "output_type": "stream",
          "name": "stderr",
          "text": [
            "\n",
            "100%|██████████| 13/13 [00:00<00:00, 29.22it/s]"
          ]
        },
        {
          "output_type": "stream",
          "name": "stdout",
          "text": [
            "Epoch 14/30 - Train Loss: 0.2768 - Val Loss: 0.1210\n"
          ]
        },
        {
          "output_type": "stream",
          "name": "stderr",
          "text": [
            "\n",
            "100%|██████████| 13/13 [00:00<00:00, 29.08it/s]"
          ]
        },
        {
          "output_type": "stream",
          "name": "stdout",
          "text": [
            "Epoch 15/30 - Train Loss: 0.2375 - Val Loss: 0.1644\n"
          ]
        },
        {
          "output_type": "stream",
          "name": "stderr",
          "text": [
            "\n",
            "100%|██████████| 13/13 [00:00<00:00, 29.61it/s]"
          ]
        },
        {
          "output_type": "stream",
          "name": "stdout",
          "text": [
            "Epoch 16/30 - Train Loss: 0.2388 - Val Loss: 0.1167\n"
          ]
        },
        {
          "output_type": "stream",
          "name": "stderr",
          "text": [
            "\n",
            "100%|██████████| 13/13 [00:00<00:00, 29.49it/s]"
          ]
        },
        {
          "output_type": "stream",
          "name": "stdout",
          "text": [
            "Epoch 17/30 - Train Loss: 0.2036 - Val Loss: 0.1510\n"
          ]
        },
        {
          "output_type": "stream",
          "name": "stderr",
          "text": [
            "\n",
            "100%|██████████| 13/13 [00:00<00:00, 30.22it/s]"
          ]
        },
        {
          "output_type": "stream",
          "name": "stdout",
          "text": [
            "Epoch 18/30 - Train Loss: 0.2746 - Val Loss: 0.1436\n"
          ]
        },
        {
          "output_type": "stream",
          "name": "stderr",
          "text": [
            "\n",
            "100%|██████████| 13/13 [00:00<00:00, 28.54it/s]"
          ]
        },
        {
          "output_type": "stream",
          "name": "stdout",
          "text": [
            "Epoch 19/30 - Train Loss: 0.2383 - Val Loss: 0.1721\n"
          ]
        },
        {
          "output_type": "stream",
          "name": "stderr",
          "text": [
            "\n",
            "100%|██████████| 13/13 [00:00<00:00, 26.79it/s]"
          ]
        },
        {
          "output_type": "stream",
          "name": "stdout",
          "text": [
            "Epoch 20/30 - Train Loss: 0.2297 - Val Loss: 0.2337\n"
          ]
        },
        {
          "output_type": "stream",
          "name": "stderr",
          "text": [
            "\n",
            "100%|██████████| 13/13 [00:00<00:00, 22.13it/s]"
          ]
        },
        {
          "output_type": "stream",
          "name": "stdout",
          "text": [
            "Epoch 21/30 - Train Loss: 0.2153 - Val Loss: 0.3237\n"
          ]
        },
        {
          "output_type": "stream",
          "name": "stderr",
          "text": [
            "\n",
            "100%|██████████| 13/13 [00:00<00:00, 29.13it/s]"
          ]
        },
        {
          "output_type": "stream",
          "name": "stdout",
          "text": [
            "Epoch 22/30 - Train Loss: 0.2203 - Val Loss: 0.1247\n"
          ]
        },
        {
          "output_type": "stream",
          "name": "stderr",
          "text": [
            "\n",
            "100%|██████████| 13/13 [00:00<00:00, 29.01it/s]"
          ]
        },
        {
          "output_type": "stream",
          "name": "stdout",
          "text": [
            "Epoch 23/30 - Train Loss: 0.2331 - Val Loss: 0.3716\n"
          ]
        },
        {
          "output_type": "stream",
          "name": "stderr",
          "text": [
            "\n",
            "100%|██████████| 13/13 [00:00<00:00, 24.96it/s]"
          ]
        },
        {
          "output_type": "stream",
          "name": "stdout",
          "text": [
            "Epoch 24/30 - Train Loss: 0.2652 - Val Loss: 0.2241\n"
          ]
        },
        {
          "output_type": "stream",
          "name": "stderr",
          "text": [
            "\n",
            "100%|██████████| 13/13 [00:00<00:00, 22.55it/s]"
          ]
        },
        {
          "output_type": "stream",
          "name": "stdout",
          "text": [
            "Epoch 25/30 - Train Loss: 0.2203 - Val Loss: 0.1129\n"
          ]
        },
        {
          "output_type": "stream",
          "name": "stderr",
          "text": [
            "\n",
            "100%|██████████| 13/13 [00:00<00:00, 22.05it/s]"
          ]
        },
        {
          "output_type": "stream",
          "name": "stdout",
          "text": [
            "Epoch 26/30 - Train Loss: 0.1924 - Val Loss: 0.1533\n"
          ]
        },
        {
          "output_type": "stream",
          "name": "stderr",
          "text": [
            "\n",
            "100%|██████████| 13/13 [00:00<00:00, 26.18it/s]"
          ]
        },
        {
          "output_type": "stream",
          "name": "stdout",
          "text": [
            "Epoch 27/30 - Train Loss: 0.2453 - Val Loss: 0.1520\n"
          ]
        },
        {
          "output_type": "stream",
          "name": "stderr",
          "text": [
            "\n",
            "100%|██████████| 13/13 [00:00<00:00, 19.56it/s]"
          ]
        },
        {
          "output_type": "stream",
          "name": "stdout",
          "text": [
            "Epoch 28/30 - Train Loss: 0.4603 - Val Loss: 0.2713\n"
          ]
        },
        {
          "output_type": "stream",
          "name": "stderr",
          "text": [
            "\n",
            "100%|██████████| 13/13 [00:00<00:00, 18.97it/s]"
          ]
        },
        {
          "output_type": "stream",
          "name": "stdout",
          "text": [
            "Epoch 29/30 - Train Loss: 0.2903 - Val Loss: 0.3328\n"
          ]
        },
        {
          "output_type": "stream",
          "name": "stderr",
          "text": [
            "\n",
            "100%|██████████| 13/13 [00:00<00:00, 21.63it/s]"
          ]
        },
        {
          "output_type": "stream",
          "name": "stdout",
          "text": [
            "Epoch 30/30 - Train Loss: 0.2036 - Val Loss: 0.2390\n"
          ]
        },
        {
          "output_type": "stream",
          "name": "stderr",
          "text": [
            "\n"
          ]
        }
      ],
      "source": [
        "optimizer1 = torch.optim.Adam(model1.parameters(), lr=learning_rate, weight_decay=1e-4)\n",
        "scheduler1 = torch.optim.lr_scheduler.CosineAnnealingLR(optimizer1, T_max=max_epochs)\n",
        "loss_fn = nn.CrossEntropyLoss()\n",
        "val_losses1 = []\n",
        "tr_losses1 = []\n",
        "epochs = max_epochs\n",
        "\n",
        "train_loop(train_dataloader1, val_dataloader1, model1, loss_fn, optimizer1, scheduler1, epochs, tr_losses1, val_losses1)"
      ]
    },
    {
      "cell_type": "code",
      "source": [
        "optimizer2 = torch.optim.Adam(model2.parameters(), lr=learning_rate, weight_decay=1e-4)\n",
        "scheduler2 = torch.optim.lr_scheduler.CosineAnnealingLR(optimizer2, T_max=max_epochs)\n",
        "loss_fn = nn.CrossEntropyLoss()\n",
        "val_losses2 = []\n",
        "tr_losses2 = []\n",
        "epochs = max_epochs\n",
        "\n",
        "train_loop(train_dataloader2, val_dataloader2, model2, loss_fn, optimizer2, scheduler2, epochs, tr_losses2, val_losses2)"
      ],
      "metadata": {
        "id": "iwkCEdruaCLK",
        "outputId": "8f1c1961-f3b4-4a05-8e3b-3dab5f1b7ce2",
        "colab": {
          "base_uri": "https://localhost:8080/"
        }
      },
      "execution_count": 13,
      "outputs": [
        {
          "output_type": "stream",
          "name": "stderr",
          "text": [
            "100%|██████████| 13/13 [00:00<00:00, 17.43it/s]"
          ]
        },
        {
          "output_type": "stream",
          "name": "stdout",
          "text": [
            "Epoch 1/30 - Train Loss: 21.7172 - Val Loss: 1.9095\n"
          ]
        },
        {
          "output_type": "stream",
          "name": "stderr",
          "text": [
            "\n",
            "100%|██████████| 13/13 [00:00<00:00, 25.54it/s]"
          ]
        },
        {
          "output_type": "stream",
          "name": "stdout",
          "text": [
            "Epoch 2/30 - Train Loss: 5.4272 - Val Loss: 13.7359\n"
          ]
        },
        {
          "output_type": "stream",
          "name": "stderr",
          "text": [
            "\n",
            "100%|██████████| 13/13 [00:00<00:00, 28.22it/s]"
          ]
        },
        {
          "output_type": "stream",
          "name": "stdout",
          "text": [
            "Epoch 3/30 - Train Loss: 1.0500 - Val Loss: 1.8420\n"
          ]
        },
        {
          "output_type": "stream",
          "name": "stderr",
          "text": [
            "\n",
            "100%|██████████| 13/13 [00:00<00:00, 29.00it/s]"
          ]
        },
        {
          "output_type": "stream",
          "name": "stdout",
          "text": [
            "Epoch 4/30 - Train Loss: 2.2529 - Val Loss: 1.9276\n"
          ]
        },
        {
          "output_type": "stream",
          "name": "stderr",
          "text": [
            "\n",
            "100%|██████████| 13/13 [00:00<00:00, 29.11it/s]"
          ]
        },
        {
          "output_type": "stream",
          "name": "stdout",
          "text": [
            "Epoch 5/30 - Train Loss: 0.5649 - Val Loss: 0.4972\n"
          ]
        },
        {
          "output_type": "stream",
          "name": "stderr",
          "text": [
            "\n",
            "100%|██████████| 13/13 [00:00<00:00, 27.15it/s]"
          ]
        },
        {
          "output_type": "stream",
          "name": "stdout",
          "text": [
            "Epoch 6/30 - Train Loss: 0.2999 - Val Loss: 0.4468\n"
          ]
        },
        {
          "output_type": "stream",
          "name": "stderr",
          "text": [
            "\n",
            "100%|██████████| 13/13 [00:00<00:00, 27.38it/s]"
          ]
        },
        {
          "output_type": "stream",
          "name": "stdout",
          "text": [
            "Epoch 7/30 - Train Loss: 0.2416 - Val Loss: 0.2678\n"
          ]
        },
        {
          "output_type": "stream",
          "name": "stderr",
          "text": [
            "\n",
            "100%|██████████| 13/13 [00:00<00:00, 28.37it/s]"
          ]
        },
        {
          "output_type": "stream",
          "name": "stdout",
          "text": [
            "Epoch 8/30 - Train Loss: 0.2465 - Val Loss: 0.2640\n"
          ]
        },
        {
          "output_type": "stream",
          "name": "stderr",
          "text": [
            "\n",
            "100%|██████████| 13/13 [00:00<00:00, 29.67it/s]"
          ]
        },
        {
          "output_type": "stream",
          "name": "stdout",
          "text": [
            "Epoch 9/30 - Train Loss: 0.2756 - Val Loss: 0.2704\n"
          ]
        },
        {
          "output_type": "stream",
          "name": "stderr",
          "text": [
            "\n",
            "100%|██████████| 13/13 [00:00<00:00, 28.39it/s]"
          ]
        },
        {
          "output_type": "stream",
          "name": "stdout",
          "text": [
            "Epoch 10/30 - Train Loss: 0.2269 - Val Loss: 0.2574\n"
          ]
        },
        {
          "output_type": "stream",
          "name": "stderr",
          "text": [
            "\n",
            "100%|██████████| 13/13 [00:00<00:00, 29.58it/s]"
          ]
        },
        {
          "output_type": "stream",
          "name": "stdout",
          "text": [
            "Epoch 11/30 - Train Loss: 0.2239 - Val Loss: 0.3254\n"
          ]
        },
        {
          "output_type": "stream",
          "name": "stderr",
          "text": [
            "\n",
            "100%|██████████| 13/13 [00:00<00:00, 28.77it/s]"
          ]
        },
        {
          "output_type": "stream",
          "name": "stdout",
          "text": [
            "Epoch 12/30 - Train Loss: 0.1923 - Val Loss: 0.2897\n"
          ]
        },
        {
          "output_type": "stream",
          "name": "stderr",
          "text": [
            "\n",
            "100%|██████████| 13/13 [00:00<00:00, 29.50it/s]"
          ]
        },
        {
          "output_type": "stream",
          "name": "stdout",
          "text": [
            "Epoch 13/30 - Train Loss: 0.2016 - Val Loss: 0.2590\n"
          ]
        },
        {
          "output_type": "stream",
          "name": "stderr",
          "text": [
            "\n",
            "100%|██████████| 13/13 [00:00<00:00, 28.84it/s]"
          ]
        },
        {
          "output_type": "stream",
          "name": "stdout",
          "text": [
            "Epoch 14/30 - Train Loss: 0.1919 - Val Loss: 0.2750\n"
          ]
        },
        {
          "output_type": "stream",
          "name": "stderr",
          "text": [
            "\n",
            "100%|██████████| 13/13 [00:00<00:00, 29.91it/s]"
          ]
        },
        {
          "output_type": "stream",
          "name": "stdout",
          "text": [
            "Epoch 15/30 - Train Loss: 0.2002 - Val Loss: 0.4635\n"
          ]
        },
        {
          "output_type": "stream",
          "name": "stderr",
          "text": [
            "\n",
            "100%|██████████| 13/13 [00:00<00:00, 28.48it/s]"
          ]
        },
        {
          "output_type": "stream",
          "name": "stdout",
          "text": [
            "Epoch 16/30 - Train Loss: 0.1931 - Val Loss: 0.2576\n"
          ]
        },
        {
          "output_type": "stream",
          "name": "stderr",
          "text": [
            "\n",
            "100%|██████████| 13/13 [00:00<00:00, 28.33it/s]"
          ]
        },
        {
          "output_type": "stream",
          "name": "stdout",
          "text": [
            "Epoch 17/30 - Train Loss: 0.1855 - Val Loss: 0.2628\n"
          ]
        },
        {
          "output_type": "stream",
          "name": "stderr",
          "text": [
            "\n",
            "100%|██████████| 13/13 [00:00<00:00, 28.49it/s]"
          ]
        },
        {
          "output_type": "stream",
          "name": "stdout",
          "text": [
            "Epoch 18/30 - Train Loss: 0.1923 - Val Loss: 0.2667\n"
          ]
        },
        {
          "output_type": "stream",
          "name": "stderr",
          "text": [
            "\n",
            "100%|██████████| 13/13 [00:00<00:00, 29.08it/s]"
          ]
        },
        {
          "output_type": "stream",
          "name": "stdout",
          "text": [
            "Epoch 19/30 - Train Loss: 0.4524 - Val Loss: 0.4525\n"
          ]
        },
        {
          "output_type": "stream",
          "name": "stderr",
          "text": [
            "\n",
            "100%|██████████| 13/13 [00:00<00:00, 19.92it/s]"
          ]
        },
        {
          "output_type": "stream",
          "name": "stdout",
          "text": [
            "Epoch 20/30 - Train Loss: 0.4465 - Val Loss: 0.4814\n"
          ]
        },
        {
          "output_type": "stream",
          "name": "stderr",
          "text": [
            "\n",
            "100%|██████████| 13/13 [00:00<00:00, 20.00it/s]"
          ]
        },
        {
          "output_type": "stream",
          "name": "stdout",
          "text": [
            "Epoch 21/30 - Train Loss: 0.2317 - Val Loss: 0.4397\n"
          ]
        },
        {
          "output_type": "stream",
          "name": "stderr",
          "text": [
            "\n",
            "100%|██████████| 13/13 [00:00<00:00, 20.83it/s]"
          ]
        },
        {
          "output_type": "stream",
          "name": "stdout",
          "text": [
            "Epoch 22/30 - Train Loss: 0.1938 - Val Loss: 0.2820\n"
          ]
        },
        {
          "output_type": "stream",
          "name": "stderr",
          "text": [
            "\n",
            "100%|██████████| 13/13 [00:00<00:00, 20.63it/s]"
          ]
        },
        {
          "output_type": "stream",
          "name": "stdout",
          "text": [
            "Epoch 23/30 - Train Loss: 0.3086 - Val Loss: 0.2921\n"
          ]
        },
        {
          "output_type": "stream",
          "name": "stderr",
          "text": [
            "\n",
            "100%|██████████| 13/13 [00:00<00:00, 28.25it/s]"
          ]
        },
        {
          "output_type": "stream",
          "name": "stdout",
          "text": [
            "Epoch 24/30 - Train Loss: 0.3255 - Val Loss: 0.3710\n"
          ]
        },
        {
          "output_type": "stream",
          "name": "stderr",
          "text": [
            "\n",
            "100%|██████████| 13/13 [00:00<00:00, 28.50it/s]"
          ]
        },
        {
          "output_type": "stream",
          "name": "stdout",
          "text": [
            "Epoch 25/30 - Train Loss: 0.2413 - Val Loss: 0.2589\n"
          ]
        },
        {
          "output_type": "stream",
          "name": "stderr",
          "text": [
            "\n",
            "100%|██████████| 13/13 [00:00<00:00, 29.57it/s]"
          ]
        },
        {
          "output_type": "stream",
          "name": "stdout",
          "text": [
            "Epoch 26/30 - Train Loss: 0.2105 - Val Loss: 0.2828\n"
          ]
        },
        {
          "output_type": "stream",
          "name": "stderr",
          "text": [
            "\n",
            "100%|██████████| 13/13 [00:00<00:00, 26.71it/s]"
          ]
        },
        {
          "output_type": "stream",
          "name": "stdout",
          "text": [
            "Epoch 27/30 - Train Loss: 0.2789 - Val Loss: 0.2702\n"
          ]
        },
        {
          "output_type": "stream",
          "name": "stderr",
          "text": [
            "\n",
            "100%|██████████| 13/13 [00:00<00:00, 27.39it/s]"
          ]
        },
        {
          "output_type": "stream",
          "name": "stdout",
          "text": [
            "Epoch 28/30 - Train Loss: 0.3496 - Val Loss: 0.3914\n"
          ]
        },
        {
          "output_type": "stream",
          "name": "stderr",
          "text": [
            "\n",
            "100%|██████████| 13/13 [00:00<00:00, 27.50it/s]"
          ]
        },
        {
          "output_type": "stream",
          "name": "stdout",
          "text": [
            "Epoch 29/30 - Train Loss: 0.2698 - Val Loss: 0.3525\n"
          ]
        },
        {
          "output_type": "stream",
          "name": "stderr",
          "text": [
            "\n",
            "100%|██████████| 13/13 [00:00<00:00, 29.54it/s]"
          ]
        },
        {
          "output_type": "stream",
          "name": "stdout",
          "text": [
            "Epoch 30/30 - Train Loss: 0.1895 - Val Loss: 0.2912\n"
          ]
        },
        {
          "output_type": "stream",
          "name": "stderr",
          "text": [
            "\n"
          ]
        }
      ]
    },
    {
      "cell_type": "code",
      "execution_count": 14,
      "metadata": {
        "id": "LNg3iSnL5BPk",
        "colab": {
          "base_uri": "https://localhost:8080/",
          "height": 447
        },
        "outputId": "2bd4b0a0-6f42-4f90-d79b-2bef3b066d39"
      },
      "outputs": [
        {
          "output_type": "execute_result",
          "data": {
            "text/plain": [
              "[<matplotlib.lines.Line2D at 0x7e1c25049f70>]"
            ]
          },
          "metadata": {},
          "execution_count": 14
        },
        {
          "output_type": "display_data",
          "data": {
            "text/plain": [
              "<Figure size 640x480 with 2 Axes>"
            ],
            "image/png": "[encoded data removed]"
          },
          "metadata": {}
        }
      ],
      "source": [
        "plt.subplot(1, 2, 1)\n",
        "plt.plot(tr_losses1)\n",
        "plt.subplot(1, 2, 2)\n",
        "plt.plot(val_losses1)"
      ]
    },
    {
      "cell_type": "code",
      "source": [
        "plt.subplot(1, 2, 1)\n",
        "plt.plot(tr_losses2)\n",
        "plt.subplot(1, 2, 2)\n",
        "plt.plot(val_losses2)"
      ],
      "metadata": {
        "colab": {
          "base_uri": "https://localhost:8080/",
          "height": 447
        },
        "id": "-CzYVZ3taSJH",
        "outputId": "84b6d918-9dc4-4fe4-fe51-3dd7d47c9ab3"
      },
      "execution_count": 15,
      "outputs": [
        {
          "output_type": "execute_result",
          "data": {
            "text/plain": [
              "[<matplotlib.lines.Line2D at 0x7e1c24ffe0f0>]"
            ]
          },
          "metadata": {},
          "execution_count": 15
        },
        {
          "output_type": "display_data",
          "data": {
            "text/plain": [
              "<Figure size 640x480 with 2 Axes>"
            ],
            "image/png": "[encoded data removed]"
          },
          "metadata": {}
        }
      ]
    },
    {
      "cell_type": "markdown",
      "metadata": {
        "id": "A57ZLAtIhcAi"
      },
      "source": [
        "## ORTOHOGONAL ALIGNMENT"
      ]
    },
    {
      "cell_type": "markdown",
      "metadata": {
        "id": "-dGFEkyckZ0D"
      },
      "source": [
        "**Introduzione al problema**\n",
        "\n",
        "Nel paper \"GIT RE-BASIN: MERGING MODELS MODULO PERMUTATION SYMMETRIES\", definito $S_d$ l'insieme delle matrici di permutazione e definite $Z^{(A)} e Z^{(B)}$ come le matrici di attivazione rispettivamente per il modello A e B per un determinato layer $l$, viene risolto il problema\n",
        "\n",
        "$P = \\operatorname{argmin}_{P \\in S_d} \\sum_{i=1}^{n} || Z^{(A)}_{:, i} - PZ^{(B)}_{:, i}||^2$\n",
        "\n",
        "Analogamente risolviamo\n",
        "\n",
        "$Q = \\operatorname{argmin}_{Q^TQ=1} \\sum_{i=1}^{n} || Z^{(A)}_{:, i} - QZ^{(B)}_{:, i}||^2 = \\operatorname{argmin}_{Q^TQ=1} || Z^{(A)} - QZ^{(B)}||^2_F$\n",
        "\n",
        "in notazione matriciale, dove Q è una generica matrice ortogonale, ossia una matrice t.c. $Q^TQ = QQ^T = 1$.\n",
        "\n",
        "Estendere l'idea alle matrici ortogonali significa ampliare le possibilità di applicazione perchè queste applicano rotazioni e riflessioni."
      ]
    },
    {
      "cell_type": "markdown",
      "source": [
        "**Risoluzione del problema ai minimi quadrati**\n",
        "\n",
        "(Per comodità di scrittura e leggibilita chiamo $Z^{(A)}$ come $A$ e $Z^{(B)}$ come $B$)\n",
        "\n",
        "Iniziamo quindi da\n",
        "\n",
        "$ Q = \\operatorname{argmin}_{Q^TQ=1} || A - QB||^2_F$\n",
        "\n",
        "Applicando il quadrato:\n",
        "\n",
        "$Q = \\operatorname{argmin}_{Q^TQ=1} ||A||^2_F + ||QB||^2_F - 2Tr(Q^TB^TA)$\n",
        "\n",
        "Si puè ulteriormente semplificare notando che $||QB||^2_F = Tr(Q^TB^TBQ)=Tr(B^TB)$\n",
        "\n",
        "Risulta quindi $Q = \\operatorname{argmin}_{Q^TQ=1} ||A||^2_F + ||B||^2_F - 2Tr(Q^TB^TA)$\n",
        "\n",
        "Notiamo allora che minimizzare questa quantità equivale a massimizzare $2Tr(Q^TB^TA)$, poichè è l'unico termine in cui compare Q ed è sottratto.\n",
        "\n",
        "Sostituiamo $M = B^TA$ per poterci applicare SVD e otteniamo quindi\n",
        "$Tr(Q^TM)=Tr(Q^TUΣV^T)=Tr(U^TQVΣ^T)$\n",
        "\n",
        "Notando che $Σ = Σ^T$ e sostituendo per semplicità $R = U^TQV$ otteniamo $Tr(RΣ)$\n",
        "\n",
        "Infine poichè R è ortogonale (prodotto di matrici ortogonali) le sue righe e colonne hanno norma 1 e quindi in particolare ogni elemento $|R_{ii}| <= 1$, allora, dato che Σ è diagonale a valori positivi, $Tr(RΣ)$ viene massimizzata per $R = I$ ($I$ è l'unica matrice ortogonale con diagonale unitaria). Da questo risuta che la soluzione al nostro problema è $Q = URV^T = UV^T$.\n"
      ],
      "metadata": {
        "id": "XAolShf7zjZn"
      }
    },
    {
      "cell_type": "markdown",
      "source": [
        "```\n",
        "def Q_min_quadrati(A, B, alpha=False):\n",
        "    M = B.T @ A          # dimensione: (d, d)\n",
        "    U, _, Vt = torch.linalg.svd(M, full_matrices=False)\n",
        "    Q = U @ Vt               # dimensione (d, d)\n",
        "    return Q\n",
        "```\n",
        "\n"
      ],
      "metadata": {
        "id": "4ZP0XrUFIRCZ"
      }
    },
    {
      "cell_type": "code",
      "source": [
        "from src.orthogonal_alignment import Q_min_quadrati"
      ],
      "metadata": {
        "id": "yNqx9FhtIJ3g"
      },
      "execution_count": 16,
      "outputs": []
    },
    {
      "cell_type": "markdown",
      "source": [
        "**Matrici di attivazione**\n",
        "\n",
        "Vediamo ora come computare le matrici di attivazione.\n",
        "\n",
        "La matrice di attivazione di un determinato layer si costruisce a partire dai vettori di attivazione prodotti dal layer per ogni input, che contengono i valori di attivazione dei neuroni per l'input in questione. In particolare questi vettori constituiscono le righe della matrice di attivazione, che quindi ha dimensione (Numero di input, dimensione layer).\n",
        "\n",
        "!: si utilizzano i valori di attivazione prima della ReLU, come viene fatto anche nel paper, per mantenere tutta le informazioni del layer e per una questione di stabilità (la ReLU potrebbe appiattire molti valori a zero, producendo una matrice sparsa che può dare problemi ad esempio con SVD)"
      ],
      "metadata": {
        "id": "rxg5K0NiEtcP"
      }
    },
    {
      "cell_type": "markdown",
      "source": [
        "```\n",
        "def activation_matrix(model, dataloader, layer_num, device=\"cpu\"):\n",
        "    model.eval()\n",
        "    activations_list = []\n",
        "    with torch.no_grad():\n",
        "      for batch in dataloader:\n",
        "        x = batch[\"x\"].to(device)\n",
        "        x = x.to(device)\n",
        "        for i, layer in enumerate(model.fc): #devo far passare l'input per tutti i layer fino a quello richiesto\n",
        "          x = x.view(x.size(0), -1)\n",
        "          x = layer(x)\n",
        "          if i == layer_num:  #si ferma al layer richiesto\n",
        "            break\n",
        "        activations_list.append(x)\n",
        "      A = torch.cat(activations_list, dim=0) #dimensioni: (N,d)\n",
        "    return A\n",
        "```"
      ],
      "metadata": {
        "id": "8eQktO49IbPw"
      }
    },
    {
      "cell_type": "code",
      "source": [
        "from src.orthogonal_alignment import activation_matrix"
      ],
      "metadata": {
        "id": "twydAdGLIZyu"
      },
      "execution_count": 17,
      "outputs": []
    },
    {
      "cell_type": "markdown",
      "source": [
        "**Applicazione di Q ai layer**\n",
        "\n",
        "La seguente è la funzione per applicare le matrici ortogonali trovate ai layer del modello. In particolare per ogni layer calcoleremo $W = Q_iWQ_{i-1}^T$ e $b = Qb$, come fatto nel paper, poichè applicare $Q$ sia a destra che a sinistra garantisce che sia lo spazio degli input che quello degli output siano riallineati"
      ],
      "metadata": {
        "id": "qSAhgE25Kuoi"
      }
    },
    {
      "cell_type": "markdown",
      "source": [
        "```\n",
        "def apply_Q(model, Q_dict):\n",
        "    al_model = copy.deepcopy(model)\n",
        "    prev_Q = None\n",
        "\n",
        "    for i, layer in enumerate(al_model.fc):\n",
        "      if isinstance(layer, torch.nn.Linear): #applico ai layer linear\n",
        "        Q_curr = Q_dict[f\"fc{i+1}\"].to(layer.weight.device)\n",
        "        W = layer.weight.data\n",
        "        b = layer.bias.data if layer.bias is not None else None\n",
        "\n",
        "        if prev_Q is None:\n",
        "          W_al= Q_curr @ W\n",
        "        else:\n",
        "          W_al = Q_curr @ W @ prev_Q.T\n",
        "        b_al =  Q_curr @ b if b is not None else None\n",
        "\n",
        "        #Aggiornamento dei layer\n",
        "        layer.weight.data = W_al\n",
        "        layer.bias.data = b_al\n",
        "\n",
        "        prev_Q = Q_curr\n",
        "\n",
        "    return al_model\n",
        "\n",
        "```"
      ],
      "metadata": {
        "id": "5IDtTTtKIdgN"
      }
    },
    {
      "cell_type": "code",
      "source": [
        "from src.orthogonal_alignment import apply_Q"
      ],
      "metadata": {
        "id": "scRfZqhIJcN_"
      },
      "execution_count": 18,
      "outputs": []
    },
    {
      "cell_type": "markdown",
      "source": [
        "La funzione *apply_Q*, però, applica al modello delle matrici Q già calcolate in precedenza, senza tenere quindi conto dell’**interazione tra i diversi layer**.\n",
        "\n",
        "Per ottimizzare l'allineamento ho deciso di utilizzare invece seguente funzione *apply_Q_layerwise*. Questa funzione infatti stima la matrice Q per ogni layer linear e poi aggiorna i pesi e i bias considerando anche le trasformazioni precedenti, in questo modo garantisce un allineamento migliore\n"
      ],
      "metadata": {
        "id": "0A7VWc1En9wS"
      }
    },
    {
      "cell_type": "markdown",
      "source": [
        "```\n",
        "def apply_Q_layerwise(model1, model2, train_dataloader1, train_dataloader2, alpha=0.7, m=True):\n",
        "    if m:\n",
        "      m1 = model1\n",
        "      al_model = copy.deepcopy(model2)\n",
        "    else:\n",
        "      m1 = model2\n",
        "      al_model = copy.deepcopy(model1)\n",
        "\n",
        "    # prendo un batch per il forward\n",
        "    x = next(iter(train_dataloader2))[\"x\"].float()\n",
        "    prev_Q = None\n",
        "\n",
        "    for i, layer in enumerate(al_model.fc):\n",
        "      if isinstance(layer, torch.nn.Linear): #applico ai layer linear\n",
        "        A, B = activation_matrix(m1, train_dataloader1, i), activation_matrix(al_model, train_dataloader2, i)\n",
        "        Q = Q_min_quadrati(A, B).to(layer.weight.device)\n",
        "        if prev_Q is None:\n",
        "          layer.weight.data = alpha * (Q @ layer.weight.data) + (1 - alpha) * layer.weight.data\n",
        "        else:\n",
        "          layer.weight.data = alpha * (Q @ layer.weight.data  @ prev_Q.T) + (1 - alpha) * layer.weight.data\n",
        "        if layer.bias.data is not None:\n",
        "          layer.bias.data = alpha * (Q @ layer.bias.data) + (1 - alpha) * layer.bias.data\n",
        "        prev_Q = Q\n",
        "\n",
        "        diff = torch.norm(A - B @ Q, 'fro')\n",
        "        ortho_err = torch.norm(Q.T @ Q - torch.eye(Q.shape[0], device=Q.device)).item()\n",
        "        det = torch.det(Q).item()\n",
        "        #print(f'Layer {i} matching error: {diff.item()}')\n",
        "        #print(f\"Layer {i} ortho_err: {ortho_err:.2e} -> Q is orthogonal: {torch.allclose(Q.T @ Q, torch.eye(Q.shape[0]), atol=1e-5)}\")\n",
        "      x = layer(x)\n",
        "\n",
        "    return al_model\n",
        "```"
      ],
      "metadata": {
        "id": "KJcK6J-6Iejb"
      }
    },
    {
      "cell_type": "code",
      "source": [
        "from src.orthogonal_alignment import apply_Q_layerwise"
      ],
      "metadata": {
        "id": "UAxxXOx5I5uo"
      },
      "execution_count": 19,
      "outputs": []
    },
    {
      "cell_type": "markdown",
      "source": [
        "##Allineamento"
      ],
      "metadata": {
        "id": "2cxUp6VbgFBv"
      }
    },
    {
      "cell_type": "code",
      "source": [
        "from src.test import evaluate_model"
      ],
      "metadata": {
        "id": "_Fvyn-6yJLUB"
      },
      "execution_count": 20,
      "outputs": []
    },
    {
      "cell_type": "code",
      "source": [
        "al_model_layerwise2, Q_dict2 = apply_Q_layerwise(model1, model2, train_dataloader1, train_dataloader2, 0.8, m = True)"
      ],
      "metadata": {
        "id": "D8QsMBIEfvu0",
        "outputId": "829f27c7-f885-44ca-ae1a-c6035e08b60d",
        "colab": {
          "base_uri": "https://localhost:8080/"
        }
      },
      "execution_count": 21,
      "outputs": [
        {
          "output_type": "stream",
          "name": "stdout",
          "text": [
            "Layer 0 matching error: 47206.37109375\n",
            "Layer 0 ortho_err: 4.39e-05 -> Q is orthogonal: True\n",
            "Layer 2 matching error: 43940.65625\n",
            "Layer 2 ortho_err: 4.21e-05 -> Q is orthogonal: True\n",
            "Layer 4 matching error: 7318.03125\n",
            "Layer 4 ortho_err: 2.48e-05 -> Q is orthogonal: True\n",
            "Layer 6 matching error: 253.1654815673828\n",
            "Layer 6 ortho_err: 1.74e-07 -> Q is orthogonal: True\n"
          ]
        }
      ]
    },
    {
      "cell_type": "code",
      "source": [
        "evaluate_model(al_model_layerwise2, test_dataloader)"
      ],
      "metadata": {
        "colab": {
          "base_uri": "https://localhost:8080/"
        },
        "id": "Y2KfkQ2z7dcB",
        "outputId": "7f865826-e2c6-4b7e-d164-3fc199fe4e40"
      },
      "execution_count": 22,
      "outputs": [
        {
          "output_type": "execute_result",
          "data": {
            "text/plain": [
              "1.6844592094421387"
            ]
          },
          "metadata": {},
          "execution_count": 22
        }
      ]
    },
    {
      "cell_type": "code",
      "source": [
        "al_model_layerwise1, Q_dict1 = apply_Q_layerwise(model1, model2, train_dataloader1, train_dataloader2, 0.8, m = False)"
      ],
      "metadata": {
        "id": "Zpz8DU3hFbH-",
        "outputId": "e69ce8b5-8127-479f-de2a-59442f8080bf",
        "colab": {
          "base_uri": "https://localhost:8080/"
        }
      },
      "execution_count": 23,
      "outputs": [
        {
          "output_type": "stream",
          "name": "stdout",
          "text": [
            "Layer 0 matching error: 48297.36328125\n",
            "Layer 0 ortho_err: 4.37e-05 -> Q is orthogonal: True\n",
            "Layer 2 matching error: 49107.83984375\n",
            "Layer 2 ortho_err: 4.19e-05 -> Q is orthogonal: True\n",
            "Layer 4 matching error: 4565.90576171875\n",
            "Layer 4 ortho_err: 2.46e-05 -> Q is orthogonal: True\n",
            "Layer 6 matching error: 123.4779281616211\n",
            "Layer 6 ortho_err: 0.00e+00 -> Q is orthogonal: True\n"
          ]
        }
      ]
    },
    {
      "cell_type": "code",
      "source": [
        "evaluate_model(al_model_layerwise1, test_dataloader)"
      ],
      "metadata": {
        "colab": {
          "base_uri": "https://localhost:8080/"
        },
        "id": "K0MnE-KtNamf",
        "outputId": "24d352bd-4211-4c8f-b250-9c4f3928a51c"
      },
      "execution_count": 24,
      "outputs": [
        {
          "output_type": "execute_result",
          "data": {
            "text/plain": [
              "1.5132693648338318"
            ]
          },
          "metadata": {},
          "execution_count": 24
        }
      ]
    },
    {
      "cell_type": "markdown",
      "source": [
        "##Re-basin"
      ],
      "metadata": {
        "id": "HxP9eNBPPnw6"
      }
    },
    {
      "cell_type": "code",
      "source": [
        "!pip install rebasin"
      ],
      "metadata": {
        "id": "zl2M8haJLD7U",
        "outputId": "e1e26a14-5882-4023-ab7c-5b198145f45d",
        "colab": {
          "base_uri": "https://localhost:8080/"
        }
      },
      "execution_count": 25,
      "outputs": [
        {
          "output_type": "stream",
          "name": "stdout",
          "text": [
            "Collecting rebasin\n",
            "  Downloading rebasin-0.0.47-py3-none-any.whl.metadata (9.4 kB)\n",
            "Requirement already satisfied: torch in /usr/local/lib/python3.12/dist-packages (from rebasin) (2.8.0+cu126)\n",
            "Requirement already satisfied: numpy in /usr/local/lib/python3.12/dist-packages (from rebasin) (2.0.2)\n",
            "Requirement already satisfied: scipy in /usr/local/lib/python3.12/dist-packages (from rebasin) (1.16.1)\n",
            "Requirement already satisfied: tqdm in /usr/local/lib/python3.12/dist-packages (from rebasin) (4.67.1)\n",
            "Requirement already satisfied: graphviz in /usr/local/lib/python3.12/dist-packages (from rebasin) (0.21)\n",
            "Collecting torchview (from rebasin)\n",
            "  Downloading torchview-0.2.7-py3-none-any.whl.metadata (13 kB)\n",
            "Requirement already satisfied: filelock in /usr/local/lib/python3.12/dist-packages (from torch->rebasin) (3.19.1)\n",
            "Requirement already satisfied: typing-extensions>=4.10.0 in /usr/local/lib/python3.12/dist-packages (from torch->rebasin) (4.14.1)\n",
            "Requirement already satisfied: setuptools in /usr/local/lib/python3.12/dist-packages (from torch->rebasin) (75.2.0)\n",
            "Requirement already satisfied: sympy>=1.13.3 in /usr/local/lib/python3.12/dist-packages (from torch->rebasin) (1.13.3)\n",
            "Requirement already satisfied: networkx in /usr/local/lib/python3.12/dist-packages (from torch->rebasin) (3.5)\n",
            "Requirement already satisfied: jinja2 in /usr/local/lib/python3.12/dist-packages (from torch->rebasin) (3.1.6)\n",
            "Requirement already satisfied: fsspec in /usr/local/lib/python3.12/dist-packages (from torch->rebasin) (2025.3.0)\n",
            "Requirement already satisfied: nvidia-cuda-nvrtc-cu12==12.6.77 in /usr/local/lib/python3.12/dist-packages (from torch->rebasin) (12.6.77)\n",
            "Requirement already satisfied: nvidia-cuda-runtime-cu12==12.6.77 in /usr/local/lib/python3.12/dist-packages (from torch->rebasin) (12.6.77)\n",
            "Requirement already satisfied: nvidia-cuda-cupti-cu12==12.6.80 in /usr/local/lib/python3.12/dist-packages (from torch->rebasin) (12.6.80)\n",
            "Requirement already satisfied: nvidia-cudnn-cu12==9.10.2.21 in /usr/local/lib/python3.12/dist-packages (from torch->rebasin) (9.10.2.21)\n",
            "Requirement already satisfied: nvidia-cublas-cu12==12.6.4.1 in /usr/local/lib/python3.12/dist-packages (from torch->rebasin) (12.6.4.1)\n",
            "Requirement already satisfied: nvidia-cufft-cu12==11.3.0.4 in /usr/local/lib/python3.12/dist-packages (from torch->rebasin) (11.3.0.4)\n",
            "Requirement already satisfied: nvidia-curand-cu12==10.3.7.77 in /usr/local/lib/python3.12/dist-packages (from torch->rebasin) (10.3.7.77)\n",
            "Requirement already satisfied: nvidia-cusolver-cu12==11.7.1.2 in /usr/local/lib/python3.12/dist-packages (from torch->rebasin) (11.7.1.2)\n",
            "Requirement already satisfied: nvidia-cusparse-cu12==12.5.4.2 in /usr/local/lib/python3.12/dist-packages (from torch->rebasin) (12.5.4.2)\n",
            "Requirement already satisfied: nvidia-cusparselt-cu12==0.7.1 in /usr/local/lib/python3.12/dist-packages (from torch->rebasin) (0.7.1)\n",
            "Requirement already satisfied: nvidia-nccl-cu12==2.27.3 in /usr/local/lib/python3.12/dist-packages (from torch->rebasin) (2.27.3)\n",
            "Requirement already satisfied: nvidia-nvtx-cu12==12.6.77 in /usr/local/lib/python3.12/dist-packages (from torch->rebasin) (12.6.77)\n",
            "Requirement already satisfied: nvidia-nvjitlink-cu12==12.6.85 in /usr/local/lib/python3.12/dist-packages (from torch->rebasin) (12.6.85)\n",
            "Requirement already satisfied: nvidia-cufile-cu12==1.11.1.6 in /usr/local/lib/python3.12/dist-packages (from torch->rebasin) (1.11.1.6)\n",
            "Requirement already satisfied: triton==3.4.0 in /usr/local/lib/python3.12/dist-packages (from torch->rebasin) (3.4.0)\n",
            "Requirement already satisfied: mpmath<1.4,>=1.1.0 in /usr/local/lib/python3.12/dist-packages (from sympy>=1.13.3->torch->rebasin) (1.3.0)\n",
            "Requirement already satisfied: MarkupSafe>=2.0 in /usr/local/lib/python3.12/dist-packages (from jinja2->torch->rebasin) (3.0.2)\n",
            "Downloading rebasin-0.0.47-py3-none-any.whl (30 kB)\n",
            "Downloading torchview-0.2.7-py3-none-any.whl (26 kB)\n",
            "Installing collected packages: torchview, rebasin\n",
            "Successfully installed rebasin-0.0.47 torchview-0.2.7\n"
          ]
        }
      ]
    },
    {
      "cell_type": "code",
      "source": [
        "from rebasin import PermutationCoordinateDescent, interpolation\n",
        "\n",
        "al_model_perm2 = copy.deepcopy(model2) #creo una copia di model2 perchè l'allineamento dei pesi avverà in loco\n",
        "\n",
        "batch = next(iter(train_dataloader2))\n",
        "inputs = batch[\"x\"].to(device).float()\n",
        "\n",
        "pcd = PermutationCoordinateDescent(model1, al_model_perm2, inputs, device_a=device, device_b=device)\n",
        "pcd.rebasin()\n",
        "\n",
        "model1.to(device)\n",
        "al_model_perm2.to(device)\n",
        "\n",
        "al_model_perm1 = copy.deepcopy(model1)\n",
        "\n",
        "batch = next(iter(train_dataloader1))\n",
        "inputs = batch[\"x\"].to(device).float()\n",
        "\n",
        "pcd = PermutationCoordinateDescent(model2, al_model_perm1, inputs, device_a=device, device_b=device)\n",
        "pcd.rebasin()\n",
        "\n",
        "model2.to(device)\n",
        "al_model_perm1.to(device)"
      ],
      "metadata": {
        "id": "aqJm2A5ELE_w",
        "outputId": "f106a3db-76b0-4f11-b5f3-7e796c2a12cf",
        "colab": {
          "base_uri": "https://localhost:8080/"
        }
      },
      "execution_count": 26,
      "outputs": [
        {
          "output_type": "execute_result",
          "data": {
            "text/plain": [
              "MLP_4(\n",
              "  (fc): Sequential(\n",
              "    (0): Linear(in_features=30, out_features=1024, bias=True)\n",
              "    (1): ReLU()\n",
              "    (2): Linear(in_features=1024, out_features=1024, bias=True)\n",
              "    (3): ReLU()\n",
              "    (4): Linear(in_features=1024, out_features=512, bias=True)\n",
              "    (5): ReLU()\n",
              "    (6): Linear(in_features=512, out_features=2, bias=True)\n",
              "  )\n",
              ")"
            ]
          },
          "metadata": {},
          "execution_count": 26
        }
      ]
    },
    {
      "cell_type": "markdown",
      "source": [
        "##Merge: LERP e SLERP"
      ],
      "metadata": {
        "id": "Nw2xAupIJUgP"
      }
    },
    {
      "cell_type": "markdown",
      "source": [
        "Per analizzare il comportamento dei modelli sull'interpolazione utilizzo:\n",
        "- **lerp** e **slerp** (interpolazione lineare e sferica)\n",
        "\n",
        "- **Funzioni di plotting e confronto delle loss**:  \n",
        "  Queste funzioni generano dei grafici in cui viene confrontata l’interpolazione dei modelli prima e dopo l’allineamento dei pesi fatto con *apply_Q_layerwise* e calcolano  i valori di loss minima lungo l’interpolazione.\n"
      ],
      "metadata": {
        "id": "0mBnZV4_z9AI"
      }
    },
    {
      "cell_type": "code",
      "source": [
        "from src.merge import lerp_models, slerp_models"
      ],
      "metadata": {
        "id": "PUD7-kw9k8y6"
      },
      "execution_count": 27,
      "outputs": []
    },
    {
      "cell_type": "code",
      "source": [
        "from src.test_merge import loss_vs_alpha_ort_al2, loss_vs_alpha_ort_al1"
      ],
      "metadata": {
        "id": "y59AP7Yvpqjv"
      },
      "execution_count": 28,
      "outputs": []
    },
    {
      "cell_type": "code",
      "source": [
        "lerp1, slerp1, allerp1, alslerp1 = loss_vs_alpha_ort_al1(model1, model2, al_model_layerwise1, test_dataloader)"
      ],
      "metadata": {
        "colab": {
          "base_uri": "https://localhost:8080/",
          "height": 581
        },
        "id": "rsLEw-nNnCWh",
        "outputId": "8272f0a7-801f-43e9-daf2-ac6b4fdf969c"
      },
      "execution_count": 29,
      "outputs": [
        {
          "output_type": "stream",
          "name": "stderr",
          "text": [
            "Interpolating models: 100%|██████████| 11/11 [00:01<00:00, 10.73it/s]\n"
          ]
        },
        {
          "output_type": "display_data",
          "data": {
            "text/plain": [
              "<Figure size 1000x600 with 1 Axes>"
            ],
            "image/png": "[encoded data removed]"
          },
          "metadata": {}
        }
      ]
    },
    {
      "cell_type": "code",
      "source": [
        "lerp2, slerp2, allerp2, alslerp2 = loss_vs_alpha_ort_al2(model1, model2, al_model_layerwise2, test_dataloader)"
      ],
      "metadata": {
        "colab": {
          "base_uri": "https://localhost:8080/",
          "height": 581
        },
        "id": "XAlabC6sKfCH",
        "outputId": "361d3802-fc21-47f5-84dd-29a28bc435d7"
      },
      "execution_count": 30,
      "outputs": [
        {
          "output_type": "stream",
          "name": "stderr",
          "text": [
            "Interpolating models: 100%|██████████| 11/11 [00:01<00:00,  8.37it/s]\n"
          ]
        },
        {
          "output_type": "display_data",
          "data": {
            "text/plain": [
              "<Figure size 1000x600 with 1 Axes>"
            ],
            "image/png": "[encoded data removed]"
          },
          "metadata": {}
        }
      ]
    },
    {
      "cell_type": "code",
      "source": [
        "data = [\n",
        "    [\"LERP\", allerp1[0], allerp2[0], lerp1[0], lerp2[0]],\n",
        "    [\"SLERP\", alslerp1[0], alslerp2[0], slerp1[0], slerp2[0]]\n",
        "]\n",
        "headers = [\"\",\"modello_allinato1\", \"modello_allinato2\", \"modello1\", \"modello2\"]\n",
        "\n",
        "print(tabulate(data, headers=headers, tablefmt=\"grid\"))"
      ],
      "metadata": {
        "id": "hFhlsq01Pbho",
        "outputId": "5ebcb669-0fa6-4eb2-c9d2-f47d06b63663",
        "colab": {
          "base_uri": "https://localhost:8080/"
        }
      },
      "execution_count": 31,
      "outputs": [
        {
          "output_type": "stream",
          "name": "stdout",
          "text": [
            "+-------+---------------------+---------------------+------------+------------+\n",
            "|       |   modello_allinato1 |   modello_allinato2 |   modello1 |   modello2 |\n",
            "+=======+=====================+=====================+============+============+\n",
            "| LERP  |            0.245712 |             0.20514 |    0.20514 |    0.20514 |\n",
            "+-------+---------------------+---------------------+------------+------------+\n",
            "| SLERP |            0.245712 |             0.20418 |    0.20514 |    0.20514 |\n",
            "+-------+---------------------+---------------------+------------+------------+\n"
          ]
        }
      ]
    },
    {
      "cell_type": "code",
      "source": [
        "from src.test_merge import loss_vs_alpha_withperm1, loss_vs_alpha_withperm2"
      ],
      "metadata": {
        "id": "qv6P2Qfvp0I5"
      },
      "execution_count": 32,
      "outputs": []
    },
    {
      "cell_type": "code",
      "source": [
        "lerp2, slerp2, allerp2, alslerp2, permlerp2, permslerp2 = loss_vs_alpha_withperm2(model1, model2, al_model_layerwise2, al_model_perm2, test_dataloader)"
      ],
      "metadata": {
        "colab": {
          "base_uri": "https://localhost:8080/",
          "height": 624
        },
        "id": "-J-ozqHkUVLW",
        "outputId": "5665d25d-1363-44e0-a470-77617323fb15"
      },
      "execution_count": 33,
      "outputs": [
        {
          "output_type": "stream",
          "name": "stderr",
          "text": [
            "Interpolating models: 100%|██████████| 11/11 [00:03<00:00,  3.49it/s]\n"
          ]
        },
        {
          "output_type": "display_data",
          "data": {
            "text/plain": [
              "<Figure size 1400x600 with 2 Axes>"
            ],
            "image/png": "[encoded data removed]"
          },
          "metadata": {}
        }
      ]
    },
    {
      "cell_type": "code",
      "source": [
        "lerp1, slerp1, allerp1, alslerp1, permlerp1, permslerp1 = loss_vs_alpha_withperm1(model1, model2, al_model_layerwise1, al_model_perm1, test_dataloader)\n"
      ],
      "metadata": {
        "id": "JcCG-DdY2BAr",
        "outputId": "198af476-f234-4d8a-b78f-831c0d55096d",
        "colab": {
          "base_uri": "https://localhost:8080/",
          "height": 594
        }
      },
      "execution_count": 34,
      "outputs": [
        {
          "output_type": "stream",
          "name": "stderr",
          "text": [
            "Interpolating models: 100%|██████████| 11/11 [00:05<00:00,  1.94it/s]\n"
          ]
        },
        {
          "output_type": "display_data",
          "data": {
            "text/plain": [
              "<Figure size 1500x600 with 2 Axes>"
            ],
            "image/png": "[encoded data removed]"
          },
          "metadata": {}
        }
      ]
    },
    {
      "cell_type": "code",
      "source": [
        "data = [\n",
        "    [\"LERP\", allerp1[0], permlerp1[0], allerp2[0], permlerp2[0], lerp1[0], slerp1[0]],\n",
        "    [\"SLERP\", alslerp1[0], permslerp1[0], alslerp2[0], permslerp2[0], slerp1[0], slerp2[0]]\n",
        "]\n",
        "headers = [\"\",\"modello_ort_1\", \"modello_perm_1\", \"modello_ort_2\", \"modello_perm_2\" , \"modello1\", \"modello2\"]\n",
        "\n",
        "print(tabulate(data, headers=headers, tablefmt=\"grid\"))"
      ],
      "metadata": {
        "id": "5vAJA10SQigY",
        "outputId": "6affe1f5-c75a-4c58-a32e-7a50cffce34d",
        "colab": {
          "base_uri": "https://localhost:8080/"
        }
      },
      "execution_count": 35,
      "outputs": [
        {
          "output_type": "stream",
          "name": "stdout",
          "text": [
            "+-------+-----------------+------------------+-----------------+------------------+------------+------------+\n",
            "|       |   modello_ort_1 |   modello_perm_1 |   modello_ort_2 |   modello_perm_2 |   modello1 |   modello2 |\n",
            "+=======+=================+==================+=================+==================+============+============+\n",
            "| LERP  |         0.20514 |         0.20514  |         0.20514 |         0.20514  |    0.20514 |    0.20514 |\n",
            "+-------+-----------------+------------------+-----------------+------------------+------------+------------+\n",
            "| SLERP |         0.1989  |         0.201911 |         0.20418 |         0.201519 |    0.20514 |    0.20514 |\n",
            "+-------+-----------------+------------------+-----------------+------------------+------------+------------+\n"
          ]
        }
      ]
    },
    {
      "cell_type": "markdown",
      "source": [
        "##Analisi non linearità"
      ],
      "metadata": {
        "id": "V8RNDBheIeC_"
      }
    },
    {
      "cell_type": "code",
      "source": [
        "from src.test import misalignment_ReLU"
      ],
      "metadata": {
        "id": "432a33kwJc5q"
      },
      "execution_count": 36,
      "outputs": []
    },
    {
      "cell_type": "markdown",
      "source": [
        "La funzione *misalignment_ReLU* misura, per ciascun layer lineare di due modelli, la differenza tra le attivazioni prima e dopo l’applicazione della ReLU tramite la norma di Fobenius\n",
        "\n",
        "Input della funzione:\n",
        "- modello 1\n",
        "- modello allineato all'1\n",
        "- train dataloader\n",
        "- dizionario Q_dict delle matrici utilizzate per l'allineamento"
      ],
      "metadata": {
        "id": "0A6SDyifJYtf"
      }
    },
    {
      "cell_type": "code",
      "source": [
        "misalignment_ReLU(model1, al_model_layerwise1, train_dataloader1, Q_dict1)"
      ],
      "metadata": {
        "id": "cxsNh6u7Iten",
        "outputId": "18f3d420-2ab3-4634-ba95-13d16f47ac7f",
        "colab": {
          "base_uri": "https://localhost:8080/"
        }
      },
      "execution_count": 37,
      "outputs": [
        {
          "output_type": "stream",
          "name": "stdout",
          "text": [
            "Layer 1 misalignment before ReLU: 162.9013\n",
            "Layer 1 misalignment after ReLU: 143.9823\n",
            "Layer 3 misalignment before ReLU: 55.0318\n",
            "Layer 3 misalignment after ReLU: 39.8778\n",
            "Layer 5 misalignment before ReLU: 11.2278\n",
            "Layer 5 misalignment after ReLU: 6.9938\n",
            "Layer 7 misalignment before ReLU: 0.7112\n",
            "Layer 7 misalignment after ReLU: 0.5507\n"
          ]
        },
        {
          "output_type": "execute_result",
          "data": {
            "text/plain": [
              "([],\n",
              " [143.98228454589844,\n",
              "  39.87781524658203,\n",
              "  6.993813514709473,\n",
              "  0.5506744980812073])"
            ]
          },
          "metadata": {},
          "execution_count": 37
        }
      ]
    },
    {
      "cell_type": "markdown",
      "source": [
        "Si nota che la ReLU migliora l'effetto dell'ortogonalizzazione nonostante la non-linearità, questo probabilmente perchè i valori target del nostro modello sono tutti positivi e la ReLU annulla i valori negativi trasformandoli in zeri"
      ],
      "metadata": {
        "id": "uc6A1XpLEiYB"
      }
    },
    {
      "cell_type": "markdown",
      "source": [
        "##Cycle-consistency"
      ],
      "metadata": {
        "id": "sIRYvfRKTaIL"
      }
    },
    {
      "cell_type": "markdown",
      "source": [
        "Calcolando la cycle consistency verifico se gli allineamenti fatti sono **reversibili** e **coerenti**.\n",
        "\n",
        "In particolare:\n",
        "- A -> B -> A: (funzione *cycle_consistency_ABA*) allineo A a B e poi il modello ottenuto di nuovo ad A, poi confronto i pesi finali con quelli di A per misurare quanto l'allineamento sia reversibile.\n",
        "\n",
        "- A -> B -> C vs A -> C: (funzione *cycle_consistency_ABC*) allineo A a B e il modello ottenuto a C, poi allineo A (originale) a C e confronto i due modelli ottenuti; se sono simili vuol dire che l’allineamento tra più modelli è consistente."
      ],
      "metadata": {
        "id": "SFK2yNqOGH-a"
      }
    },
    {
      "cell_type": "code",
      "source": [
        "from src.test import cycle_consistency_ABA, cycle_consistency_ABC"
      ],
      "metadata": {
        "id": "rCmCnQBr6_Qo"
      },
      "execution_count": 38,
      "outputs": []
    },
    {
      "cell_type": "code",
      "source": [
        "torch.manual_seed(5)\n",
        "model3 = MLP_4().to(device)\n",
        "\n",
        "optimizer3 = torch.optim.Adam(model3.parameters(), lr=learning_rate, weight_decay=1e-4)\n",
        "scheduler3 = torch.optim.lr_scheduler.CosineAnnealingLR(optimizer3, T_max=max_epochs)\n",
        "loss_fn = nn.CrossEntropyLoss()\n",
        "val_losses3 = []\n",
        "tr_losses3 = []\n",
        "epochs = max_epochs\n",
        "\n",
        "\n",
        "train_loop(train_val3[0], train_val3[1], model3, loss_fn, optimizer3, scheduler3, epochs, tr_losses3, val_losses3)"
      ],
      "metadata": {
        "id": "Arjn0ergAHoE",
        "outputId": "5175c809-b974-4717-d8ea-75e483875095",
        "colab": {
          "base_uri": "https://localhost:8080/"
        }
      },
      "execution_count": 39,
      "outputs": [
        {
          "output_type": "stream",
          "name": "stderr",
          "text": [
            "100%|██████████| 13/13 [00:00<00:00, 21.45it/s]"
          ]
        },
        {
          "output_type": "stream",
          "name": "stdout",
          "text": [
            "Epoch 1/30 - Train Loss: 16.7226 - Val Loss: 6.1214\n"
          ]
        },
        {
          "output_type": "stream",
          "name": "stderr",
          "text": [
            "\n",
            "100%|██████████| 13/13 [00:00<00:00, 27.55it/s]"
          ]
        },
        {
          "output_type": "stream",
          "name": "stdout",
          "text": [
            "Epoch 2/30 - Train Loss: 2.7747 - Val Loss: 3.5341\n"
          ]
        },
        {
          "output_type": "stream",
          "name": "stderr",
          "text": [
            "\n",
            "100%|██████████| 13/13 [00:00<00:00, 27.99it/s]"
          ]
        },
        {
          "output_type": "stream",
          "name": "stdout",
          "text": [
            "Epoch 3/30 - Train Loss: 0.4167 - Val Loss: 0.4128\n"
          ]
        },
        {
          "output_type": "stream",
          "name": "stderr",
          "text": [
            "\n",
            "100%|██████████| 13/13 [00:00<00:00, 28.61it/s]"
          ]
        },
        {
          "output_type": "stream",
          "name": "stdout",
          "text": [
            "Epoch 4/30 - Train Loss: 0.3919 - Val Loss: 0.4748\n"
          ]
        },
        {
          "output_type": "stream",
          "name": "stderr",
          "text": [
            "\n",
            "100%|██████████| 13/13 [00:00<00:00, 27.48it/s]"
          ]
        },
        {
          "output_type": "stream",
          "name": "stdout",
          "text": [
            "Epoch 5/30 - Train Loss: 0.3369 - Val Loss: 0.2835\n"
          ]
        },
        {
          "output_type": "stream",
          "name": "stderr",
          "text": [
            "\n",
            "100%|██████████| 13/13 [00:00<00:00, 27.44it/s]"
          ]
        },
        {
          "output_type": "stream",
          "name": "stdout",
          "text": [
            "Epoch 6/30 - Train Loss: 0.2492 - Val Loss: 0.2440\n"
          ]
        },
        {
          "output_type": "stream",
          "name": "stderr",
          "text": [
            "\n",
            "100%|██████████| 13/13 [00:00<00:00, 28.63it/s]"
          ]
        },
        {
          "output_type": "stream",
          "name": "stdout",
          "text": [
            "Epoch 7/30 - Train Loss: 0.2077 - Val Loss: 0.2600\n"
          ]
        },
        {
          "output_type": "stream",
          "name": "stderr",
          "text": [
            "\n",
            "100%|██████████| 13/13 [00:00<00:00, 28.72it/s]"
          ]
        },
        {
          "output_type": "stream",
          "name": "stdout",
          "text": [
            "Epoch 8/30 - Train Loss: 0.2128 - Val Loss: 0.2395\n"
          ]
        },
        {
          "output_type": "stream",
          "name": "stderr",
          "text": [
            "\n",
            "100%|██████████| 13/13 [00:00<00:00, 27.79it/s]"
          ]
        },
        {
          "output_type": "stream",
          "name": "stdout",
          "text": [
            "Epoch 9/30 - Train Loss: 0.2312 - Val Loss: 0.2354\n"
          ]
        },
        {
          "output_type": "stream",
          "name": "stderr",
          "text": [
            "\n",
            "100%|██████████| 13/13 [00:00<00:00, 27.10it/s]"
          ]
        },
        {
          "output_type": "stream",
          "name": "stdout",
          "text": [
            "Epoch 10/30 - Train Loss: 0.2014 - Val Loss: 0.2901\n"
          ]
        },
        {
          "output_type": "stream",
          "name": "stderr",
          "text": [
            "\n",
            "100%|██████████| 13/13 [00:00<00:00, 29.28it/s]"
          ]
        },
        {
          "output_type": "stream",
          "name": "stdout",
          "text": [
            "Epoch 11/30 - Train Loss: 0.1865 - Val Loss: 0.2446\n"
          ]
        },
        {
          "output_type": "stream",
          "name": "stderr",
          "text": [
            "\n",
            "100%|██████████| 13/13 [00:00<00:00, 27.68it/s]"
          ]
        },
        {
          "output_type": "stream",
          "name": "stdout",
          "text": [
            "Epoch 12/30 - Train Loss: 0.1868 - Val Loss: 0.2427\n"
          ]
        },
        {
          "output_type": "stream",
          "name": "stderr",
          "text": [
            "\n",
            "100%|██████████| 13/13 [00:00<00:00, 27.32it/s]"
          ]
        },
        {
          "output_type": "stream",
          "name": "stdout",
          "text": [
            "Epoch 13/30 - Train Loss: 0.1867 - Val Loss: 0.2528\n"
          ]
        },
        {
          "output_type": "stream",
          "name": "stderr",
          "text": [
            "\n",
            "100%|██████████| 13/13 [00:00<00:00, 18.77it/s]"
          ]
        },
        {
          "output_type": "stream",
          "name": "stdout",
          "text": [
            "Epoch 14/30 - Train Loss: 0.3066 - Val Loss: 0.2569\n"
          ]
        },
        {
          "output_type": "stream",
          "name": "stderr",
          "text": [
            "\n",
            "100%|██████████| 13/13 [00:00<00:00, 18.79it/s]"
          ]
        },
        {
          "output_type": "stream",
          "name": "stdout",
          "text": [
            "Epoch 15/30 - Train Loss: 0.4060 - Val Loss: 0.2548\n"
          ]
        },
        {
          "output_type": "stream",
          "name": "stderr",
          "text": [
            "\n",
            "100%|██████████| 13/13 [00:00<00:00, 19.66it/s]"
          ]
        },
        {
          "output_type": "stream",
          "name": "stdout",
          "text": [
            "Epoch 16/30 - Train Loss: 0.2233 - Val Loss: 0.3448\n"
          ]
        },
        {
          "output_type": "stream",
          "name": "stderr",
          "text": [
            "\n",
            "100%|██████████| 13/13 [00:00<00:00, 22.05it/s]"
          ]
        },
        {
          "output_type": "stream",
          "name": "stdout",
          "text": [
            "Epoch 17/30 - Train Loss: 0.1937 - Val Loss: 0.2547\n"
          ]
        },
        {
          "output_type": "stream",
          "name": "stderr",
          "text": [
            "\n",
            "100%|██████████| 13/13 [00:00<00:00, 26.36it/s]"
          ]
        },
        {
          "output_type": "stream",
          "name": "stdout",
          "text": [
            "Epoch 18/30 - Train Loss: 0.1885 - Val Loss: 0.2862\n"
          ]
        },
        {
          "output_type": "stream",
          "name": "stderr",
          "text": [
            "\n",
            "100%|██████████| 13/13 [00:00<00:00, 26.71it/s]"
          ]
        },
        {
          "output_type": "stream",
          "name": "stdout",
          "text": [
            "Epoch 19/30 - Train Loss: 0.3304 - Val Loss: 0.4369\n"
          ]
        },
        {
          "output_type": "stream",
          "name": "stderr",
          "text": [
            "\n",
            "100%|██████████| 13/13 [00:00<00:00, 27.08it/s]"
          ]
        },
        {
          "output_type": "stream",
          "name": "stdout",
          "text": [
            "Epoch 20/30 - Train Loss: 0.3003 - Val Loss: 0.4908\n"
          ]
        },
        {
          "output_type": "stream",
          "name": "stderr",
          "text": [
            "\n",
            "100%|██████████| 13/13 [00:00<00:00, 25.80it/s]"
          ]
        },
        {
          "output_type": "stream",
          "name": "stdout",
          "text": [
            "Epoch 21/30 - Train Loss: 0.2026 - Val Loss: 0.3310\n"
          ]
        },
        {
          "output_type": "stream",
          "name": "stderr",
          "text": [
            "\n",
            "100%|██████████| 13/13 [00:00<00:00, 25.61it/s]"
          ]
        },
        {
          "output_type": "stream",
          "name": "stdout",
          "text": [
            "Epoch 22/30 - Train Loss: 0.1909 - Val Loss: 0.2831\n"
          ]
        },
        {
          "output_type": "stream",
          "name": "stderr",
          "text": [
            "\n",
            "100%|██████████| 13/13 [00:00<00:00, 28.69it/s]"
          ]
        },
        {
          "output_type": "stream",
          "name": "stdout",
          "text": [
            "Epoch 23/30 - Train Loss: 0.3133 - Val Loss: 0.2755\n"
          ]
        },
        {
          "output_type": "stream",
          "name": "stderr",
          "text": [
            "\n",
            "100%|██████████| 13/13 [00:00<00:00, 27.33it/s]"
          ]
        },
        {
          "output_type": "stream",
          "name": "stdout",
          "text": [
            "Epoch 24/30 - Train Loss: 0.2233 - Val Loss: 0.3347\n"
          ]
        },
        {
          "output_type": "stream",
          "name": "stderr",
          "text": [
            "\n",
            "100%|██████████| 13/13 [00:00<00:00, 27.59it/s]"
          ]
        },
        {
          "output_type": "stream",
          "name": "stdout",
          "text": [
            "Epoch 25/30 - Train Loss: 0.1873 - Val Loss: 0.2787\n"
          ]
        },
        {
          "output_type": "stream",
          "name": "stderr",
          "text": [
            "\n",
            "100%|██████████| 13/13 [00:00<00:00, 27.56it/s]"
          ]
        },
        {
          "output_type": "stream",
          "name": "stdout",
          "text": [
            "Epoch 26/30 - Train Loss: 0.1651 - Val Loss: 0.2737\n"
          ]
        },
        {
          "output_type": "stream",
          "name": "stderr",
          "text": [
            "\n",
            "100%|██████████| 13/13 [00:00<00:00, 28.39it/s]"
          ]
        },
        {
          "output_type": "stream",
          "name": "stdout",
          "text": [
            "Epoch 27/30 - Train Loss: 0.1989 - Val Loss: 0.2854\n"
          ]
        },
        {
          "output_type": "stream",
          "name": "stderr",
          "text": [
            "\n",
            "100%|██████████| 13/13 [00:00<00:00, 27.54it/s]"
          ]
        },
        {
          "output_type": "stream",
          "name": "stdout",
          "text": [
            "Epoch 28/30 - Train Loss: 0.1899 - Val Loss: 0.2702\n"
          ]
        },
        {
          "output_type": "stream",
          "name": "stderr",
          "text": [
            "\n",
            "100%|██████████| 13/13 [00:00<00:00, 28.48it/s]"
          ]
        },
        {
          "output_type": "stream",
          "name": "stdout",
          "text": [
            "Epoch 29/30 - Train Loss: 0.2597 - Val Loss: 0.2701\n"
          ]
        },
        {
          "output_type": "stream",
          "name": "stderr",
          "text": [
            "\n",
            "100%|██████████| 13/13 [00:00<00:00, 27.28it/s]"
          ]
        },
        {
          "output_type": "stream",
          "name": "stdout",
          "text": [
            "Epoch 30/30 - Train Loss: 0.1928 - Val Loss: 0.3584\n"
          ]
        },
        {
          "output_type": "stream",
          "name": "stderr",
          "text": [
            "\n"
          ]
        }
      ]
    },
    {
      "cell_type": "code",
      "source": [
        "cycle_consistency_ABA(model1, model2, train_dataloader1, train_dataloader2)"
      ],
      "metadata": {
        "id": "lnvDmOPnFaju",
        "outputId": "ee0eef48-30eb-4a26-e952-bbb73c392f40",
        "colab": {
          "base_uri": "https://localhost:8080/"
        }
      },
      "execution_count": 40,
      "outputs": [
        {
          "output_type": "stream",
          "name": "stdout",
          "text": [
            "Layer 0 matching error: 49527.6484375\n",
            "Layer 0 ortho_err: 4.39e-05 -> Q is orthogonal: True\n",
            "Layer 2 matching error: 48291.26953125\n",
            "Layer 2 ortho_err: 4.31e-05 -> Q is orthogonal: True\n",
            "Layer 4 matching error: 4739.2548828125\n",
            "Layer 4 ortho_err: 2.45e-05 -> Q is orthogonal: True\n",
            "Layer 6 matching error: 124.9213638305664\n",
            "Layer 6 ortho_err: 2.57e-07 -> Q is orthogonal: True\n",
            "Layer 0 matching error: 45599.79296875\n",
            "Layer 0 ortho_err: 4.36e-05 -> Q is orthogonal: True\n",
            "Layer 2 matching error: 50548.9609375\n",
            "Layer 2 ortho_err: 4.33e-05 -> Q is orthogonal: True\n",
            "Layer 4 matching error: 8473.802734375\n",
            "Layer 4 ortho_err: 2.53e-05 -> Q is orthogonal: True\n",
            "Layer 6 matching error: 239.0849609375\n",
            "Layer 6 ortho_err: 2.42e-07 -> Q is orthogonal: True\n",
            "Layer 0 ABA error: 15.093887329101562\n",
            "Layer 2 ABA error: 12.44275188446045\n",
            "Layer 4 ABA error: 8.981447219848633\n",
            "Layer 6 ABA error: 0.8134855628013611\n"
          ]
        }
      ]
    },
    {
      "cell_type": "code",
      "source": [
        "cycle_consistency_ABC(model1, model2, model3, train_dataloader1, train_dataloader2, train_val3[0])"
      ],
      "metadata": {
        "id": "qZcpHG-xFnSU",
        "outputId": "f9b92dc4-95c6-4245-d39c-9893a17d692c",
        "colab": {
          "base_uri": "https://localhost:8080/"
        }
      },
      "execution_count": 41,
      "outputs": [
        {
          "output_type": "stream",
          "name": "stdout",
          "text": [
            "Layer 0 matching error: 48995.20703125\n",
            "Layer 0 ortho_err: 4.45e-05 -> Q is orthogonal: True\n",
            "Layer 2 matching error: 49235.83203125\n",
            "Layer 2 ortho_err: 4.16e-05 -> Q is orthogonal: True\n",
            "Layer 4 matching error: 4748.19140625\n",
            "Layer 4 ortho_err: 2.44e-05 -> Q is orthogonal: True\n",
            "Layer 6 matching error: 122.90137481689453\n",
            "Layer 6 ortho_err: 1.69e-07 -> Q is orthogonal: True\n",
            "Layer 0 matching error: 46195.09375\n",
            "Layer 0 ortho_err: 4.46e-05 -> Q is orthogonal: True\n",
            "Layer 2 matching error: 59693.76171875\n",
            "Layer 2 ortho_err: 4.41e-05 -> Q is orthogonal: True\n",
            "Layer 4 matching error: 8781.2548828125\n",
            "Layer 4 ortho_err: 2.47e-05 -> Q is orthogonal: True\n",
            "Layer 6 matching error: 147.3756561279297\n",
            "Layer 6 ortho_err: 6.19e-07 -> Q is orthogonal: True\n",
            "Layer 0 matching error: 48113.421875\n",
            "Layer 0 ortho_err: 4.46e-05 -> Q is orthogonal: True\n",
            "Layer 2 matching error: 49754.92578125\n",
            "Layer 2 ortho_err: 4.16e-05 -> Q is orthogonal: True\n",
            "Layer 4 matching error: 7283.57763671875\n",
            "Layer 4 ortho_err: 2.40e-05 -> Q is orthogonal: True\n",
            "Layer 6 matching error: 166.9799346923828\n",
            "Layer 6 ortho_err: 6.95e-07 -> Q is orthogonal: True\n",
            "Layer 0 ABC vs AC error: 13.609597206115723\n",
            "Layer 2 ABC vs AC error: 11.241562843322754\n",
            "Layer 4 ABC vs AC error: 8.125269889831543\n",
            "Layer 6 ABC vs AC error: 0.7501189112663269\n"
          ]
        }
      ]
    }
  ],
  "metadata": {
    "colab": {
      "provenance": []
    },
    "kernelspec": {
      "display_name": "Python 3",
      "name": "python3"
    },
    "language_info": {
      "name": "python"
    },
    "widgets": {
      "application/vnd.jupyter.widget-state+json": {
        "771c93961b8c4873967b218cb7645e61": {
          "model_module": "@jupyter-widgets/controls",
          "model_name": "HBoxModel",
          "model_module_version": "1.5.0",
          "state": {
            "_dom_classes": [],
            "_model_module": "@jupyter-widgets/controls",
            "_model_module_version": "1.5.0",
            "_model_name": "HBoxModel",
            "_view_count": null,
            "_view_module": "@jupyter-widgets/controls",
            "_view_module_version": "1.5.0",
            "_view_name": "HBoxView",
            "box_style": "",
            "children": [
              "IPY_MODEL_d4fd1c3d814c42d0b6e6b1e2c9b57585",
              "IPY_MODEL_b4552558da564f9b8e7e10b936af5c73",
              "IPY_MODEL_e4ecbb7270384a3f85d50368441f7ba7"
            ],
            "layout": "IPY_MODEL_34451d906bc7473aa30fad6b88ecf8f3"
          }
        },
        "d4fd1c3d814c42d0b6e6b1e2c9b57585": {
          "model_module": "@jupyter-widgets/controls",
          "model_name": "HTMLModel",
          "model_module_version": "1.5.0",
          "state": {
            "_dom_classes": [],
            "_model_module": "@jupyter-widgets/controls",
            "_model_module_version": "1.5.0",
            "_model_name": "HTMLModel",
            "_view_count": null,
            "_view_module": "@jupyter-widgets/controls",
            "_view_module_version": "1.5.0",
            "_view_name": "HTMLView",
            "description": "",
            "description_tooltip": null,
            "layout": "IPY_MODEL_08a3bbf22998443c8a7fc429bcbf6a7b",
            "placeholder": "​",
            "style": "IPY_MODEL_446dc01e415c4140b4f57bd9230b0354",
            "value": "README.md: "
          }
        },
        "b4552558da564f9b8e7e10b936af5c73": {
          "model_module": "@jupyter-widgets/controls",
          "model_name": "FloatProgressModel",
          "model_module_version": "1.5.0",
          "state": {
            "_dom_classes": [],
            "_model_module": "@jupyter-widgets/controls",
            "_model_module_version": "1.5.0",
            "_model_name": "FloatProgressModel",
            "_view_count": null,
            "_view_module": "@jupyter-widgets/controls",
            "_view_module_version": "1.5.0",
            "_view_name": "ProgressView",
            "bar_style": "success",
            "description": "",
            "description_tooltip": null,
            "layout": "IPY_MODEL_e933b36424414cb986573784eb0e245d",
            "max": 1,
            "min": 0,
            "orientation": "horizontal",
            "style": "IPY_MODEL_6c603a18ab814befbf837bfb83fd3138",
            "value": 1
          }
        },
        "e4ecbb7270384a3f85d50368441f7ba7": {
          "model_module": "@jupyter-widgets/controls",
          "model_name": "HTMLModel",
          "model_module_version": "1.5.0",
          "state": {
            "_dom_classes": [],
            "_model_module": "@jupyter-widgets/controls",
            "_model_module_version": "1.5.0",
            "_model_name": "HTMLModel",
            "_view_count": null,
            "_view_module": "@jupyter-widgets/controls",
            "_view_module_version": "1.5.0",
            "_view_name": "HTMLView",
            "description": "",
            "description_tooltip": null,
            "layout": "IPY_MODEL_38a8fd29cee747cfaa19f78e7948356a",
            "placeholder": "​",
            "style": "IPY_MODEL_d60c4d5be55a4eb38fe6dd0af90ded6e",
            "value": " 1.63k/? [00:00&lt;00:00, 92.1kB/s]"
          }
        },
        "34451d906bc7473aa30fad6b88ecf8f3": {
          "model_module": "@jupyter-widgets/base",
          "model_name": "LayoutModel",
          "model_module_version": "1.2.0",
          "state": {
            "_model_module": "@jupyter-widgets/base",
            "_model_module_version": "1.2.0",
            "_model_name": "LayoutModel",
            "_view_count": null,
            "_view_module": "@jupyter-widgets/base",
            "_view_module_version": "1.2.0",
            "_view_name": "LayoutView",
            "align_content": null,
            "align_items": null,
            "align_self": null,
            "border": null,
            "bottom": null,
            "display": null,
            "flex": null,
            "flex_flow": null,
            "grid_area": null,
            "grid_auto_columns": null,
            "grid_auto_flow": null,
            "grid_auto_rows": null,
            "grid_column": null,
            "grid_gap": null,
            "grid_row": null,
            "grid_template_areas": null,
            "grid_template_columns": null,
            "grid_template_rows": null,
            "height": null,
            "justify_content": null,
            "justify_items": null,
            "left": null,
            "margin": null,
            "max_height": null,
            "max_width": null,
            "min_height": null,
            "min_width": null,
            "object_fit": null,
            "object_position": null,
            "order": null,
            "overflow": null,
            "overflow_x": null,
            "overflow_y": null,
            "padding": null,
            "right": null,
            "top": null,
            "visibility": null,
            "width": null
          }
        },
        "08a3bbf22998443c8a7fc429bcbf6a7b": {
          "model_module": "@jupyter-widgets/base",
          "model_name": "LayoutModel",
          "model_module_version": "1.2.0",
          "state": {
            "_model_module": "@jupyter-widgets/base",
            "_model_module_version": "1.2.0",
            "_model_name": "LayoutModel",
            "_view_count": null,
            "_view_module": "@jupyter-widgets/base",
            "_view_module_version": "1.2.0",
            "_view_name": "LayoutView",
            "align_content": null,
            "align_items": null,
            "align_self": null,
            "border": null,
            "bottom": null,
            "display": null,
            "flex": null,
            "flex_flow": null,
            "grid_area": null,
            "grid_auto_columns": null,
            "grid_auto_flow": null,
            "grid_auto_rows": null,
            "grid_column": null,
            "grid_gap": null,
            "grid_row": null,
            "grid_template_areas": null,
            "grid_template_columns": null,
            "grid_template_rows": null,
            "height": null,
            "justify_content": null,
            "justify_items": null,
            "left": null,
            "margin": null,
            "max_height": null,
            "max_width": null,
            "min_height": null,
            "min_width": null,
            "object_fit": null,
            "object_position": null,
            "order": null,
            "overflow": null,
            "overflow_x": null,
            "overflow_y": null,
            "padding": null,
            "right": null,
            "top": null,
            "visibility": null,
            "width": null
          }
        },
        "446dc01e415c4140b4f57bd9230b0354": {
          "model_module": "@jupyter-widgets/controls",
          "model_name": "DescriptionStyleModel",
          "model_module_version": "1.5.0",
          "state": {
            "_model_module": "@jupyter-widgets/controls",
            "_model_module_version": "1.5.0",
            "_model_name": "DescriptionStyleModel",
            "_view_count": null,
            "_view_module": "@jupyter-widgets/base",
            "_view_module_version": "1.2.0",
            "_view_name": "StyleView",
            "description_width": ""
          }
        },
        "e933b36424414cb986573784eb0e245d": {
          "model_module": "@jupyter-widgets/base",
          "model_name": "LayoutModel",
          "model_module_version": "1.2.0",
          "state": {
            "_model_module": "@jupyter-widgets/base",
            "_model_module_version": "1.2.0",
            "_model_name": "LayoutModel",
            "_view_count": null,
            "_view_module": "@jupyter-widgets/base",
            "_view_module_version": "1.2.0",
            "_view_name": "LayoutView",
            "align_content": null,
            "align_items": null,
            "align_self": null,
            "border": null,
            "bottom": null,
            "display": null,
            "flex": null,
            "flex_flow": null,
            "grid_area": null,
            "grid_auto_columns": null,
            "grid_auto_flow": null,
            "grid_auto_rows": null,
            "grid_column": null,
            "grid_gap": null,
            "grid_row": null,
            "grid_template_areas": null,
            "grid_template_columns": null,
            "grid_template_rows": null,
            "height": null,
            "justify_content": null,
            "justify_items": null,
            "left": null,
            "margin": null,
            "max_height": null,
            "max_width": null,
            "min_height": null,
            "min_width": null,
            "object_fit": null,
            "object_position": null,
            "order": null,
            "overflow": null,
            "overflow_x": null,
            "overflow_y": null,
            "padding": null,
            "right": null,
            "top": null,
            "visibility": null,
            "width": "20px"
          }
        },
        "6c603a18ab814befbf837bfb83fd3138": {
          "model_module": "@jupyter-widgets/controls",
          "model_name": "ProgressStyleModel",
          "model_module_version": "1.5.0",
          "state": {
            "_model_module": "@jupyter-widgets/controls",
            "_model_module_version": "1.5.0",
            "_model_name": "ProgressStyleModel",
            "_view_count": null,
            "_view_module": "@jupyter-widgets/base",
            "_view_module_version": "1.2.0",
            "_view_name": "StyleView",
            "bar_color": null,
            "description_width": ""
          }
        },
        "38a8fd29cee747cfaa19f78e7948356a": {
          "model_module": "@jupyter-widgets/base",
          "model_name": "LayoutModel",
          "model_module_version": "1.2.0",
          "state": {
            "_model_module": "@jupyter-widgets/base",
            "_model_module_version": "1.2.0",
            "_model_name": "LayoutModel",
            "_view_count": null,
            "_view_module": "@jupyter-widgets/base",
            "_view_module_version": "1.2.0",
            "_view_name": "LayoutView",
            "align_content": null,
            "align_items": null,
            "align_self": null,
            "border": null,
            "bottom": null,
            "display": null,
            "flex": null,
            "flex_flow": null,
            "grid_area": null,
            "grid_auto_columns": null,
            "grid_auto_flow": null,
            "grid_auto_rows": null,
            "grid_column": null,
            "grid_gap": null,
            "grid_row": null,
            "grid_template_areas": null,
            "grid_template_columns": null,
            "grid_template_rows": null,
            "height": null,
            "justify_content": null,
            "justify_items": null,
            "left": null,
            "margin": null,
            "max_height": null,
            "max_width": null,
            "min_height": null,
            "min_width": null,
            "object_fit": null,
            "object_position": null,
            "order": null,
            "overflow": null,
            "overflow_x": null,
            "overflow_y": null,
            "padding": null,
            "right": null,
            "top": null,
            "visibility": null,
            "width": null
          }
        },
        "d60c4d5be55a4eb38fe6dd0af90ded6e": {
          "model_module": "@jupyter-widgets/controls",
          "model_name": "DescriptionStyleModel",
          "model_module_version": "1.5.0",
          "state": {
            "_model_module": "@jupyter-widgets/controls",
            "_model_module_version": "1.5.0",
            "_model_name": "DescriptionStyleModel",
            "_view_count": null,
            "_view_module": "@jupyter-widgets/base",
            "_view_module_version": "1.2.0",
            "_view_name": "StyleView",
            "description_width": ""
          }
        },
        "41c79578f5fd482ab6154fa16b1faa93": {
          "model_module": "@jupyter-widgets/controls",
          "model_name": "HBoxModel",
          "model_module_version": "1.5.0",
          "state": {
            "_dom_classes": [],
            "_model_module": "@jupyter-widgets/controls",
            "_model_module_version": "1.5.0",
            "_model_name": "HBoxModel",
            "_view_count": null,
            "_view_module": "@jupyter-widgets/controls",
            "_view_module_version": "1.5.0",
            "_view_name": "HBoxView",
            "box_style": "",
            "children": [
              "IPY_MODEL_41b2a1be9dc144d6935aaa6e44f1754b",
              "IPY_MODEL_b575b56623214f339800e6740fb3e5e3",
              "IPY_MODEL_489c843e6258467689265774e68da1ae"
            ],
            "layout": "IPY_MODEL_15530199e2884c6ab60da1ed8abede43"
          }
        },
        "41b2a1be9dc144d6935aaa6e44f1754b": {
          "model_module": "@jupyter-widgets/controls",
          "model_name": "HTMLModel",
          "model_module_version": "1.5.0",
          "state": {
            "_dom_classes": [],
            "_model_module": "@jupyter-widgets/controls",
            "_model_module_version": "1.5.0",
            "_model_name": "HTMLModel",
            "_view_count": null,
            "_view_module": "@jupyter-widgets/controls",
            "_view_module_version": "1.5.0",
            "_view_name": "HTMLView",
            "description": "",
            "description_tooltip": null,
            "layout": "IPY_MODEL_4141dbfd81d74c41b4db4ea60e8319ce",
            "placeholder": "​",
            "style": "IPY_MODEL_07e4191cf2e145bf9cfdbe463538dd3f",
            "value": "breast_cancer.csv: "
          }
        },
        "b575b56623214f339800e6740fb3e5e3": {
          "model_module": "@jupyter-widgets/controls",
          "model_name": "FloatProgressModel",
          "model_module_version": "1.5.0",
          "state": {
            "_dom_classes": [],
            "_model_module": "@jupyter-widgets/controls",
            "_model_module_version": "1.5.0",
            "_model_name": "FloatProgressModel",
            "_view_count": null,
            "_view_module": "@jupyter-widgets/controls",
            "_view_module_version": "1.5.0",
            "_view_name": "ProgressView",
            "bar_style": "success",
            "description": "",
            "description_tooltip": null,
            "layout": "IPY_MODEL_2958b4d0a0564551b28cc9987cfcb8d1",
            "max": 1,
            "min": 0,
            "orientation": "horizontal",
            "style": "IPY_MODEL_e1d8a3ea0d014ae8b0a68d445163e123",
            "value": 1
          }
        },
        "489c843e6258467689265774e68da1ae": {
          "model_module": "@jupyter-widgets/controls",
          "model_name": "HTMLModel",
          "model_module_version": "1.5.0",
          "state": {
            "_dom_classes": [],
            "_model_module": "@jupyter-widgets/controls",
            "_model_module_version": "1.5.0",
            "_model_name": "HTMLModel",
            "_view_count": null,
            "_view_module": "@jupyter-widgets/controls",
            "_view_module_version": "1.5.0",
            "_view_name": "HTMLView",
            "description": "",
            "description_tooltip": null,
            "layout": "IPY_MODEL_2531644d02bf4e1f933cbc93c88ea164",
            "placeholder": "​",
            "style": "IPY_MODEL_c265b3d26c224b1192c48b96288dba70",
            "value": " 125k/? [00:00&lt;00:00, 6.67MB/s]"
          }
        },
        "15530199e2884c6ab60da1ed8abede43": {
          "model_module": "@jupyter-widgets/base",
          "model_name": "LayoutModel",
          "model_module_version": "1.2.0",
          "state": {
            "_model_module": "@jupyter-widgets/base",
            "_model_module_version": "1.2.0",
            "_model_name": "LayoutModel",
            "_view_count": null,
            "_view_module": "@jupyter-widgets/base",
            "_view_module_version": "1.2.0",
            "_view_name": "LayoutView",
            "align_content": null,
            "align_items": null,
            "align_self": null,
            "border": null,
            "bottom": null,
            "display": null,
            "flex": null,
            "flex_flow": null,
            "grid_area": null,
            "grid_auto_columns": null,
            "grid_auto_flow": null,
            "grid_auto_rows": null,
            "grid_column": null,
            "grid_gap": null,
            "grid_row": null,
            "grid_template_areas": null,
            "grid_template_columns": null,
            "grid_template_rows": null,
            "height": null,
            "justify_content": null,
            "justify_items": null,
            "left": null,
            "margin": null,
            "max_height": null,
            "max_width": null,
            "min_height": null,
            "min_width": null,
            "object_fit": null,
            "object_position": null,
            "order": null,
            "overflow": null,
            "overflow_x": null,
            "overflow_y": null,
            "padding": null,
            "right": null,
            "top": null,
            "visibility": null,
            "width": null
          }
        },
        "4141dbfd81d74c41b4db4ea60e8319ce": {
          "model_module": "@jupyter-widgets/base",
          "model_name": "LayoutModel",
          "model_module_version": "1.2.0",
          "state": {
            "_model_module": "@jupyter-widgets/base",
            "_model_module_version": "1.2.0",
            "_model_name": "LayoutModel",
            "_view_count": null,
            "_view_module": "@jupyter-widgets/base",
            "_view_module_version": "1.2.0",
            "_view_name": "LayoutView",
            "align_content": null,
            "align_items": null,
            "align_self": null,
            "border": null,
            "bottom": null,
            "display": null,
            "flex": null,
            "flex_flow": null,
            "grid_area": null,
            "grid_auto_columns": null,
            "grid_auto_flow": null,
            "grid_auto_rows": null,
            "grid_column": null,
            "grid_gap": null,
            "grid_row": null,
            "grid_template_areas": null,
            "grid_template_columns": null,
            "grid_template_rows": null,
            "height": null,
            "justify_content": null,
            "justify_items": null,
            "left": null,
            "margin": null,
            "max_height": null,
            "max_width": null,
            "min_height": null,
            "min_width": null,
            "object_fit": null,
            "object_position": null,
            "order": null,
            "overflow": null,
            "overflow_x": null,
            "overflow_y": null,
            "padding": null,
            "right": null,
            "top": null,
            "visibility": null,
            "width": null
          }
        },
        "07e4191cf2e145bf9cfdbe463538dd3f": {
          "model_module": "@jupyter-widgets/controls",
          "model_name": "DescriptionStyleModel",
          "model_module_version": "1.5.0",
          "state": {
            "_model_module": "@jupyter-widgets/controls",
            "_model_module_version": "1.5.0",
            "_model_name": "DescriptionStyleModel",
            "_view_count": null,
            "_view_module": "@jupyter-widgets/base",
            "_view_module_version": "1.2.0",
            "_view_name": "StyleView",
            "description_width": ""
          }
        },
        "2958b4d0a0564551b28cc9987cfcb8d1": {
          "model_module": "@jupyter-widgets/base",
          "model_name": "LayoutModel",
          "model_module_version": "1.2.0",
          "state": {
            "_model_module": "@jupyter-widgets/base",
            "_model_module_version": "1.2.0",
            "_model_name": "LayoutModel",
            "_view_count": null,
            "_view_module": "@jupyter-widgets/base",
            "_view_module_version": "1.2.0",
            "_view_name": "LayoutView",
            "align_content": null,
            "align_items": null,
            "align_self": null,
            "border": null,
            "bottom": null,
            "display": null,
            "flex": null,
            "flex_flow": null,
            "grid_area": null,
            "grid_auto_columns": null,
            "grid_auto_flow": null,
            "grid_auto_rows": null,
            "grid_column": null,
            "grid_gap": null,
            "grid_row": null,
            "grid_template_areas": null,
            "grid_template_columns": null,
            "grid_template_rows": null,
            "height": null,
            "justify_content": null,
            "justify_items": null,
            "left": null,
            "margin": null,
            "max_height": null,
            "max_width": null,
            "min_height": null,
            "min_width": null,
            "object_fit": null,
            "object_position": null,
            "order": null,
            "overflow": null,
            "overflow_x": null,
            "overflow_y": null,
            "padding": null,
            "right": null,
            "top": null,
            "visibility": null,
            "width": "20px"
          }
        },
        "e1d8a3ea0d014ae8b0a68d445163e123": {
          "model_module": "@jupyter-widgets/controls",
          "model_name": "ProgressStyleModel",
          "model_module_version": "1.5.0",
          "state": {
            "_model_module": "@jupyter-widgets/controls",
            "_model_module_version": "1.5.0",
            "_model_name": "ProgressStyleModel",
            "_view_count": null,
            "_view_module": "@jupyter-widgets/base",
            "_view_module_version": "1.2.0",
            "_view_name": "StyleView",
            "bar_color": null,
            "description_width": ""
          }
        },
        "2531644d02bf4e1f933cbc93c88ea164": {
          "model_module": "@jupyter-widgets/base",
          "model_name": "LayoutModel",
          "model_module_version": "1.2.0",
          "state": {
            "_model_module": "@jupyter-widgets/base",
            "_model_module_version": "1.2.0",
            "_model_name": "LayoutModel",
            "_view_count": null,
            "_view_module": "@jupyter-widgets/base",
            "_view_module_version": "1.2.0",
            "_view_name": "LayoutView",
            "align_content": null,
            "align_items": null,
            "align_self": null,
            "border": null,
            "bottom": null,
            "display": null,
            "flex": null,
            "flex_flow": null,
            "grid_area": null,
            "grid_auto_columns": null,
            "grid_auto_flow": null,
            "grid_auto_rows": null,
            "grid_column": null,
            "grid_gap": null,
            "grid_row": null,
            "grid_template_areas": null,
            "grid_template_columns": null,
            "grid_template_rows": null,
            "height": null,
            "justify_content": null,
            "justify_items": null,
            "left": null,
            "margin": null,
            "max_height": null,
            "max_width": null,
            "min_height": null,
            "min_width": null,
            "object_fit": null,
            "object_position": null,
            "order": null,
            "overflow": null,
            "overflow_x": null,
            "overflow_y": null,
            "padding": null,
            "right": null,
            "top": null,
            "visibility": null,
            "width": null
          }
        },
        "c265b3d26c224b1192c48b96288dba70": {
          "model_module": "@jupyter-widgets/controls",
          "model_name": "DescriptionStyleModel",
          "model_module_version": "1.5.0",
          "state": {
            "_model_module": "@jupyter-widgets/controls",
            "_model_module_version": "1.5.0",
            "_model_name": "DescriptionStyleModel",
            "_view_count": null,
            "_view_module": "@jupyter-widgets/base",
            "_view_module_version": "1.2.0",
            "_view_name": "StyleView",
            "description_width": ""
          }
        },
        "c83b77ad08b64475af6ac902612cbf75": {
          "model_module": "@jupyter-widgets/controls",
          "model_name": "HBoxModel",
          "model_module_version": "1.5.0",
          "state": {
            "_dom_classes": [],
            "_model_module": "@jupyter-widgets/controls",
            "_model_module_version": "1.5.0",
            "_model_name": "HBoxModel",
            "_view_count": null,
            "_view_module": "@jupyter-widgets/controls",
            "_view_module_version": "1.5.0",
            "_view_name": "HBoxView",
            "box_style": "",
            "children": [
              "IPY_MODEL_001c30486a9d4d7f877d6d13af484898",
              "IPY_MODEL_2040e3d7590447d990173c2d19294abb",
              "IPY_MODEL_adf6cc8042f04aa88ecf032c62d747fe"
            ],
            "layout": "IPY_MODEL_0165e52d84aa44f495fa670bb1fd9030"
          }
        },
        "001c30486a9d4d7f877d6d13af484898": {
          "model_module": "@jupyter-widgets/controls",
          "model_name": "HTMLModel",
          "model_module_version": "1.5.0",
          "state": {
            "_dom_classes": [],
            "_model_module": "@jupyter-widgets/controls",
            "_model_module_version": "1.5.0",
            "_model_name": "HTMLModel",
            "_view_count": null,
            "_view_module": "@jupyter-widgets/controls",
            "_view_module_version": "1.5.0",
            "_view_name": "HTMLView",
            "description": "",
            "description_tooltip": null,
            "layout": "IPY_MODEL_cf5786eba63843ab930cdd56d42164d4",
            "placeholder": "​",
            "style": "IPY_MODEL_412b58621fcf4feca5751b9d34543706",
            "value": "Generating train split: 100%"
          }
        },
        "2040e3d7590447d990173c2d19294abb": {
          "model_module": "@jupyter-widgets/controls",
          "model_name": "FloatProgressModel",
          "model_module_version": "1.5.0",
          "state": {
            "_dom_classes": [],
            "_model_module": "@jupyter-widgets/controls",
            "_model_module_version": "1.5.0",
            "_model_name": "FloatProgressModel",
            "_view_count": null,
            "_view_module": "@jupyter-widgets/controls",
            "_view_module_version": "1.5.0",
            "_view_name": "ProgressView",
            "bar_style": "success",
            "description": "",
            "description_tooltip": null,
            "layout": "IPY_MODEL_b3fbe0ac315d461a84fadc127d4ad9b9",
            "max": 569,
            "min": 0,
            "orientation": "horizontal",
            "style": "IPY_MODEL_31f9d0a095e5427cb9ed844f515212f1",
            "value": 569
          }
        },
        "adf6cc8042f04aa88ecf032c62d747fe": {
          "model_module": "@jupyter-widgets/controls",
          "model_name": "HTMLModel",
          "model_module_version": "1.5.0",
          "state": {
            "_dom_classes": [],
            "_model_module": "@jupyter-widgets/controls",
            "_model_module_version": "1.5.0",
            "_model_name": "HTMLModel",
            "_view_count": null,
            "_view_module": "@jupyter-widgets/controls",
            "_view_module_version": "1.5.0",
            "_view_name": "HTMLView",
            "description": "",
            "description_tooltip": null,
            "layout": "IPY_MODEL_a5ab844bad574ed6b13ea466033b8a98",
            "placeholder": "​",
            "style": "IPY_MODEL_0fc878bfba194a6e873b709f34f4c932",
            "value": " 569/569 [00:00&lt;00:00, 8165.32 examples/s]"
          }
        },
        "0165e52d84aa44f495fa670bb1fd9030": {
          "model_module": "@jupyter-widgets/base",
          "model_name": "LayoutModel",
          "model_module_version": "1.2.0",
          "state": {
            "_model_module": "@jupyter-widgets/base",
            "_model_module_version": "1.2.0",
            "_model_name": "LayoutModel",
            "_view_count": null,
            "_view_module": "@jupyter-widgets/base",
            "_view_module_version": "1.2.0",
            "_view_name": "LayoutView",
            "align_content": null,
            "align_items": null,
            "align_self": null,
            "border": null,
            "bottom": null,
            "display": null,
            "flex": null,
            "flex_flow": null,
            "grid_area": null,
            "grid_auto_columns": null,
            "grid_auto_flow": null,
            "grid_auto_rows": null,
            "grid_column": null,
            "grid_gap": null,
            "grid_row": null,
            "grid_template_areas": null,
            "grid_template_columns": null,
            "grid_template_rows": null,
            "height": null,
            "justify_content": null,
            "justify_items": null,
            "left": null,
            "margin": null,
            "max_height": null,
            "max_width": null,
            "min_height": null,
            "min_width": null,
            "object_fit": null,
            "object_position": null,
            "order": null,
            "overflow": null,
            "overflow_x": null,
            "overflow_y": null,
            "padding": null,
            "right": null,
            "top": null,
            "visibility": null,
            "width": null
          }
        },
        "cf5786eba63843ab930cdd56d42164d4": {
          "model_module": "@jupyter-widgets/base",
          "model_name": "LayoutModel",
          "model_module_version": "1.2.0",
          "state": {
            "_model_module": "@jupyter-widgets/base",
            "_model_module_version": "1.2.0",
            "_model_name": "LayoutModel",
            "_view_count": null,
            "_view_module": "@jupyter-widgets/base",
            "_view_module_version": "1.2.0",
            "_view_name": "LayoutView",
            "align_content": null,
            "align_items": null,
            "align_self": null,
            "border": null,
            "bottom": null,
            "display": null,
            "flex": null,
            "flex_flow": null,
            "grid_area": null,
            "grid_auto_columns": null,
            "grid_auto_flow": null,
            "grid_auto_rows": null,
            "grid_column": null,
            "grid_gap": null,
            "grid_row": null,
            "grid_template_areas": null,
            "grid_template_columns": null,
            "grid_template_rows": null,
            "height": null,
            "justify_content": null,
            "justify_items": null,
            "left": null,
            "margin": null,
            "max_height": null,
            "max_width": null,
            "min_height": null,
            "min_width": null,
            "object_fit": null,
            "object_position": null,
            "order": null,
            "overflow": null,
            "overflow_x": null,
            "overflow_y": null,
            "padding": null,
            "right": null,
            "top": null,
            "visibility": null,
            "width": null
          }
        },
        "412b58621fcf4feca5751b9d34543706": {
          "model_module": "@jupyter-widgets/controls",
          "model_name": "DescriptionStyleModel",
          "model_module_version": "1.5.0",
          "state": {
            "_model_module": "@jupyter-widgets/controls",
            "_model_module_version": "1.5.0",
            "_model_name": "DescriptionStyleModel",
            "_view_count": null,
            "_view_module": "@jupyter-widgets/base",
            "_view_module_version": "1.2.0",
            "_view_name": "StyleView",
            "description_width": ""
          }
        },
        "b3fbe0ac315d461a84fadc127d4ad9b9": {
          "model_module": "@jupyter-widgets/base",
          "model_name": "LayoutModel",
          "model_module_version": "1.2.0",
          "state": {
            "_model_module": "@jupyter-widgets/base",
            "_model_module_version": "1.2.0",
            "_model_name": "LayoutModel",
            "_view_count": null,
            "_view_module": "@jupyter-widgets/base",
            "_view_module_version": "1.2.0",
            "_view_name": "LayoutView",
            "align_content": null,
            "align_items": null,
            "align_self": null,
            "border": null,
            "bottom": null,
            "display": null,
            "flex": null,
            "flex_flow": null,
            "grid_area": null,
            "grid_auto_columns": null,
            "grid_auto_flow": null,
            "grid_auto_rows": null,
            "grid_column": null,
            "grid_gap": null,
            "grid_row": null,
            "grid_template_areas": null,
            "grid_template_columns": null,
            "grid_template_rows": null,
            "height": null,
            "justify_content": null,
            "justify_items": null,
            "left": null,
            "margin": null,
            "max_height": null,
            "max_width": null,
            "min_height": null,
            "min_width": null,
            "object_fit": null,
            "object_position": null,
            "order": null,
            "overflow": null,
            "overflow_x": null,
            "overflow_y": null,
            "padding": null,
            "right": null,
            "top": null,
            "visibility": null,
            "width": null
          }
        },
        "31f9d0a095e5427cb9ed844f515212f1": {
          "model_module": "@jupyter-widgets/controls",
          "model_name": "ProgressStyleModel",
          "model_module_version": "1.5.0",
          "state": {
            "_model_module": "@jupyter-widgets/controls",
            "_model_module_version": "1.5.0",
            "_model_name": "ProgressStyleModel",
            "_view_count": null,
            "_view_module": "@jupyter-widgets/base",
            "_view_module_version": "1.2.0",
            "_view_name": "StyleView",
            "bar_color": null,
            "description_width": ""
          }
        },
        "a5ab844bad574ed6b13ea466033b8a98": {
          "model_module": "@jupyter-widgets/base",
          "model_name": "LayoutModel",
          "model_module_version": "1.2.0",
          "state": {
            "_model_module": "@jupyter-widgets/base",
            "_model_module_version": "1.2.0",
            "_model_name": "LayoutModel",
            "_view_count": null,
            "_view_module": "@jupyter-widgets/base",
            "_view_module_version": "1.2.0",
            "_view_name": "LayoutView",
            "align_content": null,
            "align_items": null,
            "align_self": null,
            "border": null,
            "bottom": null,
            "display": null,
            "flex": null,
            "flex_flow": null,
            "grid_area": null,
            "grid_auto_columns": null,
            "grid_auto_flow": null,
            "grid_auto_rows": null,
            "grid_column": null,
            "grid_gap": null,
            "grid_row": null,
            "grid_template_areas": null,
            "grid_template_columns": null,
            "grid_template_rows": null,
            "height": null,
            "justify_content": null,
            "justify_items": null,
            "left": null,
            "margin": null,
            "max_height": null,
            "max_width": null,
            "min_height": null,
            "min_width": null,
            "object_fit": null,
            "object_position": null,
            "order": null,
            "overflow": null,
            "overflow_x": null,
            "overflow_y": null,
            "padding": null,
            "right": null,
            "top": null,
            "visibility": null,
            "width": null
          }
        },
        "0fc878bfba194a6e873b709f34f4c932": {
          "model_module": "@jupyter-widgets/controls",
          "model_name": "DescriptionStyleModel",
          "model_module_version": "1.5.0",
          "state": {
            "_model_module": "@jupyter-widgets/controls",
            "_model_module_version": "1.5.0",
            "_model_name": "DescriptionStyleModel",
            "_view_count": null,
            "_view_module": "@jupyter-widgets/base",
            "_view_module_version": "1.2.0",
            "_view_name": "StyleView",
            "description_width": ""
          }
        }
      }
    }
  },
  "nbformat": 4,
  "nbformat_minor": 0
}