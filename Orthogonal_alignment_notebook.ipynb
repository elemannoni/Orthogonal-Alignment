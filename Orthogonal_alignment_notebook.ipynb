{
  "cells": [
    {
      "cell_type": "markdown",
      "source": [
        "## Inizializzazione"
      ],
      "metadata": {
        "id": "DFs08n-RmZGV"
      }
    },
    {
      "cell_type": "code",
      "source": [
        "!git clone https://github.com/elemannoni/Orthogonal-Alignment.git\n",
        "%cd Orthogonal-Alignment"
      ],
      "metadata": {
        "id": "QLuBi34wQ14e",
        "outputId": "7ed3417d-cfc0-4d05-f160-bedd16666334",
        "colab": {
          "base_uri": "https://localhost:8080/"
        }
      },
      "execution_count": 14,
      "outputs": [
        {
          "output_type": "stream",
          "name": "stdout",
          "text": [
            "Cloning into 'Orthogonal-Alignment'...\n",
            "remote: Enumerating objects: 153, done.\u001b[K\n",
            "remote: Counting objects: 100% (153/153), done.\u001b[K\n",
            "remote: Compressing objects: 100% (149/149), done.\u001b[K\n",
            "remote: Total 153 (delta 66), reused 9 (delta 2), pack-reused 0 (from 0)\u001b[K\n",
            "Receiving objects: 100% (153/153), 266.14 KiB | 4.03 MiB/s, done.\n",
            "Resolving deltas: 100% (66/66), done.\n",
            "/content/Orthogonal-Alignment\n"
          ]
        }
      ]
    },
    {
      "cell_type": "code",
      "execution_count": null,
      "metadata": {
        "id": "yucMP7Y7qh_M"
      },
      "outputs": [],
      "source": [
        "import torch\n",
        "import random\n",
        "import torch.nn as nn\n",
        "import torch.nn.functional as F\n",
        "import matplotlib.pyplot as plt\n",
        "import copy\n",
        "from tabulate import tabulate"
      ]
    },
    {
      "cell_type": "code",
      "execution_count": null,
      "metadata": {
        "id": "HSZtXNv604b8"
      },
      "outputs": [],
      "source": [
        "class SpecDataset(torch.utils.data.Dataset):\n",
        "  def __init__(self, pairs):\n",
        "    super().__init__()\n",
        "    self.pairs = pairs\n",
        "\n",
        "  def __len__(self):\n",
        "    return len(self.pairs)\n",
        "\n",
        "  def __getitem__(self, idx):\n",
        "    return {\"x\":self.pairs[idx][0], \"y\":self.pairs[idx][1]}"
      ]
    },
    {
      "cell_type": "code",
      "source": [
        "seed = 2019\n",
        "random.seed(seed)"
      ],
      "metadata": {
        "id": "8XDifEu8g8DN"
      },
      "execution_count": null,
      "outputs": []
    },
    {
      "cell_type": "code",
      "source": [
        "cuda = False\n",
        "device = \"cuda\" if torch.cuda.is_available() and cuda else \"cpu\""
      ],
      "metadata": {
        "id": "Yrdbv7gGtFo5"
      },
      "execution_count": null,
      "outputs": []
    },
    {
      "cell_type": "markdown",
      "source": [
        "**Creazione dei DataLoader**\n",
        "\n",
        "Per la gestione del dataset utilizzo la funzione *create_dataloaders*, definita nel file dataset_BreastCancer.py nella cartella src della repository.  \n",
        "\n",
        "Questa funzione prepara i DataLoader per tre modelli distinti, restituendo per ognuno train e validation set.Il Dataloader per il test primi due modelli è invece comune.\n",
        "\n",
        "\n",
        "In particoalre, la funzione:\n",
        "- **Scarica automaticamente** il dataset *BreastCancer* dal repository pubblico di Hugging Face (*datasets*).\n",
        "- **Converte i campioni** in coppie (features, label), dove le features sono tensori float32 e le labels long.\n",
        "- **Suddivide i dati** in training, validation e test set utilizzando un seed per assicurare la riproducibilità dello split.\n",
        "- **Incorpora i dati** in un dataset personalizzato *SpecDataset* (anche questo presente nel file dataset_BreastCancer.py), derivato da *torch.utils.data.Dataset*, che restituisce ogni campione come dizionario {\"x\": ..., \"y\": ...}.\n",
        "- **Crea i DataLoader** di training, validation e test con *torch.utils.data.DataLoader*, parametrizzati dalla batch_size e con shuffle attivo solo in training.\n",
        "\n",
        "Input della funzione:\n",
        "- seed(int): per controllare lo split casuale dei dati.\n",
        "- batch_size(int)`: per determinare la dimensione dei batch.\n",
        "\n",
        "Gli output della funzione sono:\n",
        "- una tupla (train_dataloader1, val_dataloader1)\n",
        "- una seconda tupla (train_dataloader2, val_dataloader2)\n",
        "- il test_dataloader\n",
        "- un'ultima tupla (train_dataloader3, val_dataloader3)"
      ],
      "metadata": {
        "id": "g92gqDy3c2t-"
      }
    },
    {
      "cell_type": "code",
      "source": [
        "from src.dataset_BreastCancer import create_dataloaders\n",
        "\n",
        "train_val1, train_val2, test_dataloader, train_val3 = create_dataloaders(seed=2019 , batch_size = 32)\n",
        "train_dataloader1 = train_val1[0]\n",
        "val_dataloader1 = train_val1[1]\n",
        "train_dataloader2 = train_val2[0]\n",
        "val_dataloader2 = train_val2[1]\n"
      ],
      "metadata": {
        "id": "D_HCCzlNFUVN",
        "outputId": "eec9b748-1c3a-4cf8-f450-6bd75c119eae",
        "colab": {
          "base_uri": "https://localhost:8080/",
          "height": 569,
          "referenced_widgets": [
            "9c10b5dd03b142808b9babf04dd5993a",
            "212d476ccb0f4fb692ae715726e624c6",
            "2e4dfcf2374345bd95f1e61f4053ac5f",
            "133c5e2d43844002af1026378814c395",
            "59c597217efa4de3a110080b5d8198be",
            "701c610d0cd74977b4895621ca34bc03",
            "27779ade793049448541aa34e1b9a70d",
            "2ee8488351a34fe59790fbdfd1c1b6af",
            "46d1499a064f4b1b88efb8bd3bf07e2b",
            "497d32ff913849579b030e61e74e2e12",
            "554d178f66084a38858cdb243bcb874f",
            "a1f5cdaf3c5846e49155ed23fc141458",
            "6b43d62186a54e81bbd1d8eff07bb623",
            "b19b7e95eaec444783a28cbccac300f6",
            "5b70f2ea217a43af9bf7d049b35cfe15",
            "9df10fe49ff9496389c7c962b12a49f0",
            "8a448fb8e8124a10a3b494c4ac60942f",
            "a429dc530cf14b14a5a567d43e3ed65d",
            "30c2483432e54dc3a783fba32ee417a1",
            "8610a178748e43f39980ea78e875da59",
            "52e101d4106d40fb9fe7313881bc2d78",
            "532f002f1ae34c4db588bb5d178f42f0",
            "7db4cf80c9fc4f53a33ab62e72eaffd5",
            "b8aa57202ac8476fa50c01aebbe8b7d0",
            "31e8c83a066f44aeb11ae65d7d47899f",
            "886106e4caa04a448556aae2b39a6dcf",
            "dca7d4297adf4049909833cc017a2462",
            "19fd618acb1f4d509e2bda158c5bdf6f",
            "1731a7284dfc44348a68d1fed68c9e9f",
            "5be867dbc49444309abb5e4a615bd1b6",
            "29011acd1ad64570bb2073e2c071c518",
            "6662ab33b3864170b0f5d2e366072cd9",
            "9ec4327c076c40da955e1bc5da0e1867"
          ]
        }
      },
      "execution_count": 17,
      "outputs": [
        {
          "output_type": "stream",
          "name": "stderr",
          "text": [
            "/usr/local/lib/python3.12/dist-packages/huggingface_hub/utils/_auth.py:94: UserWarning: \n",
            "The secret `HF_TOKEN` does not exist in your Colab secrets.\n",
            "To authenticate with the Hugging Face Hub, create a token in your settings tab (https://huggingface.co/settings/tokens), set it as secret in your Google Colab and restart your session.\n",
            "You will be able to reuse this secret in all of your notebooks.\n",
            "Please note that authentication is recommended but still optional to access public models or datasets.\n",
            "  warnings.warn(\n"
          ]
        },
        {
          "output_type": "display_data",
          "data": {
            "text/plain": [
              "README.md: 0.00B [00:00, ?B/s]"
            ],
            "application/vnd.jupyter.widget-view+json": {
              "version_major": 2,
              "version_minor": 0,
              "model_id": "9c10b5dd03b142808b9babf04dd5993a"
            }
          },
          "metadata": {}
        },
        {
          "output_type": "display_data",
          "data": {
            "text/plain": [
              "breast_cancer.csv: 0.00B [00:00, ?B/s]"
            ],
            "application/vnd.jupyter.widget-view+json": {
              "version_major": 2,
              "version_minor": 0,
              "model_id": "a1f5cdaf3c5846e49155ed23fc141458"
            }
          },
          "metadata": {}
        },
        {
          "output_type": "display_data",
          "data": {
            "text/plain": [
              "Generating train split:   0%|          | 0/569 [00:00<?, ? examples/s]"
            ],
            "application/vnd.jupyter.widget-view+json": {
              "version_major": 2,
              "version_minor": 0,
              "model_id": "7db4cf80c9fc4f53a33ab62e72eaffd5"
            }
          },
          "metadata": {}
        },
        {
          "output_type": "error",
          "ename": "TypeError",
          "evalue": "object of type 'NoneType' has no len()",
          "traceback": [
            "\u001b[0;31m---------------------------------------------------------------------------\u001b[0m",
            "\u001b[0;31mTypeError\u001b[0m                                 Traceback (most recent call last)",
            "\u001b[0;32m/tmp/ipython-input-2392918624.py\u001b[0m in \u001b[0;36m<cell line: 0>\u001b[0;34m()\u001b[0m\n\u001b[1;32m      1\u001b[0m \u001b[0;32mfrom\u001b[0m \u001b[0msrc\u001b[0m\u001b[0;34m.\u001b[0m\u001b[0mdataset_BreastCancer\u001b[0m \u001b[0;32mimport\u001b[0m \u001b[0mcreate_dataloaders\u001b[0m\u001b[0;34m\u001b[0m\u001b[0;34m\u001b[0m\u001b[0m\n\u001b[1;32m      2\u001b[0m \u001b[0;34m\u001b[0m\u001b[0m\n\u001b[0;32m----> 3\u001b[0;31m \u001b[0mtrain_val1\u001b[0m\u001b[0;34m,\u001b[0m \u001b[0mtrain_val2\u001b[0m\u001b[0;34m,\u001b[0m \u001b[0mtest_dataloader\u001b[0m\u001b[0;34m,\u001b[0m \u001b[0mtrain_val3\u001b[0m \u001b[0;34m=\u001b[0m \u001b[0mcreate_dataloaders\u001b[0m\u001b[0;34m(\u001b[0m\u001b[0mseed\u001b[0m\u001b[0;34m=\u001b[0m\u001b[0;36m2019\u001b[0m \u001b[0;34m,\u001b[0m \u001b[0mbatch_size\u001b[0m \u001b[0;34m=\u001b[0m \u001b[0;36m32\u001b[0m\u001b[0;34m)\u001b[0m\u001b[0;34m\u001b[0m\u001b[0;34m\u001b[0m\u001b[0m\n\u001b[0m\u001b[1;32m      4\u001b[0m \u001b[0mtrain_dataloader1\u001b[0m \u001b[0;34m=\u001b[0m \u001b[0mtrain_val1\u001b[0m\u001b[0;34m[\u001b[0m\u001b[0;36m0\u001b[0m\u001b[0;34m]\u001b[0m\u001b[0;34m\u001b[0m\u001b[0;34m\u001b[0m\u001b[0m\n\u001b[1;32m      5\u001b[0m \u001b[0mval_dataloader1\u001b[0m \u001b[0;34m=\u001b[0m \u001b[0mtrain_val1\u001b[0m\u001b[0;34m[\u001b[0m\u001b[0;36m1\u001b[0m\u001b[0;34m]\u001b[0m\u001b[0;34m\u001b[0m\u001b[0;34m\u001b[0m\u001b[0m\n",
            "\u001b[0;32m/content/Orthogonal-Alignment/src/dataset_BreastCancer.py\u001b[0m in \u001b[0;36mcreate_dataloaders\u001b[0;34m(seed, batch_size)\u001b[0m\n\u001b[1;32m     41\u001b[0m   \u001b[0mtorch\u001b[0m\u001b[0;34m.\u001b[0m\u001b[0mmanual_seed\u001b[0m\u001b[0;34m(\u001b[0m\u001b[0mseed\u001b[0m\u001b[0;34m)\u001b[0m\u001b[0;34m\u001b[0m\u001b[0;34m\u001b[0m\u001b[0m\n\u001b[1;32m     42\u001b[0m   \u001b[0mpairs\u001b[0m  \u001b[0;34m=\u001b[0m \u001b[0mrandom\u001b[0m\u001b[0;34m.\u001b[0m\u001b[0mshuffle\u001b[0m\u001b[0;34m(\u001b[0m\u001b[0mpairs\u001b[0m\u001b[0;34m)\u001b[0m\u001b[0;34m\u001b[0m\u001b[0;34m\u001b[0m\u001b[0m\n\u001b[0;32m---> 43\u001b[0;31m   \u001b[0mtest\u001b[0m \u001b[0;34m=\u001b[0m \u001b[0mpairs\u001b[0m\u001b[0;34m[\u001b[0m\u001b[0mint\u001b[0m\u001b[0;34m(\u001b[0m\u001b[0mlen\u001b[0m\u001b[0;34m(\u001b[0m\u001b[0mpairs\u001b[0m\u001b[0;34m)\u001b[0m\u001b[0;34m*\u001b[0m\u001b[0;36m0.9\u001b[0m\u001b[0;34m)\u001b[0m\u001b[0;34m:\u001b[0m\u001b[0;34m]\u001b[0m\u001b[0;34m\u001b[0m\u001b[0;34m\u001b[0m\u001b[0m\n\u001b[0m\u001b[1;32m     44\u001b[0m \u001b[0;34m\u001b[0m\u001b[0m\n\u001b[1;32m     45\u001b[0m   \u001b[0;31m#test dataloader\u001b[0m\u001b[0;34m\u001b[0m\u001b[0;34m\u001b[0m\u001b[0m\n",
            "\u001b[0;31mTypeError\u001b[0m: object of type 'NoneType' has no len()"
          ]
        }
      ]
    },
    {
      "cell_type": "code",
      "source": [
        "from src.models import MLP_4"
      ],
      "metadata": {
        "id": "H9L-2xXA24ac"
      },
      "execution_count": null,
      "outputs": []
    },
    {
      "cell_type": "markdown",
      "source": [
        "```\n",
        "class MLP_4(nn.Module):\n",
        "    def __init__(self):\n",
        "        super().__init__()\n",
        "        self.fc = nn.Sequential(\n",
        "            nn.Linear(30, 1024),\n",
        "            nn.ReLU(),\n",
        "            nn.Linear(1024, 1024),\n",
        "            nn.ReLU(),\n",
        "            nn.Linear(1024, 512),\n",
        "            nn.ReLU(),\n",
        "            nn.Linear(512, 2)\n",
        "        )\n",
        "\n",
        "    def forward(self, x):\n",
        "        return self.fc(x)\n",
        "```"
      ],
      "metadata": {
        "id": "-KKYE67jHS_p"
      }
    },
    {
      "cell_type": "code",
      "source": [
        "torch.manual_seed(26)\n",
        "model1 = MLP_4().to(device)\n",
        "torch.manual_seed(394)\n",
        "model2 = MLP_4().to(device)"
      ],
      "metadata": {
        "id": "MGscZWVW3Kn3"
      },
      "execution_count": null,
      "outputs": []
    },
    {
      "cell_type": "code",
      "source": [
        "torch.manual_seed(seed)"
      ],
      "metadata": {
        "id": "Wjn5KkS_ipFf"
      },
      "execution_count": null,
      "outputs": []
    },
    {
      "cell_type": "markdown",
      "metadata": {
        "id": "T61i0qq05_wA"
      },
      "source": [
        "##Models"
      ]
    },
    {
      "cell_type": "markdown",
      "source": [
        "**Training loop**\n",
        "\n",
        "Per l’addestramento del modello utilizzo la funzione *train_loop*, definita nel file train.py nella cartella src della repository che svolge un classico loop Pytorch di training.  \n",
        "\n",
        "In particolare:\n",
        "- **Valuation:**  \n",
        "  All’inizio di ogni epoca, il modello viene posto in modalità eval() e viene calcolata la loss media sul validation set in *torch.no_grad* (senza calcolare gradienti).\n",
        "\n",
        "- **Training:**  \n",
        "  Successivamente, il modello viene posto in modalità train().  \n",
        "  Per ogni batch del training set:\n",
        "  - effettua un forward pass del modello,\n",
        "  - calcola la loss con la CrossEntropy\n",
        "  - fa backpropagation (loss.backward())\n",
        "  - aggiorna i pesi del modello (optimizer.step()).\n",
        "  Viene poi calcolata la loss media di training per l'epoca.\n",
        "\n",
        "- **Output:**  \n",
        "  Alla fine di ogni epoca stampa a schermo la loss media di training e validazione\n",
        "\n",
        "Input della funzione:\n",
        "- train_dataloader, val_dataloader\n",
        "- model: modello PyTorch da addestrare\n",
        "- loss_fn: funzione di loss\n",
        "- optimizer: ottimizzatore per l’aggiornamento dei pesi\n",
        "- epochs: numero di epoche di addestramento\n",
        "- tr_losses, val_losses: liste su cui verranno salvate le loss"
      ],
      "metadata": {
        "id": "SAPl2fsGkAyt"
      }
    },
    {
      "cell_type": "code",
      "source": [
        "from src.train import train_loop"
      ],
      "metadata": {
        "id": "bkcLw5NNH1L_"
      },
      "execution_count": null,
      "outputs": []
    },
    {
      "cell_type": "code",
      "source": [
        "max_epochs = 30\n",
        "learning_rate = 5e-4"
      ],
      "metadata": {
        "id": "B-Mq0veJi6k7"
      },
      "execution_count": null,
      "outputs": []
    },
    {
      "cell_type": "code",
      "execution_count": null,
      "metadata": {
        "id": "tzlnfyJq1oxL",
        "collapsed": true
      },
      "outputs": [],
      "source": [
        "optimizer1 = torch.optim.Adam(model1.parameters(), lr=learning_rate, weight_decay=1e-4)\n",
        "scheduler1 = torch.optim.lr_scheduler.CosineAnnealingLR(optimizer1, T_max=max_epochs)\n",
        "loss_fn = nn.CrossEntropyLoss()\n",
        "val_losses1 = []\n",
        "tr_losses1 = []\n",
        "epochs = max_epochs\n",
        "\n",
        "train_loop(train_dataloader1, val_dataloader1, model1, loss_fn, optimizer1, epochs, tr_losses1, val_losses1)"
      ]
    },
    {
      "cell_type": "code",
      "source": [
        "optimizer2 = torch.optim.Adam(model2.parameters(), lr=learning_rate, weight_decay=1e-4)\n",
        "scheduler2 = torch.optim.lr_scheduler.CosineAnnealingLR(optimizer2, T_max=max_epochs)\n",
        "loss_fn = nn.CrossEntropyLoss()\n",
        "val_losses2 = []\n",
        "tr_losses2 = []\n",
        "epochs = max_epochs\n",
        "\n",
        "train_loop(train_dataloader2, val_dataloader2, model2, loss_fn, optimizer2, epochs, tr_losses2, val_losses2)"
      ],
      "metadata": {
        "id": "iwkCEdruaCLK"
      },
      "execution_count": null,
      "outputs": []
    },
    {
      "cell_type": "code",
      "execution_count": null,
      "metadata": {
        "id": "LNg3iSnL5BPk",
        "colab": {
          "base_uri": "https://localhost:8080/",
          "height": 448
        },
        "outputId": "ddc7840a-dce0-42bf-c168-9c2638cd29d2"
      },
      "outputs": [
        {
          "output_type": "execute_result",
          "data": {
            "text/plain": [
              "[<matplotlib.lines.Line2D at 0x7918b844b020>]"
            ]
          },
          "metadata": {},
          "execution_count": 17
        },
        {
          "output_type": "display_data",
          "data": {
            "text/plain": [
              "<Figure size 640x480 with 2 Axes>"
            ],
            "image/png": "[encoded data removed]"
          },
          "metadata": {}
        }
      ],
      "source": [
        "plt.subplot(1, 2, 1)\n",
        "plt.plot(tr_losses1)\n",
        "plt.subplot(1, 2, 2)\n",
        "plt.plot(val_losses1)"
      ]
    },
    {
      "cell_type": "code",
      "source": [
        "plt.subplot(1, 2, 1)\n",
        "plt.plot(tr_losses2)\n",
        "plt.subplot(1, 2, 2)\n",
        "plt.plot(val_losses2)"
      ],
      "metadata": {
        "colab": {
          "base_uri": "https://localhost:8080/",
          "height": 448
        },
        "id": "-CzYVZ3taSJH",
        "outputId": "b104fe24-8a50-47ef-c3f4-058187342024"
      },
      "execution_count": null,
      "outputs": [
        {
          "output_type": "execute_result",
          "data": {
            "text/plain": [
              "[<matplotlib.lines.Line2D at 0x7918b83800b0>]"
            ]
          },
          "metadata": {},
          "execution_count": 18
        },
        {
          "output_type": "display_data",
          "data": {
            "text/plain": [
              "<Figure size 640x480 with 2 Axes>"
            ],
            "image/png": "[encoded data removed]"
          },
          "metadata": {}
        }
      ]
    },
    {
      "cell_type": "markdown",
      "metadata": {
        "id": "A57ZLAtIhcAi"
      },
      "source": [
        "## ORTOHOGONAL ALIGNMENT"
      ]
    },
    {
      "cell_type": "markdown",
      "metadata": {
        "id": "-dGFEkyckZ0D"
      },
      "source": [
        "**Introduzione al problema**\n",
        "\n",
        "Nel paper \"GIT RE-BASIN: MERGING MODELS MODULO PERMUTATION SYMMETRIES\", definito $S_d$ l'insieme delle matrici di permutazione e definite $Z^{(A)} e Z^{(B)}$ come le matrici di attivazione rispettivamente per il modello A e B per un determinato layer $l$, viene risolto il problema\n",
        "\n",
        "$P = \\operatorname{argmin}_{P \\in S_d} \\sum_{i=1}^{n} || Z^{(A)}_{:, i} - PZ^{(B)}_{:, i}||^2$\n",
        "\n",
        "Analogamente risolviamo\n",
        "\n",
        "$Q = \\operatorname{argmin}_{Q^TQ=1} \\sum_{i=1}^{n} || Z^{(A)}_{:, i} - QZ^{(B)}_{:, i}||^2 = \\operatorname{argmin}_{Q^TQ=1} || Z^{(A)} - QZ^{(B)}||^2_F$\n",
        "\n",
        "in notazione matriciale, dove Q è una generica matrice ortogonale, ossia una matrice t.c. $Q^TQ = QQ^T = 1$.\n",
        "\n",
        "Estendere l'idea alle matrici ortogonali significa ampliare le possibilità di applicazione perchè queste applicano rotazioni e riflessioni."
      ]
    },
    {
      "cell_type": "markdown",
      "source": [
        "**Risoluzione del problema ai minimi quadrati**\n",
        "\n",
        "(Per comodità di scrittura e leggibilita chiamo $Z^{(A)}$ come $A$ e $Z^{(B)}$ come $B$)\n",
        "\n",
        "Iniziamo quindi da\n",
        "\n",
        "$ Q = \\operatorname{argmin}_{Q^TQ=1} || A - QB||^2_F$\n",
        "\n",
        "Applicando il quadrato:\n",
        "\n",
        "$Q = \\operatorname{argmin}_{Q^TQ=1} ||A||^2_F + ||QB||^2_F - 2Tr(Q^TB^TA)$\n",
        "\n",
        "Si puè ulteriormente semplificare notando che $||QB||^2_F = Tr(Q^TB^TBQ)=Tr(B^TB)$\n",
        "\n",
        "Risulta quindi $Q = \\operatorname{argmin}_{Q^TQ=1} ||A||^2_F + ||B||^2_F - 2Tr(Q^TB^TA)$\n",
        "\n",
        "Notiamo allora che minimizzare questa quantità equivale a massimizzare $2Tr(Q^TB^TA)$, poichè è l'unico termine in cui compare Q ed è sottratto.\n",
        "\n",
        "Sostituiamo $M = B^TA$ per poterci applicare SVD e otteniamo quindi\n",
        "$Tr(Q^TM)=Tr(Q^TUΣV^T)=Tr(U^TQVΣ^T)$\n",
        "\n",
        "Notando che $Σ = Σ^T$ e sostituendo per semplicità $R = U^TQV$ otteniamo $Tr(RΣ)$\n",
        "\n",
        "Infine poichè R è ortogonale (prodotto di matrici ortogonali) le sue righe e colonne hanno norma 1 e quindi in particolare ogni elemento $|R_{ii}| <= 1$, allora, dato che Σ è diagonale a valori positivi, $Tr(RΣ)$ viene massimizzata per $R = I$ ($I$ è l'unica matrice ortogonale con diagonale unitaria). Da questo risuta che la soluzione al nostro problema è $Q = URV^T = UV^T$.\n"
      ],
      "metadata": {
        "id": "XAolShf7zjZn"
      }
    },
    {
      "cell_type": "markdown",
      "source": [
        "```\n",
        "def Q_min_quadrati(A, B, alpha=False):\n",
        "    M = B.T @ A          # dimensione: (d, d)\n",
        "    U, _, Vt = torch.linalg.svd(M, full_matrices=False)\n",
        "    Q = U @ Vt               # dimensione (d, d)\n",
        "    return Q\n",
        "```\n",
        "\n"
      ],
      "metadata": {
        "id": "4ZP0XrUFIRCZ"
      }
    },
    {
      "cell_type": "code",
      "source": [
        "from src.orthogonal_alignment import Q_min_quadrati"
      ],
      "metadata": {
        "id": "yNqx9FhtIJ3g"
      },
      "execution_count": null,
      "outputs": []
    },
    {
      "cell_type": "markdown",
      "source": [
        "**Matrici di attivazione**\n",
        "\n",
        "Vediamo ora come computare le matrici di attivazione.\n",
        "\n",
        "La matrice di attivazione di un determinato layer si costruisce a partire dai vettori di attivazione prodotti dal layer per ogni input, che contengono i valori di attivazione dei neuroni per l'input in questione. In particolare questi vettori constituiscono le righe della matrice di attivazione, che quindi ha dimensione (Numero di input, dimensione layer).\n",
        "\n",
        "!: si utilizzano i valori di attivazione prima della ReLU, come viene fatto anche nel paper, per mantenere tutta le informazioni del layer e per una questione di stabilità (la ReLU potrebbe appiattire molti valori a zero, producendo una matrice sparsa che può dare problemi ad esempio con SVD)"
      ],
      "metadata": {
        "id": "rxg5K0NiEtcP"
      }
    },
    {
      "cell_type": "markdown",
      "source": [
        "```\n",
        "def activation_matrix(model, dataloader, layer_num, device=\"cpu\"):\n",
        "    model.eval()\n",
        "    activations_list = []\n",
        "    with torch.no_grad():\n",
        "      for batch in dataloader:\n",
        "        x = batch[\"x\"].to(device)\n",
        "        x = x.to(device)\n",
        "        for i, layer in enumerate(model.fc): #devo far passare l'input per tutti i layer fino a quello richiesto\n",
        "          x = x.view(x.size(0), -1)\n",
        "          x = layer(x)\n",
        "          if i == layer_num:  #si ferma al layer richiesto\n",
        "            break\n",
        "        activations_list.append(x)\n",
        "      A = torch.cat(activations_list, dim=0) #dimensioni: (N,d)\n",
        "    return A\n",
        "```"
      ],
      "metadata": {
        "id": "8eQktO49IbPw"
      }
    },
    {
      "cell_type": "code",
      "source": [
        "from src.orthogonal_alignment import activation_matrix"
      ],
      "metadata": {
        "id": "twydAdGLIZyu"
      },
      "execution_count": null,
      "outputs": []
    },
    {
      "cell_type": "markdown",
      "source": [
        "**Applicazione di Q ai layer**\n",
        "\n",
        "La seguente è la funzione per applicare le matrici ortogonali trovate ai layer del modello. In particolare per ogni layer calcoleremo $W = Q_iWQ_{i-1}^T$ e $b = Qb$, come fatto nel paper, poichè applicare $Q$ sia a destra che a sinistra garantisce che sia lo spazio degli input che quello degli output siano riallineati"
      ],
      "metadata": {
        "id": "qSAhgE25Kuoi"
      }
    },
    {
      "cell_type": "markdown",
      "source": [
        "```\n",
        "def apply_Q(model, Q_dict):\n",
        "    al_model = copy.deepcopy(model)\n",
        "    prev_Q = None\n",
        "\n",
        "    for i, layer in enumerate(al_model.fc):\n",
        "      if isinstance(layer, torch.nn.Linear): #applico ai layer linear\n",
        "        Q_curr = Q_dict[f\"fc{i+1}\"].to(layer.weight.device)\n",
        "        W = layer.weight.data\n",
        "        b = layer.bias.data if layer.bias is not None else None\n",
        "\n",
        "        if prev_Q is None:\n",
        "          W_al= Q_curr @ W\n",
        "        else:\n",
        "          W_al = Q_curr @ W @ prev_Q.T\n",
        "        b_al =  Q_curr @ b if b is not None else None\n",
        "\n",
        "        #Aggiornamento dei layer\n",
        "        layer.weight.data = W_al\n",
        "        layer.bias.data = b_al\n",
        "\n",
        "        prev_Q = Q_curr\n",
        "\n",
        "    return al_model\n",
        "\n",
        "```"
      ],
      "metadata": {
        "id": "5IDtTTtKIdgN"
      }
    },
    {
      "cell_type": "code",
      "source": [
        "from src.orthogonal_alignment import apply_Q"
      ],
      "metadata": {
        "id": "scRfZqhIJcN_"
      },
      "execution_count": null,
      "outputs": []
    },
    {
      "cell_type": "markdown",
      "source": [
        "La funzione *apply_Q*, però, applica al modello delle matrici Q già calcolate in precedenza, senza tenere quindi conto dell’**interazione tra i diversi layer**.\n",
        "\n",
        "Per ottimizzare l'allineamento ho deciso di utilizzare invece seguente funzione *apply_Q_layerwise*. Questa funzione infatti stima la matrice Q per ogni layer linear e poi aggiorna i pesi e i bias considerando anche le trasformazioni precedenti, in questo modo garantisce un allineamento migliore\n"
      ],
      "metadata": {
        "id": "0A7VWc1En9wS"
      }
    },
    {
      "cell_type": "markdown",
      "source": [
        "```\n",
        "def apply_Q_layerwise(model1, model2, train_dataloader1, train_dataloader2, alpha=0.7, m=True):\n",
        "    if m:\n",
        "      m1 = model1\n",
        "      al_model = copy.deepcopy(model2)\n",
        "    else:\n",
        "      m1 = model2\n",
        "      al_model = copy.deepcopy(model1)\n",
        "\n",
        "    # prendo un batch per il forward\n",
        "    x = next(iter(train_dataloader2))[\"x\"].float()\n",
        "    prev_Q = None\n",
        "\n",
        "    for i, layer in enumerate(al_model.fc):\n",
        "      if isinstance(layer, torch.nn.Linear): #applico ai layer linear\n",
        "        A, B = activation_matrix(m1, train_dataloader1, i), activation_matrix(al_model, train_dataloader2, i)\n",
        "        Q = Q_min_quadrati(A, B).to(layer.weight.device)\n",
        "        if prev_Q is None:\n",
        "          layer.weight.data = alpha * (Q @ layer.weight.data) + (1 - alpha) * layer.weight.data\n",
        "        else:\n",
        "          layer.weight.data = alpha * (Q @ layer.weight.data  @ prev_Q.T) + (1 - alpha) * layer.weight.data\n",
        "        if layer.bias.data is not None:\n",
        "          layer.bias.data = alpha * (Q @ layer.bias.data) + (1 - alpha) * layer.bias.data\n",
        "        prev_Q = Q\n",
        "\n",
        "        diff = torch.norm(A - B @ Q, 'fro')\n",
        "        ortho_err = torch.norm(Q.T @ Q - torch.eye(Q.shape[0], device=Q.device)).item()\n",
        "        det = torch.det(Q).item()\n",
        "        #print(f'Layer {i} matching error: {diff.item()}')\n",
        "        #print(f\"Layer {i} ortho_err: {ortho_err:.2e} -> Q is orthogonal: {torch.allclose(Q.T @ Q, torch.eye(Q.shape[0]), atol=1e-5)}\")\n",
        "      x = layer(x)\n",
        "\n",
        "    return al_model\n",
        "```"
      ],
      "metadata": {
        "id": "KJcK6J-6Iejb"
      }
    },
    {
      "cell_type": "code",
      "source": [
        "from src.orthogonal_alignment import apply_Q_layerwise"
      ],
      "metadata": {
        "id": "UAxxXOx5I5uo"
      },
      "execution_count": null,
      "outputs": []
    },
    {
      "cell_type": "markdown",
      "source": [
        "##Allineamento"
      ],
      "metadata": {
        "id": "2cxUp6VbgFBv"
      }
    },
    {
      "cell_type": "code",
      "source": [
        "from src.test import evaluate_model"
      ],
      "metadata": {
        "id": "_Fvyn-6yJLUB"
      },
      "execution_count": null,
      "outputs": []
    },
    {
      "cell_type": "code",
      "source": [
        "al_model_layerwise2, Q_dict2 = apply_Q_layerwise(model1, model2, train_dataloader1, train_dataloader2, 0.8, m = True)"
      ],
      "metadata": {
        "id": "D8QsMBIEfvu0"
      },
      "execution_count": null,
      "outputs": []
    },
    {
      "cell_type": "code",
      "source": [
        "evaluate_model(al_model_layerwise2, test_dataloader)"
      ],
      "metadata": {
        "colab": {
          "base_uri": "https://localhost:8080/"
        },
        "id": "Y2KfkQ2z7dcB",
        "outputId": "c10f986b-b5ce-49ad-9666-ef7ef7864de7"
      },
      "execution_count": null,
      "outputs": [
        {
          "output_type": "execute_result",
          "data": {
            "text/plain": [
              "0.5396559238433838"
            ]
          },
          "metadata": {},
          "execution_count": 241
        }
      ]
    },
    {
      "cell_type": "code",
      "source": [
        "al_model_layerwise1, Q_dict1 = apply_Q_layerwise(model1, model2, train_dataloader1, train_dataloader2, 0.8, m = False)"
      ],
      "metadata": {
        "id": "Zpz8DU3hFbH-"
      },
      "execution_count": null,
      "outputs": []
    },
    {
      "cell_type": "code",
      "source": [
        "evaluate_model(al_model_layerwise1, test_dataloader)"
      ],
      "metadata": {
        "colab": {
          "base_uri": "https://localhost:8080/"
        },
        "id": "K0MnE-KtNamf",
        "outputId": "d51b5162-8075-4150-9441-36c2c04b08a0"
      },
      "execution_count": null,
      "outputs": [
        {
          "output_type": "execute_result",
          "data": {
            "text/plain": [
              "0.7360033988952637"
            ]
          },
          "metadata": {},
          "execution_count": 253
        }
      ]
    },
    {
      "cell_type": "markdown",
      "source": [
        "##Re-basin"
      ],
      "metadata": {
        "id": "HxP9eNBPPnw6"
      }
    },
    {
      "cell_type": "code",
      "source": [
        "!pip install rebasin"
      ],
      "metadata": {
        "id": "zl2M8haJLD7U"
      },
      "execution_count": null,
      "outputs": []
    },
    {
      "cell_type": "code",
      "source": [
        "from rebasin import PermutationCoordinateDescent, interpolation\n",
        "\n",
        "al_model_perm2 = copy.deepcopy(model2) #creo una copia di model2 perchè l'allineamento dei pesi avverà in loco\n",
        "\n",
        "batch = next(iter(train_dataloader2))\n",
        "inputs = batch[\"x\"].to(\"cpu\").float()\n",
        "\n",
        "pcd = PermutationCoordinateDescent(model1, al_model_perm2, inputs, device_a=device, device_b=device)\n",
        "pcd.rebasin()\n",
        "\n",
        "model1.to(device)\n",
        "al_model_perm2.to(device)\n",
        "\n",
        "al_model_perm1 = copy.deepcopy(model1)\n",
        "\n",
        "batch = next(iter(train_dataloader1))\n",
        "inputs = batch[\"x\"].to(\"cpu\").float()\n",
        "\n",
        "pcd = PermutationCoordinateDescent(model2, al_model_perm1, inputs, device_a=device, device_b=device)\n",
        "pcd.rebasin()"
      ],
      "metadata": {
        "id": "aqJm2A5ELE_w"
      },
      "execution_count": null,
      "outputs": []
    },
    {
      "cell_type": "markdown",
      "source": [
        "##Merge: LERP e SLERP"
      ],
      "metadata": {
        "id": "Nw2xAupIJUgP"
      }
    },
    {
      "cell_type": "markdown",
      "source": [
        "Per analizzare il comportamento dei modelli sull'interpolazione utilizzo:\n",
        "- **lerp** e **slerp** (interpolazione lineare e sferica)\n",
        "\n",
        "- **Funzioni di plotting e confronto delle loss**:  \n",
        "  Queste funzioni generano dei grafici in cui viene confrontata l’interpolazione dei modelli prima e dopo l’allineamento dei pesi fatto con *apply_Q_layerwise* e calcolano  i valori di loss minima lungo l’interpolazione.\n"
      ],
      "metadata": {
        "id": "0mBnZV4_z9AI"
      }
    },
    {
      "cell_type": "code",
      "source": [
        "from src.merge import lerp_models, slerp_models"
      ],
      "metadata": {
        "id": "PUD7-kw9k8y6"
      },
      "execution_count": null,
      "outputs": []
    },
    {
      "cell_type": "code",
      "source": [
        "from src.test_merge import loss_vs_alpha_ort_al2, loss_vs_alpha_ort_al1"
      ],
      "metadata": {
        "id": "y59AP7Yvpqjv"
      },
      "execution_count": null,
      "outputs": []
    },
    {
      "cell_type": "code",
      "source": [
        "lerp1, slerp1, allerp1, alslerp1 = loss_vs_alpha_ort_al1(model1, model2, al_model_layerwise1, test_dataloader)"
      ],
      "metadata": {
        "colab": {
          "base_uri": "https://localhost:8080/",
          "height": 483
        },
        "id": "rsLEw-nNnCWh",
        "outputId": "898fcf5f-9c4d-4430-81d2-c67897af7468"
      },
      "execution_count": null,
      "outputs": [
        {
          "output_type": "stream",
          "name": "stderr",
          "text": [
            "100%|██████████| 11/11 [00:01<00:00,  8.31it/s]\n"
          ]
        },
        {
          "output_type": "display_data",
          "data": {
            "text/plain": [
              "<Figure size 1000x500 with 1 Axes>"
            ],
            "image/png": "[encoded data removed]"
          },
          "metadata": {}
        }
      ]
    },
    {
      "cell_type": "code",
      "source": [
        "lerp2, slerp2, allerp2, alslerp2 = loss_vs_alpha_ort_al2(model1, model2, al_model_layerwise2, test_dataloader)"
      ],
      "metadata": {
        "colab": {
          "base_uri": "https://localhost:8080/",
          "height": 483
        },
        "id": "XAlabC6sKfCH",
        "outputId": "553f477b-9d43-455b-96de-567154415c38"
      },
      "execution_count": null,
      "outputs": [
        {
          "output_type": "stream",
          "name": "stderr",
          "text": [
            "100%|██████████| 11/11 [00:00<00:00, 11.49it/s]\n"
          ]
        },
        {
          "output_type": "display_data",
          "data": {
            "text/plain": [
              "<Figure size 1000x500 with 1 Axes>"
            ],
            "image/png": "[encoded data removed]"
          },
          "metadata": {}
        }
      ]
    },
    {
      "cell_type": "code",
      "source": [
        "data = [\n",
        "    [\"LERP\", allerp1[0], allerp2[0], lerp1[0], lerp2[0]],\n",
        "    [\"SLERP\", alslerp1[0], alslerp2[0], slerp1[0], slerp2[0]]\n",
        "]\n",
        "headers = [\"\",\"modello_allinato1\", \"modello_allinato2\", \"modello1\", \"modello2\"]\n",
        "\n",
        "print(tabulate(data, headers=headers, tablefmt=\"grid\"))"
      ],
      "metadata": {
        "id": "hFhlsq01Pbho"
      },
      "execution_count": null,
      "outputs": []
    },
    {
      "cell_type": "code",
      "source": [
        "from src.test_merge import loss_vs_alpha_withperm1, loss_vs_alpha_withperm2"
      ],
      "metadata": {
        "id": "qv6P2Qfvp0I5"
      },
      "execution_count": null,
      "outputs": []
    },
    {
      "cell_type": "code",
      "source": [
        "lerp2, slerp2, allerp2, alslerp2, permlerp2, permslerp2 = loss_vs_alpha_withperm2(model1, model2, al_model_layerwise2, al_model_perm2, test_dataloader)"
      ],
      "metadata": {
        "colab": {
          "base_uri": "https://localhost:8080/",
          "height": 960
        },
        "id": "-J-ozqHkUVLW",
        "outputId": "2c386afc-3198-4f63-c328-b8f19bccbd7f"
      },
      "execution_count": null,
      "outputs": [
        {
          "output_type": "stream",
          "name": "stderr",
          "text": [
            "100%|██████████| 11/11 [00:01<00:00,  5.65it/s]\n"
          ]
        },
        {
          "output_type": "display_data",
          "data": {
            "text/plain": [
              "<Figure size 1000x500 with 1 Axes>"
            ],
            "image/png": "[encoded data removed]"
          },
          "metadata": {}
        },
        {
          "output_type": "display_data",
          "data": {
            "text/plain": [
              "<Figure size 640x480 with 1 Axes>"
            ],
            "image/png": "[encoded data removed]"
          },
          "metadata": {}
        }
      ]
    },
    {
      "cell_type": "code",
      "source": [
        "lerp1, slerp1, allerp1, alslerp1, permlerp1, permslerp1 = loss_vs_alpha_withperm1(model1, model2, al_model_layerwise1, al_model_perm1, test_dataloader)\n"
      ],
      "metadata": {
        "id": "JcCG-DdY2BAr"
      },
      "execution_count": null,
      "outputs": []
    },
    {
      "cell_type": "code",
      "source": [
        "data = [\n",
        "    [\"LERP\", allerp1[0], permlerp1[0], allerp2[0], permlerp2[0], lerp1[0], slerp1[0]],\n",
        "    [\"SLERP\", alslerp1[0], permslerp1[0], alslerp2[0], permslerp2[0], slerp1[0], slerp2[0]]\n",
        "]\n",
        "headers = [\"\",\"modello_ort_1\", \"modello_perm_1\", \"modello_ort_2\", \"modello_perm_2\" , \"modello1\", \"modello2\"]\n",
        "\n",
        "print(tabulate(data, headers=headers, tablefmt=\"grid\"))"
      ],
      "metadata": {
        "id": "5vAJA10SQigY"
      },
      "execution_count": null,
      "outputs": []
    },
    {
      "cell_type": "markdown",
      "source": [
        "##Analisi non linearità"
      ],
      "metadata": {
        "id": "V8RNDBheIeC_"
      }
    },
    {
      "cell_type": "code",
      "source": [
        "from src.test import misalignment_ReLU"
      ],
      "metadata": {
        "id": "432a33kwJc5q"
      },
      "execution_count": null,
      "outputs": []
    },
    {
      "cell_type": "markdown",
      "source": [
        "La funzione *misalignment_ReLU* misura, per ciascun layer lineare di due modelli, la differenza tra le attivazioni prima e dopo l’applicazione della ReLU tramite la norma di Fobenius\n",
        "\n",
        "Input della funzione:\n",
        "- modello 1\n",
        "- modello allineato all'1\n",
        "- train dataloader\n",
        "- dizionario Q_dict delle matrici utilizzate per l'allineamento"
      ],
      "metadata": {
        "id": "0A6SDyifJYtf"
      }
    },
    {
      "cell_type": "code",
      "source": [
        "misalignment_ReLU(model1, al_model_layerwise1, train_dataloader1, Q_dict1)"
      ],
      "metadata": {
        "id": "cxsNh6u7Iten"
      },
      "execution_count": null,
      "outputs": []
    },
    {
      "cell_type": "markdown",
      "source": [
        "Si nota che la ReLU migliora l'effetto dell'ortogonalizzazione nonostante la non-linearità, questo probabilmente perchè i valori target del nostro modello sono tutti positivi e la ReLU annulla i valori negativi trasformandoli in zeri"
      ],
      "metadata": {
        "id": "uc6A1XpLEiYB"
      }
    },
    {
      "cell_type": "markdown",
      "source": [
        "##Cycle-consistency"
      ],
      "metadata": {
        "id": "sIRYvfRKTaIL"
      }
    },
    {
      "cell_type": "markdown",
      "source": [
        "Calcolando la cycle consistency verifico se gli allineamenti fatti sono **reversibili** e **coerenti**.\n",
        "\n",
        "In particolare:\n",
        "- A -> B -> A: (funzione *cycle_consistency_ABA*) allineo A a B e poi il modello ottenuto di nuovo ad A, poi confronto i pesi finali con quelli di A per misurare quanto l'allineamento sia reversibile.\n",
        "\n",
        "- A -> B -> C vs A -> C: (funzione *cycle_consistency_ABC*) allineo A a B e il modello ottenuto a C, poi allineo A (originale) a C e confronto i due modelli ottenuti; se sono simili vuol dire che l’allineamento tra più modelli è consistente."
      ],
      "metadata": {
        "id": "SFK2yNqOGH-a"
      }
    },
    {
      "cell_type": "code",
      "source": [
        "from src.test import cycle_consistency_ABA, cycle_consistency_ABC"
      ],
      "metadata": {
        "id": "rCmCnQBr6_Qo"
      },
      "execution_count": null,
      "outputs": []
    },
    {
      "cell_type": "code",
      "source": [
        "torch.manual_seed(5)\n",
        "model3 = MLP_4().to(device)\n",
        "\n",
        "optimizer3 = torch.optim.Adam(model3.parameters(), lr=learning_rate, weight_decay=1e-4)\n",
        "scheduler3 = torch.optim.lr_scheduler.CosineAnnealingLR(optimizer3, T_max=max_epochs)\n",
        "loss_fn = nn.CrossEntropyLoss()\n",
        "val_losses3 = []\n",
        "tr_losses3 = []\n",
        "epochs = max_epochs\n",
        "\n",
        "\n",
        "train_loop(train_val3[0], train_val3[1], model3, loss_fn, optimizer2, epochs, tr_losses2, val_losses2)"
      ],
      "metadata": {
        "id": "Arjn0ergAHoE"
      },
      "execution_count": null,
      "outputs": []
    },
    {
      "cell_type": "code",
      "source": [
        "cycle_consistency_ABA(model1, model2, train_dataloader1, train_dataloader2)"
      ],
      "metadata": {
        "id": "lnvDmOPnFaju"
      },
      "execution_count": null,
      "outputs": []
    },
    {
      "cell_type": "code",
      "source": [
        "cycle_consistency_ABC(model1, model2, model3, train_dataloader1, train_dataloader2, train_val3[0])"
      ],
      "metadata": {
        "id": "qZcpHG-xFnSU"
      },
      "execution_count": null,
      "outputs": []
    }
  ],
  "metadata": {
    "colab": {
      "provenance": []
    },
    "kernelspec": {
      "display_name": "Python 3",
      "name": "python3"
    },
    "language_info": {
      "name": "python"
    },
    "widgets": {
      "application/vnd.jupyter.widget-state+json": {
        "9c10b5dd03b142808b9babf04dd5993a": {
          "model_module": "@jupyter-widgets/controls",
          "model_name": "HBoxModel",
          "model_module_version": "1.5.0",
          "state": {
            "_dom_classes": [],
            "_model_module": "@jupyter-widgets/controls",
            "_model_module_version": "1.5.0",
            "_model_name": "HBoxModel",
            "_view_count": null,
            "_view_module": "@jupyter-widgets/controls",
            "_view_module_version": "1.5.0",
            "_view_name": "HBoxView",
            "box_style": "",
            "children": [
              "IPY_MODEL_212d476ccb0f4fb692ae715726e624c6",
              "IPY_MODEL_2e4dfcf2374345bd95f1e61f4053ac5f",
              "IPY_MODEL_133c5e2d43844002af1026378814c395"
            ],
            "layout": "IPY_MODEL_59c597217efa4de3a110080b5d8198be"
          }
        },
        "212d476ccb0f4fb692ae715726e624c6": {
          "model_module": "@jupyter-widgets/controls",
          "model_name": "HTMLModel",
          "model_module_version": "1.5.0",
          "state": {
            "_dom_classes": [],
            "_model_module": "@jupyter-widgets/controls",
            "_model_module_version": "1.5.0",
            "_model_name": "HTMLModel",
            "_view_count": null,
            "_view_module": "@jupyter-widgets/controls",
            "_view_module_version": "1.5.0",
            "_view_name": "HTMLView",
            "description": "",
            "description_tooltip": null,
            "layout": "IPY_MODEL_701c610d0cd74977b4895621ca34bc03",
            "placeholder": "​",
            "style": "IPY_MODEL_27779ade793049448541aa34e1b9a70d",
            "value": "README.md: "
          }
        },
        "2e4dfcf2374345bd95f1e61f4053ac5f": {
          "model_module": "@jupyter-widgets/controls",
          "model_name": "FloatProgressModel",
          "model_module_version": "1.5.0",
          "state": {
            "_dom_classes": [],
            "_model_module": "@jupyter-widgets/controls",
            "_model_module_version": "1.5.0",
            "_model_name": "FloatProgressModel",
            "_view_count": null,
            "_view_module": "@jupyter-widgets/controls",
            "_view_module_version": "1.5.0",
            "_view_name": "ProgressView",
            "bar_style": "success",
            "description": "",
            "description_tooltip": null,
            "layout": "IPY_MODEL_2ee8488351a34fe59790fbdfd1c1b6af",
            "max": 1,
            "min": 0,
            "orientation": "horizontal",
            "style": "IPY_MODEL_46d1499a064f4b1b88efb8bd3bf07e2b",
            "value": 1
          }
        },
        "133c5e2d43844002af1026378814c395": {
          "model_module": "@jupyter-widgets/controls",
          "model_name": "HTMLModel",
          "model_module_version": "1.5.0",
          "state": {
            "_dom_classes": [],
            "_model_module": "@jupyter-widgets/controls",
            "_model_module_version": "1.5.0",
            "_model_name": "HTMLModel",
            "_view_count": null,
            "_view_module": "@jupyter-widgets/controls",
            "_view_module_version": "1.5.0",
            "_view_name": "HTMLView",
            "description": "",
            "description_tooltip": null,
            "layout": "IPY_MODEL_497d32ff913849579b030e61e74e2e12",
            "placeholder": "​",
            "style": "IPY_MODEL_554d178f66084a38858cdb243bcb874f",
            "value": " 1.63k/? [00:00&lt;00:00, 117kB/s]"
          }
        },
        "59c597217efa4de3a110080b5d8198be": {
          "model_module": "@jupyter-widgets/base",
          "model_name": "LayoutModel",
          "model_module_version": "1.2.0",
          "state": {
            "_model_module": "@jupyter-widgets/base",
            "_model_module_version": "1.2.0",
            "_model_name": "LayoutModel",
            "_view_count": null,
            "_view_module": "@jupyter-widgets/base",
            "_view_module_version": "1.2.0",
            "_view_name": "LayoutView",
            "align_content": null,
            "align_items": null,
            "align_self": null,
            "border": null,
            "bottom": null,
            "display": null,
            "flex": null,
            "flex_flow": null,
            "grid_area": null,
            "grid_auto_columns": null,
            "grid_auto_flow": null,
            "grid_auto_rows": null,
            "grid_column": null,
            "grid_gap": null,
            "grid_row": null,
            "grid_template_areas": null,
            "grid_template_columns": null,
            "grid_template_rows": null,
            "height": null,
            "justify_content": null,
            "justify_items": null,
            "left": null,
            "margin": null,
            "max_height": null,
            "max_width": null,
            "min_height": null,
            "min_width": null,
            "object_fit": null,
            "object_position": null,
            "order": null,
            "overflow": null,
            "overflow_x": null,
            "overflow_y": null,
            "padding": null,
            "right": null,
            "top": null,
            "visibility": null,
            "width": null
          }
        },
        "701c610d0cd74977b4895621ca34bc03": {
          "model_module": "@jupyter-widgets/base",
          "model_name": "LayoutModel",
          "model_module_version": "1.2.0",
          "state": {
            "_model_module": "@jupyter-widgets/base",
            "_model_module_version": "1.2.0",
            "_model_name": "LayoutModel",
            "_view_count": null,
            "_view_module": "@jupyter-widgets/base",
            "_view_module_version": "1.2.0",
            "_view_name": "LayoutView",
            "align_content": null,
            "align_items": null,
            "align_self": null,
            "border": null,
            "bottom": null,
            "display": null,
            "flex": null,
            "flex_flow": null,
            "grid_area": null,
            "grid_auto_columns": null,
            "grid_auto_flow": null,
            "grid_auto_rows": null,
            "grid_column": null,
            "grid_gap": null,
            "grid_row": null,
            "grid_template_areas": null,
            "grid_template_columns": null,
            "grid_template_rows": null,
            "height": null,
            "justify_content": null,
            "justify_items": null,
            "left": null,
            "margin": null,
            "max_height": null,
            "max_width": null,
            "min_height": null,
            "min_width": null,
            "object_fit": null,
            "object_position": null,
            "order": null,
            "overflow": null,
            "overflow_x": null,
            "overflow_y": null,
            "padding": null,
            "right": null,
            "top": null,
            "visibility": null,
            "width": null
          }
        },
        "27779ade793049448541aa34e1b9a70d": {
          "model_module": "@jupyter-widgets/controls",
          "model_name": "DescriptionStyleModel",
          "model_module_version": "1.5.0",
          "state": {
            "_model_module": "@jupyter-widgets/controls",
            "_model_module_version": "1.5.0",
            "_model_name": "DescriptionStyleModel",
            "_view_count": null,
            "_view_module": "@jupyter-widgets/base",
            "_view_module_version": "1.2.0",
            "_view_name": "StyleView",
            "description_width": ""
          }
        },
        "2ee8488351a34fe59790fbdfd1c1b6af": {
          "model_module": "@jupyter-widgets/base",
          "model_name": "LayoutModel",
          "model_module_version": "1.2.0",
          "state": {
            "_model_module": "@jupyter-widgets/base",
            "_model_module_version": "1.2.0",
            "_model_name": "LayoutModel",
            "_view_count": null,
            "_view_module": "@jupyter-widgets/base",
            "_view_module_version": "1.2.0",
            "_view_name": "LayoutView",
            "align_content": null,
            "align_items": null,
            "align_self": null,
            "border": null,
            "bottom": null,
            "display": null,
            "flex": null,
            "flex_flow": null,
            "grid_area": null,
            "grid_auto_columns": null,
            "grid_auto_flow": null,
            "grid_auto_rows": null,
            "grid_column": null,
            "grid_gap": null,
            "grid_row": null,
            "grid_template_areas": null,
            "grid_template_columns": null,
            "grid_template_rows": null,
            "height": null,
            "justify_content": null,
            "justify_items": null,
            "left": null,
            "margin": null,
            "max_height": null,
            "max_width": null,
            "min_height": null,
            "min_width": null,
            "object_fit": null,
            "object_position": null,
            "order": null,
            "overflow": null,
            "overflow_x": null,
            "overflow_y": null,
            "padding": null,
            "right": null,
            "top": null,
            "visibility": null,
            "width": "20px"
          }
        },
        "46d1499a064f4b1b88efb8bd3bf07e2b": {
          "model_module": "@jupyter-widgets/controls",
          "model_name": "ProgressStyleModel",
          "model_module_version": "1.5.0",
          "state": {
            "_model_module": "@jupyter-widgets/controls",
            "_model_module_version": "1.5.0",
            "_model_name": "ProgressStyleModel",
            "_view_count": null,
            "_view_module": "@jupyter-widgets/base",
            "_view_module_version": "1.2.0",
            "_view_name": "StyleView",
            "bar_color": null,
            "description_width": ""
          }
        },
        "497d32ff913849579b030e61e74e2e12": {
          "model_module": "@jupyter-widgets/base",
          "model_name": "LayoutModel",
          "model_module_version": "1.2.0",
          "state": {
            "_model_module": "@jupyter-widgets/base",
            "_model_module_version": "1.2.0",
            "_model_name": "LayoutModel",
            "_view_count": null,
            "_view_module": "@jupyter-widgets/base",
            "_view_module_version": "1.2.0",
            "_view_name": "LayoutView",
            "align_content": null,
            "align_items": null,
            "align_self": null,
            "border": null,
            "bottom": null,
            "display": null,
            "flex": null,
            "flex_flow": null,
            "grid_area": null,
            "grid_auto_columns": null,
            "grid_auto_flow": null,
            "grid_auto_rows": null,
            "grid_column": null,
            "grid_gap": null,
            "grid_row": null,
            "grid_template_areas": null,
            "grid_template_columns": null,
            "grid_template_rows": null,
            "height": null,
            "justify_content": null,
            "justify_items": null,
            "left": null,
            "margin": null,
            "max_height": null,
            "max_width": null,
            "min_height": null,
            "min_width": null,
            "object_fit": null,
            "object_position": null,
            "order": null,
            "overflow": null,
            "overflow_x": null,
            "overflow_y": null,
            "padding": null,
            "right": null,
            "top": null,
            "visibility": null,
            "width": null
          }
        },
        "554d178f66084a38858cdb243bcb874f": {
          "model_module": "@jupyter-widgets/controls",
          "model_name": "DescriptionStyleModel",
          "model_module_version": "1.5.0",
          "state": {
            "_model_module": "@jupyter-widgets/controls",
            "_model_module_version": "1.5.0",
            "_model_name": "DescriptionStyleModel",
            "_view_count": null,
            "_view_module": "@jupyter-widgets/base",
            "_view_module_version": "1.2.0",
            "_view_name": "StyleView",
            "description_width": ""
          }
        },
        "a1f5cdaf3c5846e49155ed23fc141458": {
          "model_module": "@jupyter-widgets/controls",
          "model_name": "HBoxModel",
          "model_module_version": "1.5.0",
          "state": {
            "_dom_classes": [],
            "_model_module": "@jupyter-widgets/controls",
            "_model_module_version": "1.5.0",
            "_model_name": "HBoxModel",
            "_view_count": null,
            "_view_module": "@jupyter-widgets/controls",
            "_view_module_version": "1.5.0",
            "_view_name": "HBoxView",
            "box_style": "",
            "children": [
              "IPY_MODEL_6b43d62186a54e81bbd1d8eff07bb623",
              "IPY_MODEL_b19b7e95eaec444783a28cbccac300f6",
              "IPY_MODEL_5b70f2ea217a43af9bf7d049b35cfe15"
            ],
            "layout": "IPY_MODEL_9df10fe49ff9496389c7c962b12a49f0"
          }
        },
        "6b43d62186a54e81bbd1d8eff07bb623": {
          "model_module": "@jupyter-widgets/controls",
          "model_name": "HTMLModel",
          "model_module_version": "1.5.0",
          "state": {
            "_dom_classes": [],
            "_model_module": "@jupyter-widgets/controls",
            "_model_module_version": "1.5.0",
            "_model_name": "HTMLModel",
            "_view_count": null,
            "_view_module": "@jupyter-widgets/controls",
            "_view_module_version": "1.5.0",
            "_view_name": "HTMLView",
            "description": "",
            "description_tooltip": null,
            "layout": "IPY_MODEL_8a448fb8e8124a10a3b494c4ac60942f",
            "placeholder": "​",
            "style": "IPY_MODEL_a429dc530cf14b14a5a567d43e3ed65d",
            "value": "breast_cancer.csv: "
          }
        },
        "b19b7e95eaec444783a28cbccac300f6": {
          "model_module": "@jupyter-widgets/controls",
          "model_name": "FloatProgressModel",
          "model_module_version": "1.5.0",
          "state": {
            "_dom_classes": [],
            "_model_module": "@jupyter-widgets/controls",
            "_model_module_version": "1.5.0",
            "_model_name": "FloatProgressModel",
            "_view_count": null,
            "_view_module": "@jupyter-widgets/controls",
            "_view_module_version": "1.5.0",
            "_view_name": "ProgressView",
            "bar_style": "success",
            "description": "",
            "description_tooltip": null,
            "layout": "IPY_MODEL_30c2483432e54dc3a783fba32ee417a1",
            "max": 1,
            "min": 0,
            "orientation": "horizontal",
            "style": "IPY_MODEL_8610a178748e43f39980ea78e875da59",
            "value": 1
          }
        },
        "5b70f2ea217a43af9bf7d049b35cfe15": {
          "model_module": "@jupyter-widgets/controls",
          "model_name": "HTMLModel",
          "model_module_version": "1.5.0",
          "state": {
            "_dom_classes": [],
            "_model_module": "@jupyter-widgets/controls",
            "_model_module_version": "1.5.0",
            "_model_name": "HTMLModel",
            "_view_count": null,
            "_view_module": "@jupyter-widgets/controls",
            "_view_module_version": "1.5.0",
            "_view_name": "HTMLView",
            "description": "",
            "description_tooltip": null,
            "layout": "IPY_MODEL_52e101d4106d40fb9fe7313881bc2d78",
            "placeholder": "​",
            "style": "IPY_MODEL_532f002f1ae34c4db588bb5d178f42f0",
            "value": " 125k/? [00:00&lt;00:00, 4.68MB/s]"
          }
        },
        "9df10fe49ff9496389c7c962b12a49f0": {
          "model_module": "@jupyter-widgets/base",
          "model_name": "LayoutModel",
          "model_module_version": "1.2.0",
          "state": {
            "_model_module": "@jupyter-widgets/base",
            "_model_module_version": "1.2.0",
            "_model_name": "LayoutModel",
            "_view_count": null,
            "_view_module": "@jupyter-widgets/base",
            "_view_module_version": "1.2.0",
            "_view_name": "LayoutView",
            "align_content": null,
            "align_items": null,
            "align_self": null,
            "border": null,
            "bottom": null,
            "display": null,
            "flex": null,
            "flex_flow": null,
            "grid_area": null,
            "grid_auto_columns": null,
            "grid_auto_flow": null,
            "grid_auto_rows": null,
            "grid_column": null,
            "grid_gap": null,
            "grid_row": null,
            "grid_template_areas": null,
            "grid_template_columns": null,
            "grid_template_rows": null,
            "height": null,
            "justify_content": null,
            "justify_items": null,
            "left": null,
            "margin": null,
            "max_height": null,
            "max_width": null,
            "min_height": null,
            "min_width": null,
            "object_fit": null,
            "object_position": null,
            "order": null,
            "overflow": null,
            "overflow_x": null,
            "overflow_y": null,
            "padding": null,
            "right": null,
            "top": null,
            "visibility": null,
            "width": null
          }
        },
        "8a448fb8e8124a10a3b494c4ac60942f": {
          "model_module": "@jupyter-widgets/base",
          "model_name": "LayoutModel",
          "model_module_version": "1.2.0",
          "state": {
            "_model_module": "@jupyter-widgets/base",
            "_model_module_version": "1.2.0",
            "_model_name": "LayoutModel",
            "_view_count": null,
            "_view_module": "@jupyter-widgets/base",
            "_view_module_version": "1.2.0",
            "_view_name": "LayoutView",
            "align_content": null,
            "align_items": null,
            "align_self": null,
            "border": null,
            "bottom": null,
            "display": null,
            "flex": null,
            "flex_flow": null,
            "grid_area": null,
            "grid_auto_columns": null,
            "grid_auto_flow": null,
            "grid_auto_rows": null,
            "grid_column": null,
            "grid_gap": null,
            "grid_row": null,
            "grid_template_areas": null,
            "grid_template_columns": null,
            "grid_template_rows": null,
            "height": null,
            "justify_content": null,
            "justify_items": null,
            "left": null,
            "margin": null,
            "max_height": null,
            "max_width": null,
            "min_height": null,
            "min_width": null,
            "object_fit": null,
            "object_position": null,
            "order": null,
            "overflow": null,
            "overflow_x": null,
            "overflow_y": null,
            "padding": null,
            "right": null,
            "top": null,
            "visibility": null,
            "width": null
          }
        },
        "a429dc530cf14b14a5a567d43e3ed65d": {
          "model_module": "@jupyter-widgets/controls",
          "model_name": "DescriptionStyleModel",
          "model_module_version": "1.5.0",
          "state": {
            "_model_module": "@jupyter-widgets/controls",
            "_model_module_version": "1.5.0",
            "_model_name": "DescriptionStyleModel",
            "_view_count": null,
            "_view_module": "@jupyter-widgets/base",
            "_view_module_version": "1.2.0",
            "_view_name": "StyleView",
            "description_width": ""
          }
        },
        "30c2483432e54dc3a783fba32ee417a1": {
          "model_module": "@jupyter-widgets/base",
          "model_name": "LayoutModel",
          "model_module_version": "1.2.0",
          "state": {
            "_model_module": "@jupyter-widgets/base",
            "_model_module_version": "1.2.0",
            "_model_name": "LayoutModel",
            "_view_count": null,
            "_view_module": "@jupyter-widgets/base",
            "_view_module_version": "1.2.0",
            "_view_name": "LayoutView",
            "align_content": null,
            "align_items": null,
            "align_self": null,
            "border": null,
            "bottom": null,
            "display": null,
            "flex": null,
            "flex_flow": null,
            "grid_area": null,
            "grid_auto_columns": null,
            "grid_auto_flow": null,
            "grid_auto_rows": null,
            "grid_column": null,
            "grid_gap": null,
            "grid_row": null,
            "grid_template_areas": null,
            "grid_template_columns": null,
            "grid_template_rows": null,
            "height": null,
            "justify_content": null,
            "justify_items": null,
            "left": null,
            "margin": null,
            "max_height": null,
            "max_width": null,
            "min_height": null,
            "min_width": null,
            "object_fit": null,
            "object_position": null,
            "order": null,
            "overflow": null,
            "overflow_x": null,
            "overflow_y": null,
            "padding": null,
            "right": null,
            "top": null,
            "visibility": null,
            "width": "20px"
          }
        },
        "8610a178748e43f39980ea78e875da59": {
          "model_module": "@jupyter-widgets/controls",
          "model_name": "ProgressStyleModel",
          "model_module_version": "1.5.0",
          "state": {
            "_model_module": "@jupyter-widgets/controls",
            "_model_module_version": "1.5.0",
            "_model_name": "ProgressStyleModel",
            "_view_count": null,
            "_view_module": "@jupyter-widgets/base",
            "_view_module_version": "1.2.0",
            "_view_name": "StyleView",
            "bar_color": null,
            "description_width": ""
          }
        },
        "52e101d4106d40fb9fe7313881bc2d78": {
          "model_module": "@jupyter-widgets/base",
          "model_name": "LayoutModel",
          "model_module_version": "1.2.0",
          "state": {
            "_model_module": "@jupyter-widgets/base",
            "_model_module_version": "1.2.0",
            "_model_name": "LayoutModel",
            "_view_count": null,
            "_view_module": "@jupyter-widgets/base",
            "_view_module_version": "1.2.0",
            "_view_name": "LayoutView",
            "align_content": null,
            "align_items": null,
            "align_self": null,
            "border": null,
            "bottom": null,
            "display": null,
            "flex": null,
            "flex_flow": null,
            "grid_area": null,
            "grid_auto_columns": null,
            "grid_auto_flow": null,
            "grid_auto_rows": null,
            "grid_column": null,
            "grid_gap": null,
            "grid_row": null,
            "grid_template_areas": null,
            "grid_template_columns": null,
            "grid_template_rows": null,
            "height": null,
            "justify_content": null,
            "justify_items": null,
            "left": null,
            "margin": null,
            "max_height": null,
            "max_width": null,
            "min_height": null,
            "min_width": null,
            "object_fit": null,
            "object_position": null,
            "order": null,
            "overflow": null,
            "overflow_x": null,
            "overflow_y": null,
            "padding": null,
            "right": null,
            "top": null,
            "visibility": null,
            "width": null
          }
        },
        "532f002f1ae34c4db588bb5d178f42f0": {
          "model_module": "@jupyter-widgets/controls",
          "model_name": "DescriptionStyleModel",
          "model_module_version": "1.5.0",
          "state": {
            "_model_module": "@jupyter-widgets/controls",
            "_model_module_version": "1.5.0",
            "_model_name": "DescriptionStyleModel",
            "_view_count": null,
            "_view_module": "@jupyter-widgets/base",
            "_view_module_version": "1.2.0",
            "_view_name": "StyleView",
            "description_width": ""
          }
        },
        "7db4cf80c9fc4f53a33ab62e72eaffd5": {
          "model_module": "@jupyter-widgets/controls",
          "model_name": "HBoxModel",
          "model_module_version": "1.5.0",
          "state": {
            "_dom_classes": [],
            "_model_module": "@jupyter-widgets/controls",
            "_model_module_version": "1.5.0",
            "_model_name": "HBoxModel",
            "_view_count": null,
            "_view_module": "@jupyter-widgets/controls",
            "_view_module_version": "1.5.0",
            "_view_name": "HBoxView",
            "box_style": "",
            "children": [
              "IPY_MODEL_b8aa57202ac8476fa50c01aebbe8b7d0",
              "IPY_MODEL_31e8c83a066f44aeb11ae65d7d47899f",
              "IPY_MODEL_886106e4caa04a448556aae2b39a6dcf"
            ],
            "layout": "IPY_MODEL_dca7d4297adf4049909833cc017a2462"
          }
        },
        "b8aa57202ac8476fa50c01aebbe8b7d0": {
          "model_module": "@jupyter-widgets/controls",
          "model_name": "HTMLModel",
          "model_module_version": "1.5.0",
          "state": {
            "_dom_classes": [],
            "_model_module": "@jupyter-widgets/controls",
            "_model_module_version": "1.5.0",
            "_model_name": "HTMLModel",
            "_view_count": null,
            "_view_module": "@jupyter-widgets/controls",
            "_view_module_version": "1.5.0",
            "_view_name": "HTMLView",
            "description": "",
            "description_tooltip": null,
            "layout": "IPY_MODEL_19fd618acb1f4d509e2bda158c5bdf6f",
            "placeholder": "​",
            "style": "IPY_MODEL_1731a7284dfc44348a68d1fed68c9e9f",
            "value": "Generating train split: 100%"
          }
        },
        "31e8c83a066f44aeb11ae65d7d47899f": {
          "model_module": "@jupyter-widgets/controls",
          "model_name": "FloatProgressModel",
          "model_module_version": "1.5.0",
          "state": {
            "_dom_classes": [],
            "_model_module": "@jupyter-widgets/controls",
            "_model_module_version": "1.5.0",
            "_model_name": "FloatProgressModel",
            "_view_count": null,
            "_view_module": "@jupyter-widgets/controls",
            "_view_module_version": "1.5.0",
            "_view_name": "ProgressView",
            "bar_style": "success",
            "description": "",
            "description_tooltip": null,
            "layout": "IPY_MODEL_5be867dbc49444309abb5e4a615bd1b6",
            "max": 569,
            "min": 0,
            "orientation": "horizontal",
            "style": "IPY_MODEL_29011acd1ad64570bb2073e2c071c518",
            "value": 569
          }
        },
        "886106e4caa04a448556aae2b39a6dcf": {
          "model_module": "@jupyter-widgets/controls",
          "model_name": "HTMLModel",
          "model_module_version": "1.5.0",
          "state": {
            "_dom_classes": [],
            "_model_module": "@jupyter-widgets/controls",
            "_model_module_version": "1.5.0",
            "_model_name": "HTMLModel",
            "_view_count": null,
            "_view_module": "@jupyter-widgets/controls",
            "_view_module_version": "1.5.0",
            "_view_name": "HTMLView",
            "description": "",
            "description_tooltip": null,
            "layout": "IPY_MODEL_6662ab33b3864170b0f5d2e366072cd9",
            "placeholder": "​",
            "style": "IPY_MODEL_9ec4327c076c40da955e1bc5da0e1867",
            "value": " 569/569 [00:00&lt;00:00, 10198.01 examples/s]"
          }
        },
        "dca7d4297adf4049909833cc017a2462": {
          "model_module": "@jupyter-widgets/base",
          "model_name": "LayoutModel",
          "model_module_version": "1.2.0",
          "state": {
            "_model_module": "@jupyter-widgets/base",
            "_model_module_version": "1.2.0",
            "_model_name": "LayoutModel",
            "_view_count": null,
            "_view_module": "@jupyter-widgets/base",
            "_view_module_version": "1.2.0",
            "_view_name": "LayoutView",
            "align_content": null,
            "align_items": null,
            "align_self": null,
            "border": null,
            "bottom": null,
            "display": null,
            "flex": null,
            "flex_flow": null,
            "grid_area": null,
            "grid_auto_columns": null,
            "grid_auto_flow": null,
            "grid_auto_rows": null,
            "grid_column": null,
            "grid_gap": null,
            "grid_row": null,
            "grid_template_areas": null,
            "grid_template_columns": null,
            "grid_template_rows": null,
            "height": null,
            "justify_content": null,
            "justify_items": null,
            "left": null,
            "margin": null,
            "max_height": null,
            "max_width": null,
            "min_height": null,
            "min_width": null,
            "object_fit": null,
            "object_position": null,
            "order": null,
            "overflow": null,
            "overflow_x": null,
            "overflow_y": null,
            "padding": null,
            "right": null,
            "top": null,
            "visibility": null,
            "width": null
          }
        },
        "19fd618acb1f4d509e2bda158c5bdf6f": {
          "model_module": "@jupyter-widgets/base",
          "model_name": "LayoutModel",
          "model_module_version": "1.2.0",
          "state": {
            "_model_module": "@jupyter-widgets/base",
            "_model_module_version": "1.2.0",
            "_model_name": "LayoutModel",
            "_view_count": null,
            "_view_module": "@jupyter-widgets/base",
            "_view_module_version": "1.2.0",
            "_view_name": "LayoutView",
            "align_content": null,
            "align_items": null,
            "align_self": null,
            "border": null,
            "bottom": null,
            "display": null,
            "flex": null,
            "flex_flow": null,
            "grid_area": null,
            "grid_auto_columns": null,
            "grid_auto_flow": null,
            "grid_auto_rows": null,
            "grid_column": null,
            "grid_gap": null,
            "grid_row": null,
            "grid_template_areas": null,
            "grid_template_columns": null,
            "grid_template_rows": null,
            "height": null,
            "justify_content": null,
            "justify_items": null,
            "left": null,
            "margin": null,
            "max_height": null,
            "max_width": null,
            "min_height": null,
            "min_width": null,
            "object_fit": null,
            "object_position": null,
            "order": null,
            "overflow": null,
            "overflow_x": null,
            "overflow_y": null,
            "padding": null,
            "right": null,
            "top": null,
            "visibility": null,
            "width": null
          }
        },
        "1731a7284dfc44348a68d1fed68c9e9f": {
          "model_module": "@jupyter-widgets/controls",
          "model_name": "DescriptionStyleModel",
          "model_module_version": "1.5.0",
          "state": {
            "_model_module": "@jupyter-widgets/controls",
            "_model_module_version": "1.5.0",
            "_model_name": "DescriptionStyleModel",
            "_view_count": null,
            "_view_module": "@jupyter-widgets/base",
            "_view_module_version": "1.2.0",
            "_view_name": "StyleView",
            "description_width": ""
          }
        },
        "5be867dbc49444309abb5e4a615bd1b6": {
          "model_module": "@jupyter-widgets/base",
          "model_name": "LayoutModel",
          "model_module_version": "1.2.0",
          "state": {
            "_model_module": "@jupyter-widgets/base",
            "_model_module_version": "1.2.0",
            "_model_name": "LayoutModel",
            "_view_count": null,
            "_view_module": "@jupyter-widgets/base",
            "_view_module_version": "1.2.0",
            "_view_name": "LayoutView",
            "align_content": null,
            "align_items": null,
            "align_self": null,
            "border": null,
            "bottom": null,
            "display": null,
            "flex": null,
            "flex_flow": null,
            "grid_area": null,
            "grid_auto_columns": null,
            "grid_auto_flow": null,
            "grid_auto_rows": null,
            "grid_column": null,
            "grid_gap": null,
            "grid_row": null,
            "grid_template_areas": null,
            "grid_template_columns": null,
            "grid_template_rows": null,
            "height": null,
            "justify_content": null,
            "justify_items": null,
            "left": null,
            "margin": null,
            "max_height": null,
            "max_width": null,
            "min_height": null,
            "min_width": null,
            "object_fit": null,
            "object_position": null,
            "order": null,
            "overflow": null,
            "overflow_x": null,
            "overflow_y": null,
            "padding": null,
            "right": null,
            "top": null,
            "visibility": null,
            "width": null
          }
        },
        "29011acd1ad64570bb2073e2c071c518": {
          "model_module": "@jupyter-widgets/controls",
          "model_name": "ProgressStyleModel",
          "model_module_version": "1.5.0",
          "state": {
            "_model_module": "@jupyter-widgets/controls",
            "_model_module_version": "1.5.0",
            "_model_name": "ProgressStyleModel",
            "_view_count": null,
            "_view_module": "@jupyter-widgets/base",
            "_view_module_version": "1.2.0",
            "_view_name": "StyleView",
            "bar_color": null,
            "description_width": ""
          }
        },
        "6662ab33b3864170b0f5d2e366072cd9": {
          "model_module": "@jupyter-widgets/base",
          "model_name": "LayoutModel",
          "model_module_version": "1.2.0",
          "state": {
            "_model_module": "@jupyter-widgets/base",
            "_model_module_version": "1.2.0",
            "_model_name": "LayoutModel",
            "_view_count": null,
            "_view_module": "@jupyter-widgets/base",
            "_view_module_version": "1.2.0",
            "_view_name": "LayoutView",
            "align_content": null,
            "align_items": null,
            "align_self": null,
            "border": null,
            "bottom": null,
            "display": null,
            "flex": null,
            "flex_flow": null,
            "grid_area": null,
            "grid_auto_columns": null,
            "grid_auto_flow": null,
            "grid_auto_rows": null,
            "grid_column": null,
            "grid_gap": null,
            "grid_row": null,
            "grid_template_areas": null,
            "grid_template_columns": null,
            "grid_template_rows": null,
            "height": null,
            "justify_content": null,
            "justify_items": null,
            "left": null,
            "margin": null,
            "max_height": null,
            "max_width": null,
            "min_height": null,
            "min_width": null,
            "object_fit": null,
            "object_position": null,
            "order": null,
            "overflow": null,
            "overflow_x": null,
            "overflow_y": null,
            "padding": null,
            "right": null,
            "top": null,
            "visibility": null,
            "width": null
          }
        },
        "9ec4327c076c40da955e1bc5da0e1867": {
          "model_module": "@jupyter-widgets/controls",
          "model_name": "DescriptionStyleModel",
          "model_module_version": "1.5.0",
          "state": {
            "_model_module": "@jupyter-widgets/controls",
            "_model_module_version": "1.5.0",
            "_model_name": "DescriptionStyleModel",
            "_view_count": null,
            "_view_module": "@jupyter-widgets/base",
            "_view_module_version": "1.2.0",
            "_view_name": "StyleView",
            "description_width": ""
          }
        }
      }
    }
  },
  "nbformat": 4,
  "nbformat_minor": 0
}